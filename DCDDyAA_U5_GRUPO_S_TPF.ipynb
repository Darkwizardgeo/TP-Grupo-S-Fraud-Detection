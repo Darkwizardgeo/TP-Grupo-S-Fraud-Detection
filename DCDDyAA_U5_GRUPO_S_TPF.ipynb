{
 "cells": [
  {
   "cell_type": "code",
   "execution_count": 10,
   "id": "ff700d87",
   "metadata": {},
   "outputs": [
    {
     "name": "stdout",
     "output_type": "stream",
     "text": [
      "Requirement already satisfied: matplotlib in ./tpfinal/lib/python3.12/site-packages (3.10.6)\n",
      "Requirement already satisfied: pandas in ./tpfinal/lib/python3.12/site-packages (2.3.2)\n",
      "Requirement already satisfied: seaborn in ./tpfinal/lib/python3.12/site-packages (0.13.2)\n",
      "Requirement already satisfied: scikit-learn in ./tpfinal/lib/python3.12/site-packages (1.7.2)\n",
      "Requirement already satisfied: dtale in ./tpfinal/lib/python3.12/site-packages (3.18.2)\n",
      "Requirement already satisfied: contourpy>=1.0.1 in ./tpfinal/lib/python3.12/site-packages (from matplotlib) (1.3.3)\n",
      "Requirement already satisfied: cycler>=0.10 in ./tpfinal/lib/python3.12/site-packages (from matplotlib) (0.12.1)\n",
      "Requirement already satisfied: fonttools>=4.22.0 in ./tpfinal/lib/python3.12/site-packages (from matplotlib) (4.60.0)\n",
      "Requirement already satisfied: kiwisolver>=1.3.1 in ./tpfinal/lib/python3.12/site-packages (from matplotlib) (1.4.9)\n",
      "Requirement already satisfied: numpy>=1.23 in ./tpfinal/lib/python3.12/site-packages (from matplotlib) (2.3.3)\n",
      "Requirement already satisfied: packaging>=20.0 in ./tpfinal/lib/python3.12/site-packages (from matplotlib) (25.0)\n",
      "Requirement already satisfied: pillow>=8 in ./tpfinal/lib/python3.12/site-packages (from matplotlib) (11.3.0)\n",
      "Requirement already satisfied: pyparsing>=2.3.1 in ./tpfinal/lib/python3.12/site-packages (from matplotlib) (3.2.5)\n",
      "Requirement already satisfied: python-dateutil>=2.7 in ./tpfinal/lib/python3.12/site-packages (from matplotlib) (2.9.0.post0)\n",
      "Requirement already satisfied: pytz>=2020.1 in ./tpfinal/lib/python3.12/site-packages (from pandas) (2025.2)\n",
      "Requirement already satisfied: tzdata>=2022.7 in ./tpfinal/lib/python3.12/site-packages (from pandas) (2025.2)\n",
      "Requirement already satisfied: scipy>=1.8.0 in ./tpfinal/lib/python3.12/site-packages (from scikit-learn) (1.15.3)\n",
      "Requirement already satisfied: joblib>=1.2.0 in ./tpfinal/lib/python3.12/site-packages (from scikit-learn) (1.5.2)\n",
      "Requirement already satisfied: threadpoolctl>=3.1.0 in ./tpfinal/lib/python3.12/site-packages (from scikit-learn) (3.6.0)\n",
      "Requirement already satisfied: lz4 in ./tpfinal/lib/python3.12/site-packages (from dtale) (4.4.4)\n",
      "Requirement already satisfied: beautifulsoup4!=4.13.0b2 in ./tpfinal/lib/python3.12/site-packages (from dtale) (4.13.5)\n",
      "Requirement already satisfied: certifi in ./tpfinal/lib/python3.12/site-packages (from dtale) (2025.8.3)\n",
      "Requirement already satisfied: dash<=2.18.2 in ./tpfinal/lib/python3.12/site-packages (from dtale) (2.18.2)\n",
      "Requirement already satisfied: dash-bootstrap-components<=1.7.1 in ./tpfinal/lib/python3.12/site-packages (from dtale) (1.7.1)\n",
      "Requirement already satisfied: dash_daq<=0.5.0 in ./tpfinal/lib/python3.12/site-packages (from dtale) (0.5.0)\n",
      "Requirement already satisfied: et_xmlfile in ./tpfinal/lib/python3.12/site-packages (from dtale) (2.0.0)\n",
      "Requirement already satisfied: Flask in ./tpfinal/lib/python3.12/site-packages (from dtale) (3.0.3)\n",
      "Requirement already satisfied: Flask-Compress in ./tpfinal/lib/python3.12/site-packages (from dtale) (1.18)\n",
      "Requirement already satisfied: future>=0.14.0 in ./tpfinal/lib/python3.12/site-packages (from dtale) (1.0.0)\n",
      "Requirement already satisfied: itsdangerous in ./tpfinal/lib/python3.12/site-packages (from dtale) (2.2.0)\n",
      "Requirement already satisfied: kaleido in ./tpfinal/lib/python3.12/site-packages (from dtale) (1.1.0)\n",
      "Requirement already satisfied: missingno in ./tpfinal/lib/python3.12/site-packages (from dtale) (0.5.2)\n",
      "Requirement already satisfied: networkx in ./tpfinal/lib/python3.12/site-packages (from dtale) (3.5)\n",
      "Requirement already satisfied: openpyxl!=3.2.0b1 in ./tpfinal/lib/python3.12/site-packages (from dtale) (3.1.5)\n",
      "Requirement already satisfied: pkginfo in ./tpfinal/lib/python3.12/site-packages (from dtale) (1.12.1.2)\n",
      "Requirement already satisfied: plotly in ./tpfinal/lib/python3.12/site-packages (from dtale) (6.3.0)\n",
      "Requirement already satisfied: requests in ./tpfinal/lib/python3.12/site-packages (from dtale) (2.32.5)\n",
      "Requirement already satisfied: squarify in ./tpfinal/lib/python3.12/site-packages (from dtale) (0.4.4)\n",
      "Requirement already satisfied: statsmodels in ./tpfinal/lib/python3.12/site-packages (from dtale) (0.14.5)\n",
      "Requirement already satisfied: strsimpy in ./tpfinal/lib/python3.12/site-packages (from dtale) (0.2.1)\n",
      "Requirement already satisfied: six in ./tpfinal/lib/python3.12/site-packages (from dtale) (1.17.0)\n",
      "Requirement already satisfied: werkzeug in ./tpfinal/lib/python3.12/site-packages (from dtale) (3.0.6)\n",
      "Requirement already satisfied: xarray in ./tpfinal/lib/python3.12/site-packages (from dtale) (2025.9.0)\n",
      "Requirement already satisfied: xlrd in ./tpfinal/lib/python3.12/site-packages (from dtale) (2.0.2)\n",
      "Requirement already satisfied: soupsieve>1.2 in ./tpfinal/lib/python3.12/site-packages (from beautifulsoup4!=4.13.0b2->dtale) (2.8)\n",
      "Requirement already satisfied: typing-extensions>=4.0.0 in ./tpfinal/lib/python3.12/site-packages (from beautifulsoup4!=4.13.0b2->dtale) (4.15.0)\n",
      "Requirement already satisfied: dash-html-components==2.0.0 in ./tpfinal/lib/python3.12/site-packages (from dash<=2.18.2->dtale) (2.0.0)\n",
      "Requirement already satisfied: dash-core-components==2.0.0 in ./tpfinal/lib/python3.12/site-packages (from dash<=2.18.2->dtale) (2.0.0)\n",
      "Requirement already satisfied: dash-table==5.0.0 in ./tpfinal/lib/python3.12/site-packages (from dash<=2.18.2->dtale) (5.0.0)\n",
      "Requirement already satisfied: importlib-metadata in ./tpfinal/lib/python3.12/site-packages (from dash<=2.18.2->dtale) (8.7.0)\n",
      "Requirement already satisfied: retrying in ./tpfinal/lib/python3.12/site-packages (from dash<=2.18.2->dtale) (1.4.2)\n",
      "Requirement already satisfied: nest-asyncio in ./tpfinal/lib/python3.12/site-packages (from dash<=2.18.2->dtale) (1.6.0)\n",
      "Requirement already satisfied: setuptools in ./tpfinal/lib/python3.12/site-packages (from dash<=2.18.2->dtale) (80.9.0)\n",
      "Requirement already satisfied: Jinja2>=3.1.2 in ./tpfinal/lib/python3.12/site-packages (from Flask->dtale) (3.1.6)\n",
      "Requirement already satisfied: click>=8.1.3 in ./tpfinal/lib/python3.12/site-packages (from Flask->dtale) (8.3.0)\n",
      "Requirement already satisfied: blinker>=1.6.2 in ./tpfinal/lib/python3.12/site-packages (from Flask->dtale) (1.9.0)\n",
      "Requirement already satisfied: narwhals>=1.15.1 in ./tpfinal/lib/python3.12/site-packages (from plotly->dtale) (2.5.0)\n",
      "Requirement already satisfied: MarkupSafe>=2.1.1 in ./tpfinal/lib/python3.12/site-packages (from werkzeug->dtale) (3.0.2)\n",
      "Requirement already satisfied: brotli in ./tpfinal/lib/python3.12/site-packages (from Flask-Compress->dtale) (1.1.0)\n",
      "Requirement already satisfied: pyzstd in ./tpfinal/lib/python3.12/site-packages (from Flask-Compress->dtale) (0.17.0)\n",
      "Requirement already satisfied: choreographer>=1.0.10 in ./tpfinal/lib/python3.12/site-packages (from kaleido->dtale) (1.1.1)\n",
      "Requirement already satisfied: logistro>=1.0.8 in ./tpfinal/lib/python3.12/site-packages (from kaleido->dtale) (1.1.0)\n",
      "Requirement already satisfied: orjson>=3.10.15 in ./tpfinal/lib/python3.12/site-packages (from kaleido->dtale) (3.11.3)\n",
      "Requirement already satisfied: pytest-timeout>=2.4.0 in ./tpfinal/lib/python3.12/site-packages (from kaleido->dtale) (2.4.0)\n",
      "Requirement already satisfied: charset_normalizer<4,>=2 in ./tpfinal/lib/python3.12/site-packages (from requests->dtale) (3.4.3)\n",
      "Requirement already satisfied: idna<4,>=2.5 in ./tpfinal/lib/python3.12/site-packages (from requests->dtale) (3.10)\n",
      "Requirement already satisfied: urllib3<3,>=1.21.1 in ./tpfinal/lib/python3.12/site-packages (from requests->dtale) (2.5.0)\n",
      "Requirement already satisfied: patsy>=0.5.6 in ./tpfinal/lib/python3.12/site-packages (from statsmodels->dtale) (1.0.1)\n",
      "Requirement already satisfied: simplejson>=3.19.3 in ./tpfinal/lib/python3.12/site-packages (from choreographer>=1.0.10->kaleido->dtale) (3.20.1)\n",
      "Requirement already satisfied: pytest>=7.0.0 in ./tpfinal/lib/python3.12/site-packages (from pytest-timeout>=2.4.0->kaleido->dtale) (8.4.2)\n",
      "Requirement already satisfied: zipp>=3.20 in ./tpfinal/lib/python3.12/site-packages (from importlib-metadata->dash<=2.18.2->dtale) (3.23.0)\n",
      "Requirement already satisfied: iniconfig>=1 in ./tpfinal/lib/python3.12/site-packages (from pytest>=7.0.0->pytest-timeout>=2.4.0->kaleido->dtale) (2.1.0)\n",
      "Requirement already satisfied: pluggy<2,>=1.5 in ./tpfinal/lib/python3.12/site-packages (from pytest>=7.0.0->pytest-timeout>=2.4.0->kaleido->dtale) (1.6.0)\n",
      "Requirement already satisfied: pygments>=2.7.2 in ./tpfinal/lib/python3.12/site-packages (from pytest>=7.0.0->pytest-timeout>=2.4.0->kaleido->dtale) (2.19.2)\n",
      "\n",
      "\u001b[1m[\u001b[0m\u001b[34;49mnotice\u001b[0m\u001b[1;39;49m]\u001b[0m\u001b[39;49m A new release of pip is available: \u001b[0m\u001b[31;49m24.0\u001b[0m\u001b[39;49m -> \u001b[0m\u001b[32;49m25.2\u001b[0m\n",
      "\u001b[1m[\u001b[0m\u001b[34;49mnotice\u001b[0m\u001b[1;39;49m]\u001b[0m\u001b[39;49m To update, run: \u001b[0m\u001b[32;49mpip install --upgrade pip\u001b[0m\n",
      "Note: you may need to restart the kernel to use updated packages.\n"
     ]
    }
   ],
   "source": [
    "%pip install matplotlib pandas seaborn scikit-learn dtale seaborn"
   ]
  },
  {
   "cell_type": "code",
   "execution_count": 11,
   "id": "6144bec2",
   "metadata": {},
   "outputs": [],
   "source": [
    "import sys\n",
    "import os\n",
    "\n",
    "import dtale\n",
    "import pandas as pd\n",
    "import numpy as np\n",
    "import matplotlib.pyplot as plt\n",
    "import seaborn as sns\n",
    "\n",
    "sys.path.append(os.path.abspath(\"./src\"))\n",
    "\n",
    "from utils import fraud_licit_ratio, calcular_nulos, split_by_suffix, nan_ratio\n"
   ]
  },
  {
   "cell_type": "code",
   "execution_count": 12,
   "id": "f817f50f",
   "metadata": {},
   "outputs": [],
   "source": [
    "df_tr = pd.read_csv('./dataset/train_transaction.csv')\n",
    "df_id = pd.read_csv('./dataset/train_identity.csv')"
   ]
  },
  {
   "cell_type": "code",
   "execution_count": 13,
   "id": "a222fa3a",
   "metadata": {},
   "outputs": [
    {
     "data": {
      "application/vnd.microsoft.datawrangler.viewer.v0+json": {
       "columns": [
        {
         "name": "index",
         "rawType": "int64",
         "type": "integer"
        },
        {
         "name": "TransactionID",
         "rawType": "int64",
         "type": "integer"
        },
        {
         "name": "isFraud",
         "rawType": "int64",
         "type": "integer"
        },
        {
         "name": "TransactionDT",
         "rawType": "int64",
         "type": "integer"
        },
        {
         "name": "TransactionAmt",
         "rawType": "float64",
         "type": "float"
        },
        {
         "name": "ProductCD",
         "rawType": "object",
         "type": "string"
        },
        {
         "name": "card1",
         "rawType": "int64",
         "type": "integer"
        },
        {
         "name": "card2",
         "rawType": "float64",
         "type": "float"
        },
        {
         "name": "card3",
         "rawType": "float64",
         "type": "float"
        },
        {
         "name": "card4",
         "rawType": "object",
         "type": "string"
        },
        {
         "name": "card5",
         "rawType": "float64",
         "type": "float"
        },
        {
         "name": "card6",
         "rawType": "object",
         "type": "string"
        },
        {
         "name": "addr1",
         "rawType": "float64",
         "type": "float"
        },
        {
         "name": "addr2",
         "rawType": "float64",
         "type": "float"
        },
        {
         "name": "dist1",
         "rawType": "float64",
         "type": "float"
        },
        {
         "name": "dist2",
         "rawType": "float64",
         "type": "float"
        },
        {
         "name": "P_emaildomain",
         "rawType": "object",
         "type": "unknown"
        },
        {
         "name": "R_emaildomain",
         "rawType": "object",
         "type": "unknown"
        },
        {
         "name": "C1",
         "rawType": "float64",
         "type": "float"
        },
        {
         "name": "C2",
         "rawType": "float64",
         "type": "float"
        },
        {
         "name": "C3",
         "rawType": "float64",
         "type": "float"
        },
        {
         "name": "C4",
         "rawType": "float64",
         "type": "float"
        },
        {
         "name": "C5",
         "rawType": "float64",
         "type": "float"
        },
        {
         "name": "C6",
         "rawType": "float64",
         "type": "float"
        },
        {
         "name": "C7",
         "rawType": "float64",
         "type": "float"
        },
        {
         "name": "C8",
         "rawType": "float64",
         "type": "float"
        },
        {
         "name": "C9",
         "rawType": "float64",
         "type": "float"
        },
        {
         "name": "C10",
         "rawType": "float64",
         "type": "float"
        },
        {
         "name": "C11",
         "rawType": "float64",
         "type": "float"
        },
        {
         "name": "C12",
         "rawType": "float64",
         "type": "float"
        },
        {
         "name": "C13",
         "rawType": "float64",
         "type": "float"
        },
        {
         "name": "C14",
         "rawType": "float64",
         "type": "float"
        },
        {
         "name": "D1",
         "rawType": "float64",
         "type": "float"
        },
        {
         "name": "D2",
         "rawType": "float64",
         "type": "float"
        },
        {
         "name": "D3",
         "rawType": "float64",
         "type": "float"
        },
        {
         "name": "D4",
         "rawType": "float64",
         "type": "float"
        },
        {
         "name": "D5",
         "rawType": "float64",
         "type": "float"
        },
        {
         "name": "D6",
         "rawType": "float64",
         "type": "float"
        },
        {
         "name": "D7",
         "rawType": "float64",
         "type": "float"
        },
        {
         "name": "D8",
         "rawType": "float64",
         "type": "float"
        },
        {
         "name": "D9",
         "rawType": "float64",
         "type": "float"
        },
        {
         "name": "D10",
         "rawType": "float64",
         "type": "float"
        },
        {
         "name": "D11",
         "rawType": "float64",
         "type": "float"
        },
        {
         "name": "D12",
         "rawType": "float64",
         "type": "float"
        },
        {
         "name": "D13",
         "rawType": "float64",
         "type": "float"
        },
        {
         "name": "D14",
         "rawType": "float64",
         "type": "float"
        },
        {
         "name": "D15",
         "rawType": "float64",
         "type": "float"
        },
        {
         "name": "M1",
         "rawType": "object",
         "type": "unknown"
        },
        {
         "name": "M2",
         "rawType": "object",
         "type": "unknown"
        },
        {
         "name": "M3",
         "rawType": "object",
         "type": "unknown"
        },
        {
         "name": "M4",
         "rawType": "object",
         "type": "unknown"
        },
        {
         "name": "M5",
         "rawType": "object",
         "type": "unknown"
        },
        {
         "name": "M6",
         "rawType": "object",
         "type": "unknown"
        },
        {
         "name": "M7",
         "rawType": "object",
         "type": "unknown"
        },
        {
         "name": "M8",
         "rawType": "object",
         "type": "unknown"
        },
        {
         "name": "M9",
         "rawType": "object",
         "type": "unknown"
        },
        {
         "name": "V1",
         "rawType": "float64",
         "type": "float"
        },
        {
         "name": "V2",
         "rawType": "float64",
         "type": "float"
        },
        {
         "name": "V3",
         "rawType": "float64",
         "type": "float"
        },
        {
         "name": "V4",
         "rawType": "float64",
         "type": "float"
        },
        {
         "name": "V5",
         "rawType": "float64",
         "type": "float"
        },
        {
         "name": "V6",
         "rawType": "float64",
         "type": "float"
        },
        {
         "name": "V7",
         "rawType": "float64",
         "type": "float"
        },
        {
         "name": "V8",
         "rawType": "float64",
         "type": "float"
        },
        {
         "name": "V9",
         "rawType": "float64",
         "type": "float"
        },
        {
         "name": "V10",
         "rawType": "float64",
         "type": "float"
        },
        {
         "name": "V11",
         "rawType": "float64",
         "type": "float"
        },
        {
         "name": "V12",
         "rawType": "float64",
         "type": "float"
        },
        {
         "name": "V13",
         "rawType": "float64",
         "type": "float"
        },
        {
         "name": "V14",
         "rawType": "float64",
         "type": "float"
        },
        {
         "name": "V15",
         "rawType": "float64",
         "type": "float"
        },
        {
         "name": "V16",
         "rawType": "float64",
         "type": "float"
        },
        {
         "name": "V17",
         "rawType": "float64",
         "type": "float"
        },
        {
         "name": "V18",
         "rawType": "float64",
         "type": "float"
        },
        {
         "name": "V19",
         "rawType": "float64",
         "type": "float"
        },
        {
         "name": "V20",
         "rawType": "float64",
         "type": "float"
        },
        {
         "name": "V21",
         "rawType": "float64",
         "type": "float"
        },
        {
         "name": "V22",
         "rawType": "float64",
         "type": "float"
        },
        {
         "name": "V23",
         "rawType": "float64",
         "type": "float"
        },
        {
         "name": "V24",
         "rawType": "float64",
         "type": "float"
        },
        {
         "name": "V25",
         "rawType": "float64",
         "type": "float"
        },
        {
         "name": "V26",
         "rawType": "float64",
         "type": "float"
        },
        {
         "name": "V27",
         "rawType": "float64",
         "type": "float"
        },
        {
         "name": "V28",
         "rawType": "float64",
         "type": "float"
        },
        {
         "name": "V29",
         "rawType": "float64",
         "type": "float"
        },
        {
         "name": "V30",
         "rawType": "float64",
         "type": "float"
        },
        {
         "name": "V31",
         "rawType": "float64",
         "type": "float"
        },
        {
         "name": "V32",
         "rawType": "float64",
         "type": "float"
        },
        {
         "name": "V33",
         "rawType": "float64",
         "type": "float"
        },
        {
         "name": "V34",
         "rawType": "float64",
         "type": "float"
        },
        {
         "name": "V35",
         "rawType": "float64",
         "type": "float"
        },
        {
         "name": "V36",
         "rawType": "float64",
         "type": "float"
        },
        {
         "name": "V37",
         "rawType": "float64",
         "type": "float"
        },
        {
         "name": "V38",
         "rawType": "float64",
         "type": "float"
        },
        {
         "name": "V39",
         "rawType": "float64",
         "type": "float"
        },
        {
         "name": "V40",
         "rawType": "float64",
         "type": "float"
        },
        {
         "name": "V41",
         "rawType": "float64",
         "type": "float"
        },
        {
         "name": "V42",
         "rawType": "float64",
         "type": "float"
        },
        {
         "name": "V43",
         "rawType": "float64",
         "type": "float"
        },
        {
         "name": "V44",
         "rawType": "float64",
         "type": "float"
        },
        {
         "name": "V45",
         "rawType": "float64",
         "type": "float"
        },
        {
         "name": "V46",
         "rawType": "float64",
         "type": "float"
        },
        {
         "name": "V47",
         "rawType": "float64",
         "type": "float"
        },
        {
         "name": "V48",
         "rawType": "float64",
         "type": "float"
        },
        {
         "name": "V49",
         "rawType": "float64",
         "type": "float"
        },
        {
         "name": "V50",
         "rawType": "float64",
         "type": "float"
        },
        {
         "name": "V51",
         "rawType": "float64",
         "type": "float"
        },
        {
         "name": "V52",
         "rawType": "float64",
         "type": "float"
        },
        {
         "name": "V53",
         "rawType": "float64",
         "type": "float"
        },
        {
         "name": "V54",
         "rawType": "float64",
         "type": "float"
        },
        {
         "name": "V55",
         "rawType": "float64",
         "type": "float"
        },
        {
         "name": "V56",
         "rawType": "float64",
         "type": "float"
        },
        {
         "name": "V57",
         "rawType": "float64",
         "type": "float"
        },
        {
         "name": "V58",
         "rawType": "float64",
         "type": "float"
        },
        {
         "name": "V59",
         "rawType": "float64",
         "type": "float"
        },
        {
         "name": "V60",
         "rawType": "float64",
         "type": "float"
        },
        {
         "name": "V61",
         "rawType": "float64",
         "type": "float"
        },
        {
         "name": "V62",
         "rawType": "float64",
         "type": "float"
        },
        {
         "name": "V63",
         "rawType": "float64",
         "type": "float"
        },
        {
         "name": "V64",
         "rawType": "float64",
         "type": "float"
        },
        {
         "name": "V65",
         "rawType": "float64",
         "type": "float"
        },
        {
         "name": "V66",
         "rawType": "float64",
         "type": "float"
        },
        {
         "name": "V67",
         "rawType": "float64",
         "type": "float"
        },
        {
         "name": "V68",
         "rawType": "float64",
         "type": "float"
        },
        {
         "name": "V69",
         "rawType": "float64",
         "type": "float"
        },
        {
         "name": "V70",
         "rawType": "float64",
         "type": "float"
        },
        {
         "name": "V71",
         "rawType": "float64",
         "type": "float"
        },
        {
         "name": "V72",
         "rawType": "float64",
         "type": "float"
        },
        {
         "name": "V73",
         "rawType": "float64",
         "type": "float"
        },
        {
         "name": "V74",
         "rawType": "float64",
         "type": "float"
        },
        {
         "name": "V75",
         "rawType": "float64",
         "type": "float"
        },
        {
         "name": "V76",
         "rawType": "float64",
         "type": "float"
        },
        {
         "name": "V77",
         "rawType": "float64",
         "type": "float"
        },
        {
         "name": "V78",
         "rawType": "float64",
         "type": "float"
        },
        {
         "name": "V79",
         "rawType": "float64",
         "type": "float"
        },
        {
         "name": "V80",
         "rawType": "float64",
         "type": "float"
        },
        {
         "name": "V81",
         "rawType": "float64",
         "type": "float"
        },
        {
         "name": "V82",
         "rawType": "float64",
         "type": "float"
        },
        {
         "name": "V83",
         "rawType": "float64",
         "type": "float"
        },
        {
         "name": "V84",
         "rawType": "float64",
         "type": "float"
        },
        {
         "name": "V85",
         "rawType": "float64",
         "type": "float"
        },
        {
         "name": "V86",
         "rawType": "float64",
         "type": "float"
        },
        {
         "name": "V87",
         "rawType": "float64",
         "type": "float"
        },
        {
         "name": "V88",
         "rawType": "float64",
         "type": "float"
        },
        {
         "name": "V89",
         "rawType": "float64",
         "type": "float"
        },
        {
         "name": "V90",
         "rawType": "float64",
         "type": "float"
        },
        {
         "name": "V91",
         "rawType": "float64",
         "type": "float"
        },
        {
         "name": "V92",
         "rawType": "float64",
         "type": "float"
        },
        {
         "name": "V93",
         "rawType": "float64",
         "type": "float"
        },
        {
         "name": "V94",
         "rawType": "float64",
         "type": "float"
        },
        {
         "name": "V95",
         "rawType": "float64",
         "type": "float"
        },
        {
         "name": "V96",
         "rawType": "float64",
         "type": "float"
        },
        {
         "name": "V97",
         "rawType": "float64",
         "type": "float"
        },
        {
         "name": "V98",
         "rawType": "float64",
         "type": "float"
        },
        {
         "name": "V99",
         "rawType": "float64",
         "type": "float"
        },
        {
         "name": "V100",
         "rawType": "float64",
         "type": "float"
        },
        {
         "name": "V101",
         "rawType": "float64",
         "type": "float"
        },
        {
         "name": "V102",
         "rawType": "float64",
         "type": "float"
        },
        {
         "name": "V103",
         "rawType": "float64",
         "type": "float"
        },
        {
         "name": "V104",
         "rawType": "float64",
         "type": "float"
        },
        {
         "name": "V105",
         "rawType": "float64",
         "type": "float"
        },
        {
         "name": "V106",
         "rawType": "float64",
         "type": "float"
        },
        {
         "name": "V107",
         "rawType": "float64",
         "type": "float"
        },
        {
         "name": "V108",
         "rawType": "float64",
         "type": "float"
        },
        {
         "name": "V109",
         "rawType": "float64",
         "type": "float"
        },
        {
         "name": "V110",
         "rawType": "float64",
         "type": "float"
        },
        {
         "name": "V111",
         "rawType": "float64",
         "type": "float"
        },
        {
         "name": "V112",
         "rawType": "float64",
         "type": "float"
        },
        {
         "name": "V113",
         "rawType": "float64",
         "type": "float"
        },
        {
         "name": "V114",
         "rawType": "float64",
         "type": "float"
        },
        {
         "name": "V115",
         "rawType": "float64",
         "type": "float"
        },
        {
         "name": "V116",
         "rawType": "float64",
         "type": "float"
        },
        {
         "name": "V117",
         "rawType": "float64",
         "type": "float"
        },
        {
         "name": "V118",
         "rawType": "float64",
         "type": "float"
        },
        {
         "name": "V119",
         "rawType": "float64",
         "type": "float"
        },
        {
         "name": "V120",
         "rawType": "float64",
         "type": "float"
        },
        {
         "name": "V121",
         "rawType": "float64",
         "type": "float"
        },
        {
         "name": "V122",
         "rawType": "float64",
         "type": "float"
        },
        {
         "name": "V123",
         "rawType": "float64",
         "type": "float"
        },
        {
         "name": "V124",
         "rawType": "float64",
         "type": "float"
        },
        {
         "name": "V125",
         "rawType": "float64",
         "type": "float"
        },
        {
         "name": "V126",
         "rawType": "float64",
         "type": "float"
        },
        {
         "name": "V127",
         "rawType": "float64",
         "type": "float"
        },
        {
         "name": "V128",
         "rawType": "float64",
         "type": "float"
        },
        {
         "name": "V129",
         "rawType": "float64",
         "type": "float"
        },
        {
         "name": "V130",
         "rawType": "float64",
         "type": "float"
        },
        {
         "name": "V131",
         "rawType": "float64",
         "type": "float"
        },
        {
         "name": "V132",
         "rawType": "float64",
         "type": "float"
        },
        {
         "name": "V133",
         "rawType": "float64",
         "type": "float"
        },
        {
         "name": "V134",
         "rawType": "float64",
         "type": "float"
        },
        {
         "name": "V135",
         "rawType": "float64",
         "type": "float"
        },
        {
         "name": "V136",
         "rawType": "float64",
         "type": "float"
        },
        {
         "name": "V137",
         "rawType": "float64",
         "type": "float"
        },
        {
         "name": "V138",
         "rawType": "float64",
         "type": "float"
        },
        {
         "name": "V139",
         "rawType": "float64",
         "type": "float"
        },
        {
         "name": "V140",
         "rawType": "float64",
         "type": "float"
        },
        {
         "name": "V141",
         "rawType": "float64",
         "type": "float"
        },
        {
         "name": "V142",
         "rawType": "float64",
         "type": "float"
        },
        {
         "name": "V143",
         "rawType": "float64",
         "type": "float"
        },
        {
         "name": "V144",
         "rawType": "float64",
         "type": "float"
        },
        {
         "name": "V145",
         "rawType": "float64",
         "type": "float"
        },
        {
         "name": "V146",
         "rawType": "float64",
         "type": "float"
        },
        {
         "name": "V147",
         "rawType": "float64",
         "type": "float"
        },
        {
         "name": "V148",
         "rawType": "float64",
         "type": "float"
        },
        {
         "name": "V149",
         "rawType": "float64",
         "type": "float"
        },
        {
         "name": "V150",
         "rawType": "float64",
         "type": "float"
        },
        {
         "name": "V151",
         "rawType": "float64",
         "type": "float"
        },
        {
         "name": "V152",
         "rawType": "float64",
         "type": "float"
        },
        {
         "name": "V153",
         "rawType": "float64",
         "type": "float"
        },
        {
         "name": "V154",
         "rawType": "float64",
         "type": "float"
        },
        {
         "name": "V155",
         "rawType": "float64",
         "type": "float"
        },
        {
         "name": "V156",
         "rawType": "float64",
         "type": "float"
        },
        {
         "name": "V157",
         "rawType": "float64",
         "type": "float"
        },
        {
         "name": "V158",
         "rawType": "float64",
         "type": "float"
        },
        {
         "name": "V159",
         "rawType": "float64",
         "type": "float"
        },
        {
         "name": "V160",
         "rawType": "float64",
         "type": "float"
        },
        {
         "name": "V161",
         "rawType": "float64",
         "type": "float"
        },
        {
         "name": "V162",
         "rawType": "float64",
         "type": "float"
        },
        {
         "name": "V163",
         "rawType": "float64",
         "type": "float"
        },
        {
         "name": "V164",
         "rawType": "float64",
         "type": "float"
        },
        {
         "name": "V165",
         "rawType": "float64",
         "type": "float"
        },
        {
         "name": "V166",
         "rawType": "float64",
         "type": "float"
        },
        {
         "name": "V167",
         "rawType": "float64",
         "type": "float"
        },
        {
         "name": "V168",
         "rawType": "float64",
         "type": "float"
        },
        {
         "name": "V169",
         "rawType": "float64",
         "type": "float"
        },
        {
         "name": "V170",
         "rawType": "float64",
         "type": "float"
        },
        {
         "name": "V171",
         "rawType": "float64",
         "type": "float"
        },
        {
         "name": "V172",
         "rawType": "float64",
         "type": "float"
        },
        {
         "name": "V173",
         "rawType": "float64",
         "type": "float"
        },
        {
         "name": "V174",
         "rawType": "float64",
         "type": "float"
        },
        {
         "name": "V175",
         "rawType": "float64",
         "type": "float"
        },
        {
         "name": "V176",
         "rawType": "float64",
         "type": "float"
        },
        {
         "name": "V177",
         "rawType": "float64",
         "type": "float"
        },
        {
         "name": "V178",
         "rawType": "float64",
         "type": "float"
        },
        {
         "name": "V179",
         "rawType": "float64",
         "type": "float"
        },
        {
         "name": "V180",
         "rawType": "float64",
         "type": "float"
        },
        {
         "name": "V181",
         "rawType": "float64",
         "type": "float"
        },
        {
         "name": "V182",
         "rawType": "float64",
         "type": "float"
        },
        {
         "name": "V183",
         "rawType": "float64",
         "type": "float"
        },
        {
         "name": "V184",
         "rawType": "float64",
         "type": "float"
        },
        {
         "name": "V185",
         "rawType": "float64",
         "type": "float"
        },
        {
         "name": "V186",
         "rawType": "float64",
         "type": "float"
        },
        {
         "name": "V187",
         "rawType": "float64",
         "type": "float"
        },
        {
         "name": "V188",
         "rawType": "float64",
         "type": "float"
        },
        {
         "name": "V189",
         "rawType": "float64",
         "type": "float"
        },
        {
         "name": "V190",
         "rawType": "float64",
         "type": "float"
        },
        {
         "name": "V191",
         "rawType": "float64",
         "type": "float"
        },
        {
         "name": "V192",
         "rawType": "float64",
         "type": "float"
        },
        {
         "name": "V193",
         "rawType": "float64",
         "type": "float"
        },
        {
         "name": "V194",
         "rawType": "float64",
         "type": "float"
        },
        {
         "name": "V195",
         "rawType": "float64",
         "type": "float"
        },
        {
         "name": "V196",
         "rawType": "float64",
         "type": "float"
        },
        {
         "name": "V197",
         "rawType": "float64",
         "type": "float"
        },
        {
         "name": "V198",
         "rawType": "float64",
         "type": "float"
        },
        {
         "name": "V199",
         "rawType": "float64",
         "type": "float"
        },
        {
         "name": "V200",
         "rawType": "float64",
         "type": "float"
        },
        {
         "name": "V201",
         "rawType": "float64",
         "type": "float"
        },
        {
         "name": "V202",
         "rawType": "float64",
         "type": "float"
        },
        {
         "name": "V203",
         "rawType": "float64",
         "type": "float"
        },
        {
         "name": "V204",
         "rawType": "float64",
         "type": "float"
        },
        {
         "name": "V205",
         "rawType": "float64",
         "type": "float"
        },
        {
         "name": "V206",
         "rawType": "float64",
         "type": "float"
        },
        {
         "name": "V207",
         "rawType": "float64",
         "type": "float"
        },
        {
         "name": "V208",
         "rawType": "float64",
         "type": "float"
        },
        {
         "name": "V209",
         "rawType": "float64",
         "type": "float"
        },
        {
         "name": "V210",
         "rawType": "float64",
         "type": "float"
        },
        {
         "name": "V211",
         "rawType": "float64",
         "type": "float"
        },
        {
         "name": "V212",
         "rawType": "float64",
         "type": "float"
        },
        {
         "name": "V213",
         "rawType": "float64",
         "type": "float"
        },
        {
         "name": "V214",
         "rawType": "float64",
         "type": "float"
        },
        {
         "name": "V215",
         "rawType": "float64",
         "type": "float"
        },
        {
         "name": "V216",
         "rawType": "float64",
         "type": "float"
        },
        {
         "name": "V217",
         "rawType": "float64",
         "type": "float"
        },
        {
         "name": "V218",
         "rawType": "float64",
         "type": "float"
        },
        {
         "name": "V219",
         "rawType": "float64",
         "type": "float"
        },
        {
         "name": "V220",
         "rawType": "float64",
         "type": "float"
        },
        {
         "name": "V221",
         "rawType": "float64",
         "type": "float"
        },
        {
         "name": "V222",
         "rawType": "float64",
         "type": "float"
        },
        {
         "name": "V223",
         "rawType": "float64",
         "type": "float"
        },
        {
         "name": "V224",
         "rawType": "float64",
         "type": "float"
        },
        {
         "name": "V225",
         "rawType": "float64",
         "type": "float"
        },
        {
         "name": "V226",
         "rawType": "float64",
         "type": "float"
        },
        {
         "name": "V227",
         "rawType": "float64",
         "type": "float"
        },
        {
         "name": "V228",
         "rawType": "float64",
         "type": "float"
        },
        {
         "name": "V229",
         "rawType": "float64",
         "type": "float"
        },
        {
         "name": "V230",
         "rawType": "float64",
         "type": "float"
        },
        {
         "name": "V231",
         "rawType": "float64",
         "type": "float"
        },
        {
         "name": "V232",
         "rawType": "float64",
         "type": "float"
        },
        {
         "name": "V233",
         "rawType": "float64",
         "type": "float"
        },
        {
         "name": "V234",
         "rawType": "float64",
         "type": "float"
        },
        {
         "name": "V235",
         "rawType": "float64",
         "type": "float"
        },
        {
         "name": "V236",
         "rawType": "float64",
         "type": "float"
        },
        {
         "name": "V237",
         "rawType": "float64",
         "type": "float"
        },
        {
         "name": "V238",
         "rawType": "float64",
         "type": "float"
        },
        {
         "name": "V239",
         "rawType": "float64",
         "type": "float"
        },
        {
         "name": "V240",
         "rawType": "float64",
         "type": "float"
        },
        {
         "name": "V241",
         "rawType": "float64",
         "type": "float"
        },
        {
         "name": "V242",
         "rawType": "float64",
         "type": "float"
        },
        {
         "name": "V243",
         "rawType": "float64",
         "type": "float"
        },
        {
         "name": "V244",
         "rawType": "float64",
         "type": "float"
        },
        {
         "name": "V245",
         "rawType": "float64",
         "type": "float"
        },
        {
         "name": "V246",
         "rawType": "float64",
         "type": "float"
        },
        {
         "name": "V247",
         "rawType": "float64",
         "type": "float"
        },
        {
         "name": "V248",
         "rawType": "float64",
         "type": "float"
        },
        {
         "name": "V249",
         "rawType": "float64",
         "type": "float"
        },
        {
         "name": "V250",
         "rawType": "float64",
         "type": "float"
        },
        {
         "name": "V251",
         "rawType": "float64",
         "type": "float"
        },
        {
         "name": "V252",
         "rawType": "float64",
         "type": "float"
        },
        {
         "name": "V253",
         "rawType": "float64",
         "type": "float"
        },
        {
         "name": "V254",
         "rawType": "float64",
         "type": "float"
        },
        {
         "name": "V255",
         "rawType": "float64",
         "type": "float"
        },
        {
         "name": "V256",
         "rawType": "float64",
         "type": "float"
        },
        {
         "name": "V257",
         "rawType": "float64",
         "type": "float"
        },
        {
         "name": "V258",
         "rawType": "float64",
         "type": "float"
        },
        {
         "name": "V259",
         "rawType": "float64",
         "type": "float"
        },
        {
         "name": "V260",
         "rawType": "float64",
         "type": "float"
        },
        {
         "name": "V261",
         "rawType": "float64",
         "type": "float"
        },
        {
         "name": "V262",
         "rawType": "float64",
         "type": "float"
        },
        {
         "name": "V263",
         "rawType": "float64",
         "type": "float"
        },
        {
         "name": "V264",
         "rawType": "float64",
         "type": "float"
        },
        {
         "name": "V265",
         "rawType": "float64",
         "type": "float"
        },
        {
         "name": "V266",
         "rawType": "float64",
         "type": "float"
        },
        {
         "name": "V267",
         "rawType": "float64",
         "type": "float"
        },
        {
         "name": "V268",
         "rawType": "float64",
         "type": "float"
        },
        {
         "name": "V269",
         "rawType": "float64",
         "type": "float"
        },
        {
         "name": "V270",
         "rawType": "float64",
         "type": "float"
        },
        {
         "name": "V271",
         "rawType": "float64",
         "type": "float"
        },
        {
         "name": "V272",
         "rawType": "float64",
         "type": "float"
        },
        {
         "name": "V273",
         "rawType": "float64",
         "type": "float"
        },
        {
         "name": "V274",
         "rawType": "float64",
         "type": "float"
        },
        {
         "name": "V275",
         "rawType": "float64",
         "type": "float"
        },
        {
         "name": "V276",
         "rawType": "float64",
         "type": "float"
        },
        {
         "name": "V277",
         "rawType": "float64",
         "type": "float"
        },
        {
         "name": "V278",
         "rawType": "float64",
         "type": "float"
        },
        {
         "name": "V279",
         "rawType": "float64",
         "type": "float"
        },
        {
         "name": "V280",
         "rawType": "float64",
         "type": "float"
        },
        {
         "name": "V281",
         "rawType": "float64",
         "type": "float"
        },
        {
         "name": "V282",
         "rawType": "float64",
         "type": "float"
        },
        {
         "name": "V283",
         "rawType": "float64",
         "type": "float"
        },
        {
         "name": "V284",
         "rawType": "float64",
         "type": "float"
        },
        {
         "name": "V285",
         "rawType": "float64",
         "type": "float"
        },
        {
         "name": "V286",
         "rawType": "float64",
         "type": "float"
        },
        {
         "name": "V287",
         "rawType": "float64",
         "type": "float"
        },
        {
         "name": "V288",
         "rawType": "float64",
         "type": "float"
        },
        {
         "name": "V289",
         "rawType": "float64",
         "type": "float"
        },
        {
         "name": "V290",
         "rawType": "float64",
         "type": "float"
        },
        {
         "name": "V291",
         "rawType": "float64",
         "type": "float"
        },
        {
         "name": "V292",
         "rawType": "float64",
         "type": "float"
        },
        {
         "name": "V293",
         "rawType": "float64",
         "type": "float"
        },
        {
         "name": "V294",
         "rawType": "float64",
         "type": "float"
        },
        {
         "name": "V295",
         "rawType": "float64",
         "type": "float"
        },
        {
         "name": "V296",
         "rawType": "float64",
         "type": "float"
        },
        {
         "name": "V297",
         "rawType": "float64",
         "type": "float"
        },
        {
         "name": "V298",
         "rawType": "float64",
         "type": "float"
        },
        {
         "name": "V299",
         "rawType": "float64",
         "type": "float"
        },
        {
         "name": "V300",
         "rawType": "float64",
         "type": "float"
        },
        {
         "name": "V301",
         "rawType": "float64",
         "type": "float"
        },
        {
         "name": "V302",
         "rawType": "float64",
         "type": "float"
        },
        {
         "name": "V303",
         "rawType": "float64",
         "type": "float"
        },
        {
         "name": "V304",
         "rawType": "float64",
         "type": "float"
        },
        {
         "name": "V305",
         "rawType": "float64",
         "type": "float"
        },
        {
         "name": "V306",
         "rawType": "float64",
         "type": "float"
        },
        {
         "name": "V307",
         "rawType": "float64",
         "type": "float"
        },
        {
         "name": "V308",
         "rawType": "float64",
         "type": "float"
        },
        {
         "name": "V309",
         "rawType": "float64",
         "type": "float"
        },
        {
         "name": "V310",
         "rawType": "float64",
         "type": "float"
        },
        {
         "name": "V311",
         "rawType": "float64",
         "type": "float"
        },
        {
         "name": "V312",
         "rawType": "float64",
         "type": "float"
        },
        {
         "name": "V313",
         "rawType": "float64",
         "type": "float"
        },
        {
         "name": "V314",
         "rawType": "float64",
         "type": "float"
        },
        {
         "name": "V315",
         "rawType": "float64",
         "type": "float"
        },
        {
         "name": "V316",
         "rawType": "float64",
         "type": "float"
        },
        {
         "name": "V317",
         "rawType": "float64",
         "type": "float"
        },
        {
         "name": "V318",
         "rawType": "float64",
         "type": "float"
        },
        {
         "name": "V319",
         "rawType": "float64",
         "type": "float"
        },
        {
         "name": "V320",
         "rawType": "float64",
         "type": "float"
        },
        {
         "name": "V321",
         "rawType": "float64",
         "type": "float"
        },
        {
         "name": "V322",
         "rawType": "float64",
         "type": "float"
        },
        {
         "name": "V323",
         "rawType": "float64",
         "type": "float"
        },
        {
         "name": "V324",
         "rawType": "float64",
         "type": "float"
        },
        {
         "name": "V325",
         "rawType": "float64",
         "type": "float"
        },
        {
         "name": "V326",
         "rawType": "float64",
         "type": "float"
        },
        {
         "name": "V327",
         "rawType": "float64",
         "type": "float"
        },
        {
         "name": "V328",
         "rawType": "float64",
         "type": "float"
        },
        {
         "name": "V329",
         "rawType": "float64",
         "type": "float"
        },
        {
         "name": "V330",
         "rawType": "float64",
         "type": "float"
        },
        {
         "name": "V331",
         "rawType": "float64",
         "type": "float"
        },
        {
         "name": "V332",
         "rawType": "float64",
         "type": "float"
        },
        {
         "name": "V333",
         "rawType": "float64",
         "type": "float"
        },
        {
         "name": "V334",
         "rawType": "float64",
         "type": "float"
        },
        {
         "name": "V335",
         "rawType": "float64",
         "type": "float"
        },
        {
         "name": "V336",
         "rawType": "float64",
         "type": "float"
        },
        {
         "name": "V337",
         "rawType": "float64",
         "type": "float"
        },
        {
         "name": "V338",
         "rawType": "float64",
         "type": "float"
        },
        {
         "name": "V339",
         "rawType": "float64",
         "type": "float"
        }
       ],
       "ref": "dde13038-e4bd-4a38-811a-a44a5c46df37",
       "rows": [
        [
         "0",
         "2987000",
         "0",
         "86400",
         "68.5",
         "W",
         "13926",
         null,
         "150.0",
         "discover",
         "142.0",
         "credit",
         "315.0",
         "87.0",
         "19.0",
         null,
         null,
         null,
         "1.0",
         "1.0",
         "0.0",
         "0.0",
         "0.0",
         "1.0",
         "0.0",
         "0.0",
         "1.0",
         "0.0",
         "2.0",
         "0.0",
         "1.0",
         "1.0",
         "14.0",
         null,
         "13.0",
         null,
         null,
         null,
         null,
         null,
         null,
         "13.0",
         "13.0",
         null,
         null,
         null,
         "0.0",
         "T",
         "T",
         "T",
         "M2",
         "F",
         "T",
         null,
         null,
         null,
         "1.0",
         "1.0",
         "1.0",
         "1.0",
         "1.0",
         "1.0",
         "1.0",
         "1.0",
         "1.0",
         "0.0",
         "0.0",
         "1.0",
         "1.0",
         "1.0",
         "0.0",
         "0.0",
         "0.0",
         "0.0",
         "1.0",
         "1.0",
         "0.0",
         "0.0",
         "1.0",
         "1.0",
         "1.0",
         "1.0",
         "0.0",
         "0.0",
         "0.0",
         "0.0",
         "0.0",
         "0.0",
         "0.0",
         "0.0",
         null,
         null,
         null,
         null,
         null,
         null,
         null,
         null,
         null,
         null,
         null,
         null,
         null,
         null,
         null,
         null,
         null,
         null,
         "1.0",
         "1.0",
         "1.0",
         "1.0",
         "0.0",
         "0.0",
         "0.0",
         "0.0",
         "1.0",
         "1.0",
         "0.0",
         "0.0",
         "1.0",
         "1.0",
         "1.0",
         "0.0",
         "0.0",
         "0.0",
         "0.0",
         "0.0",
         "0.0",
         "0.0",
         "1.0",
         "1.0",
         "1.0",
         "1.0",
         "0.0",
         "0.0",
         "0.0",
         "0.0",
         "0.0",
         "0.0",
         "0.0",
         "1.0",
         "1.0",
         "1.0",
         "0.0",
         "0.0",
         "0.0",
         "0.0",
         "0.0",
         "0.0",
         "0.0",
         "1.0",
         "0.0",
         "0.0",
         "0.0",
         "0.0",
         "0.0",
         "1.0",
         "0.0",
         "0.0",
         "0.0",
         "0.0",
         "1.0",
         "1.0",
         "1.0",
         "1.0",
         "1.0",
         "1.0",
         "1.0",
         "1.0",
         "1.0",
         "1.0",
         "1.0",
         "1.0",
         "1.0",
         "1.0",
         "1.0",
         "1.0",
         "1.0",
         "1.0",
         "1.0",
         "0.0",
         "117.0",
         "0.0",
         "0.0",
         "0.0",
         "0.0",
         "0.0",
         "117.0",
         "0.0",
         "0.0",
         "0.0",
         "0.0",
         null,
         null,
         null,
         null,
         null,
         null,
         null,
         null,
         null,
         null,
         null,
         null,
         null,
         null,
         null,
         null,
         null,
         null,
         null,
         null,
         null,
         null,
         null,
         null,
         null,
         null,
         null,
         null,
         null,
         null,
         null,
         null,
         null,
         null,
         null,
         null,
         null,
         null,
         null,
         null,
         null,
         null,
         null,
         null,
         null,
         null,
         null,
         null,
         null,
         null,
         null,
         null,
         null,
         null,
         null,
         null,
         null,
         null,
         null,
         null,
         null,
         null,
         null,
         null,
         null,
         null,
         null,
         null,
         null,
         null,
         null,
         null,
         null,
         null,
         null,
         null,
         null,
         null,
         null,
         null,
         null,
         null,
         null,
         null,
         null,
         null,
         null,
         null,
         null,
         null,
         null,
         null,
         null,
         null,
         null,
         null,
         null,
         null,
         null,
         null,
         null,
         null,
         null,
         null,
         null,
         null,
         null,
         null,
         null,
         null,
         null,
         null,
         null,
         null,
         null,
         null,
         null,
         null,
         null,
         null,
         null,
         null,
         null,
         null,
         null,
         null,
         null,
         null,
         null,
         null,
         null,
         null,
         null,
         null,
         null,
         null,
         null,
         null,
         null,
         null,
         null,
         "0.0",
         "0.0",
         "0.0",
         "1.0",
         "1.0",
         "0.0",
         "0.0",
         "0.0",
         "0.0",
         "0.0",
         "0.0",
         "1.0",
         "1.0",
         "1.0",
         "0.0",
         "1.0",
         "0.0",
         "0.0",
         "0.0",
         "0.0",
         "0.0",
         "0.0",
         "0.0",
         "0.0",
         "0.0",
         "0.0",
         "1.0",
         "0.0",
         "117.0",
         "0.0",
         "0.0",
         "0.0",
         "0.0",
         "0.0",
         "0.0",
         "0.0",
         "0.0",
         "0.0",
         "117.0",
         "0.0",
         "0.0",
         "0.0",
         "0.0",
         null,
         null,
         null,
         null,
         null,
         null,
         null,
         null,
         null,
         null,
         null,
         null,
         null,
         null,
         null,
         null,
         null,
         null
        ],
        [
         "1",
         "2987001",
         "0",
         "86401",
         "29.0",
         "W",
         "2755",
         "404.0",
         "150.0",
         "mastercard",
         "102.0",
         "credit",
         "325.0",
         "87.0",
         null,
         null,
         "gmail.com",
         null,
         "1.0",
         "1.0",
         "0.0",
         "0.0",
         "0.0",
         "1.0",
         "0.0",
         "0.0",
         "0.0",
         "0.0",
         "1.0",
         "0.0",
         "1.0",
         "1.0",
         "0.0",
         null,
         null,
         "0.0",
         null,
         null,
         null,
         null,
         null,
         "0.0",
         null,
         null,
         null,
         null,
         "0.0",
         null,
         null,
         null,
         "M0",
         "T",
         "T",
         null,
         null,
         null,
         null,
         null,
         null,
         null,
         null,
         null,
         null,
         null,
         null,
         null,
         null,
         "0.0",
         "0.0",
         "1.0",
         "0.0",
         "0.0",
         "0.0",
         "0.0",
         "1.0",
         "1.0",
         "0.0",
         "0.0",
         "1.0",
         "1.0",
         "1.0",
         "1.0",
         "0.0",
         "0.0",
         "0.0",
         "0.0",
         "0.0",
         "0.0",
         "0.0",
         "0.0",
         "0.0",
         "0.0",
         "1.0",
         "1.0",
         "0.0",
         "0.0",
         "1.0",
         "0.0",
         "0.0",
         "1.0",
         "1.0",
         "1.0",
         "1.0",
         "0.0",
         "0.0",
         "0.0",
         "0.0",
         "0.0",
         "0.0",
         "0.0",
         "1.0",
         "1.0",
         "0.0",
         "0.0",
         "0.0",
         "0.0",
         "1.0",
         "1.0",
         "0.0",
         "0.0",
         "1.0",
         "1.0",
         "1.0",
         "0.0",
         "0.0",
         "0.0",
         "0.0",
         "0.0",
         "0.0",
         "0.0",
         "0.0",
         "0.0",
         "1.0",
         "1.0",
         "0.0",
         "0.0",
         "0.0",
         "1.0",
         "1.0",
         "0.0",
         "0.0",
         "1.0",
         "1.0",
         "1.0",
         "0.0",
         "0.0",
         "0.0",
         "0.0",
         "0.0",
         "0.0",
         "0.0",
         "0.0",
         "0.0",
         "0.0",
         "0.0",
         "0.0",
         "0.0",
         "0.0",
         "0.0",
         "0.0",
         "0.0",
         "0.0",
         "1.0",
         "1.0",
         "1.0",
         "1.0",
         "1.0",
         "1.0",
         "1.0",
         "1.0",
         "1.0",
         "1.0",
         "1.0",
         "1.0",
         "1.0",
         "1.0",
         "1.0",
         "1.0",
         "1.0",
         "1.0",
         "1.0",
         "0.0",
         "0.0",
         "0.0",
         "0.0",
         "0.0",
         "0.0",
         "0.0",
         "0.0",
         "0.0",
         "0.0",
         "0.0",
         "0.0",
         null,
         null,
         null,
         null,
         null,
         null,
         null,
         null,
         null,
         null,
         null,
         null,
         null,
         null,
         null,
         null,
         null,
         null,
         null,
         null,
         null,
         null,
         null,
         null,
         null,
         null,
         null,
         null,
         null,
         null,
         null,
         null,
         null,
         null,
         null,
         null,
         null,
         null,
         null,
         null,
         null,
         null,
         null,
         null,
         null,
         null,
         null,
         null,
         null,
         null,
         null,
         null,
         null,
         null,
         null,
         null,
         null,
         null,
         null,
         null,
         null,
         null,
         null,
         null,
         null,
         null,
         null,
         null,
         null,
         null,
         null,
         null,
         null,
         null,
         null,
         null,
         null,
         null,
         null,
         null,
         null,
         null,
         null,
         null,
         null,
         null,
         null,
         null,
         null,
         null,
         null,
         null,
         null,
         null,
         null,
         null,
         null,
         null,
         null,
         null,
         null,
         null,
         null,
         null,
         null,
         null,
         null,
         null,
         null,
         null,
         null,
         null,
         null,
         null,
         null,
         null,
         null,
         null,
         null,
         null,
         null,
         null,
         null,
         null,
         null,
         null,
         null,
         null,
         null,
         null,
         null,
         null,
         null,
         null,
         null,
         null,
         null,
         null,
         null,
         null,
         null,
         "0.0",
         "0.0",
         "0.0",
         "1.0",
         "1.0",
         "0.0",
         "0.0",
         "0.0",
         "0.0",
         "0.0",
         "0.0",
         "1.0",
         "1.0",
         "1.0",
         "0.0",
         "0.0",
         "0.0",
         "0.0",
         "0.0",
         "0.0",
         "0.0",
         "0.0",
         "0.0",
         "0.0",
         "0.0",
         "0.0",
         "1.0",
         "0.0",
         "0.0",
         "0.0",
         "0.0",
         "0.0",
         "0.0",
         "0.0",
         "0.0",
         "0.0",
         "0.0",
         "0.0",
         "0.0",
         "0.0",
         "0.0",
         "0.0",
         "0.0",
         null,
         null,
         null,
         null,
         null,
         null,
         null,
         null,
         null,
         null,
         null,
         null,
         null,
         null,
         null,
         null,
         null,
         null
        ],
        [
         "2",
         "2987002",
         "0",
         "86469",
         "59.0",
         "W",
         "4663",
         "490.0",
         "150.0",
         "visa",
         "166.0",
         "debit",
         "330.0",
         "87.0",
         "287.0",
         null,
         "outlook.com",
         null,
         "1.0",
         "1.0",
         "0.0",
         "0.0",
         "0.0",
         "1.0",
         "0.0",
         "0.0",
         "1.0",
         "0.0",
         "1.0",
         "0.0",
         "1.0",
         "1.0",
         "0.0",
         null,
         null,
         "0.0",
         null,
         null,
         null,
         null,
         null,
         "0.0",
         "315.0",
         null,
         null,
         null,
         "315.0",
         "T",
         "T",
         "T",
         "M0",
         "F",
         "F",
         "F",
         "F",
         "F",
         "1.0",
         "1.0",
         "1.0",
         "1.0",
         "1.0",
         "1.0",
         "1.0",
         "1.0",
         "1.0",
         "0.0",
         "0.0",
         "1.0",
         "1.0",
         "1.0",
         "0.0",
         "0.0",
         "0.0",
         "0.0",
         "1.0",
         "1.0",
         "0.0",
         "0.0",
         "1.0",
         "1.0",
         "1.0",
         "1.0",
         "0.0",
         "0.0",
         "0.0",
         "0.0",
         "0.0",
         "0.0",
         "0.0",
         "0.0",
         "1.0",
         "1.0",
         "1.0",
         "1.0",
         "0.0",
         "0.0",
         "1.0",
         "0.0",
         "0.0",
         "1.0",
         "1.0",
         "1.0",
         "1.0",
         "0.0",
         "0.0",
         "0.0",
         "0.0",
         "0.0",
         "1.0",
         "1.0",
         "1.0",
         "1.0",
         "0.0",
         "0.0",
         "0.0",
         "0.0",
         "1.0",
         "1.0",
         "0.0",
         "0.0",
         "1.0",
         "1.0",
         "1.0",
         "0.0",
         "0.0",
         "0.0",
         "0.0",
         "0.0",
         "0.0",
         "0.0",
         "1.0",
         "1.0",
         "1.0",
         "1.0",
         "0.0",
         "0.0",
         "0.0",
         "1.0",
         "1.0",
         "0.0",
         "0.0",
         "1.0",
         "1.0",
         "1.0",
         "0.0",
         "0.0",
         "0.0",
         "0.0",
         "0.0",
         "0.0",
         "0.0",
         "0.0",
         "0.0",
         "0.0",
         "0.0",
         "0.0",
         "0.0",
         "0.0",
         "0.0",
         "0.0",
         "0.0",
         "0.0",
         "1.0",
         "1.0",
         "1.0",
         "1.0",
         "1.0",
         "1.0",
         "1.0",
         "1.0",
         "1.0",
         "1.0",
         "1.0",
         "1.0",
         "1.0",
         "1.0",
         "1.0",
         "1.0",
         "1.0",
         "1.0",
         "1.0",
         "0.0",
         "0.0",
         "0.0",
         "0.0",
         "0.0",
         "0.0",
         "0.0",
         "0.0",
         "0.0",
         "0.0",
         "0.0",
         "0.0",
         null,
         null,
         null,
         null,
         null,
         null,
         null,
         null,
         null,
         null,
         null,
         null,
         null,
         null,
         null,
         null,
         null,
         null,
         null,
         null,
         null,
         null,
         null,
         null,
         null,
         null,
         null,
         null,
         null,
         null,
         null,
         null,
         null,
         null,
         null,
         null,
         null,
         null,
         null,
         null,
         null,
         null,
         null,
         null,
         null,
         null,
         null,
         null,
         null,
         null,
         null,
         null,
         null,
         null,
         null,
         null,
         null,
         null,
         null,
         null,
         null,
         null,
         null,
         null,
         null,
         null,
         null,
         null,
         null,
         null,
         null,
         null,
         null,
         null,
         null,
         null,
         null,
         null,
         null,
         null,
         null,
         null,
         null,
         null,
         null,
         null,
         null,
         null,
         null,
         null,
         null,
         null,
         null,
         null,
         null,
         null,
         null,
         null,
         null,
         null,
         null,
         null,
         null,
         null,
         null,
         null,
         null,
         null,
         null,
         null,
         null,
         null,
         null,
         null,
         null,
         null,
         null,
         null,
         null,
         null,
         null,
         null,
         null,
         null,
         null,
         null,
         null,
         null,
         null,
         null,
         null,
         null,
         null,
         null,
         null,
         null,
         null,
         null,
         null,
         null,
         null,
         "0.0",
         "0.0",
         "0.0",
         "1.0",
         "1.0",
         "0.0",
         "0.0",
         "0.0",
         "0.0",
         "0.0",
         "0.0",
         "1.0",
         "1.0",
         "1.0",
         "0.0",
         "0.0",
         "0.0",
         "0.0",
         "0.0",
         "0.0",
         "0.0",
         "0.0",
         "0.0",
         "0.0",
         "0.0",
         "0.0",
         "1.0",
         "0.0",
         "0.0",
         "0.0",
         "0.0",
         "0.0",
         "0.0",
         "0.0",
         "0.0",
         "0.0",
         "0.0",
         "0.0",
         "0.0",
         "0.0",
         "0.0",
         "0.0",
         "0.0",
         null,
         null,
         null,
         null,
         null,
         null,
         null,
         null,
         null,
         null,
         null,
         null,
         null,
         null,
         null,
         null,
         null,
         null
        ],
        [
         "3",
         "2987003",
         "0",
         "86499",
         "50.0",
         "W",
         "18132",
         "567.0",
         "150.0",
         "mastercard",
         "117.0",
         "debit",
         "476.0",
         "87.0",
         null,
         null,
         "yahoo.com",
         null,
         "2.0",
         "5.0",
         "0.0",
         "0.0",
         "0.0",
         "4.0",
         "0.0",
         "0.0",
         "1.0",
         "0.0",
         "1.0",
         "0.0",
         "25.0",
         "1.0",
         "112.0",
         "112.0",
         "0.0",
         "94.0",
         "0.0",
         null,
         null,
         null,
         null,
         "84.0",
         null,
         null,
         null,
         null,
         "111.0",
         null,
         null,
         null,
         "M0",
         "T",
         "F",
         null,
         null,
         null,
         null,
         null,
         null,
         null,
         null,
         null,
         null,
         null,
         null,
         null,
         null,
         "1.0",
         "1.0",
         "1.0",
         "0.0",
         "0.0",
         "0.0",
         "0.0",
         "1.0",
         "1.0",
         "0.0",
         "0.0",
         "1.0",
         "1.0",
         "1.0",
         "1.0",
         "0.0",
         "0.0",
         "0.0",
         "0.0",
         "0.0",
         "0.0",
         "0.0",
         "0.0",
         "1.0",
         "1.0",
         "1.0",
         "1.0",
         "0.0",
         "0.0",
         "1.0",
         "0.0",
         "0.0",
         "1.0",
         "1.0",
         "1.0",
         "1.0",
         "0.0",
         "0.0",
         "0.0",
         "0.0",
         "0.0",
         "1.0",
         "1.0",
         "1.0",
         "1.0",
         "0.0",
         "0.0",
         "0.0",
         "0.0",
         "1.0",
         "1.0",
         "0.0",
         "0.0",
         "1.0",
         "1.0",
         "1.0",
         "0.0",
         "0.0",
         "0.0",
         "0.0",
         "0.0",
         "0.0",
         "0.0",
         "1.0",
         "1.0",
         "1.0",
         "1.0",
         "0.0",
         "0.0",
         "0.0",
         "1.0",
         "1.0",
         "0.0",
         "0.0",
         "1.0",
         "1.0",
         "1.0",
         "0.0",
         "0.0",
         "0.0",
         "0.0",
         "0.0",
         "0.0",
         "1.0",
         "48.0",
         "28.0",
         "0.0",
         "10.0",
         "4.0",
         "1.0",
         "38.0",
         "24.0",
         "0.0",
         "0.0",
         "0.0",
         "1.0",
         "1.0",
         "1.0",
         "1.0",
         "1.0",
         "1.0",
         "1.0",
         "1.0",
         "1.0",
         "1.0",
         "1.0",
         "1.0",
         "1.0",
         "1.0",
         "1.0",
         "1.0",
         "1.0",
         "1.0",
         "1.0",
         "50.0",
         "1758.0",
         "925.0",
         "0.0",
         "354.0",
         "135.0",
         "50.0",
         "1404.0",
         "790.0",
         "0.0",
         "0.0",
         "0.0",
         null,
         null,
         null,
         null,
         null,
         null,
         null,
         null,
         null,
         null,
         null,
         null,
         null,
         null,
         null,
         null,
         null,
         null,
         null,
         null,
         null,
         null,
         null,
         null,
         null,
         null,
         null,
         null,
         null,
         null,
         null,
         null,
         null,
         null,
         null,
         null,
         null,
         null,
         null,
         null,
         null,
         null,
         null,
         null,
         null,
         null,
         null,
         null,
         null,
         null,
         null,
         null,
         null,
         null,
         null,
         null,
         null,
         null,
         null,
         null,
         null,
         null,
         null,
         null,
         null,
         null,
         null,
         null,
         null,
         null,
         null,
         null,
         null,
         null,
         null,
         null,
         null,
         null,
         null,
         null,
         null,
         null,
         null,
         null,
         null,
         null,
         null,
         null,
         null,
         null,
         null,
         null,
         null,
         null,
         null,
         null,
         null,
         null,
         null,
         null,
         null,
         null,
         null,
         null,
         null,
         null,
         null,
         null,
         null,
         null,
         null,
         null,
         null,
         null,
         null,
         null,
         null,
         null,
         null,
         null,
         null,
         null,
         null,
         null,
         null,
         null,
         null,
         null,
         null,
         null,
         null,
         null,
         null,
         null,
         null,
         null,
         null,
         null,
         null,
         null,
         null,
         "1.0",
         "28.0",
         "0.0",
         "0.0",
         "0.0",
         "0.0",
         "10.0",
         "0.0",
         "4.0",
         "0.0",
         "0.0",
         "1.0",
         "1.0",
         "1.0",
         "1.0",
         "38.0",
         "24.0",
         "0.0",
         "0.0",
         "0.0",
         "0.0",
         "0.0",
         "0.0",
         "0.0",
         "0.0",
         "0.0",
         "1.0",
         "50.0",
         "1758.0",
         "925.0",
         "0.0",
         "354.0",
         "0.0",
         "135.0",
         "0.0",
         "0.0",
         "0.0",
         "50.0",
         "1404.0",
         "790.0",
         "0.0",
         "0.0",
         "0.0",
         null,
         null,
         null,
         null,
         null,
         null,
         null,
         null,
         null,
         null,
         null,
         null,
         null,
         null,
         null,
         null,
         null,
         null
        ],
        [
         "4",
         "2987004",
         "0",
         "86506",
         "50.0",
         "H",
         "4497",
         "514.0",
         "150.0",
         "mastercard",
         "102.0",
         "credit",
         "420.0",
         "87.0",
         null,
         null,
         "gmail.com",
         null,
         "1.0",
         "1.0",
         "0.0",
         "0.0",
         "0.0",
         "1.0",
         "0.0",
         "1.0",
         "0.0",
         "1.0",
         "1.0",
         "0.0",
         "1.0",
         "1.0",
         "0.0",
         null,
         null,
         null,
         null,
         null,
         null,
         null,
         null,
         null,
         null,
         null,
         null,
         null,
         null,
         null,
         null,
         null,
         null,
         null,
         null,
         null,
         null,
         null,
         null,
         null,
         null,
         null,
         null,
         null,
         null,
         null,
         null,
         null,
         null,
         null,
         null,
         null,
         null,
         null,
         null,
         null,
         null,
         null,
         null,
         null,
         null,
         null,
         null,
         null,
         null,
         null,
         null,
         null,
         null,
         null,
         null,
         null,
         null,
         null,
         null,
         null,
         null,
         null,
         null,
         null,
         null,
         null,
         null,
         null,
         null,
         null,
         null,
         null,
         null,
         null,
         null,
         null,
         null,
         null,
         null,
         null,
         null,
         null,
         null,
         null,
         null,
         null,
         null,
         null,
         null,
         null,
         null,
         null,
         null,
         null,
         null,
         null,
         null,
         null,
         null,
         null,
         null,
         null,
         null,
         null,
         null,
         null,
         null,
         null,
         null,
         null,
         null,
         null,
         null,
         null,
         null,
         null,
         "0.0",
         "0.0",
         "0.0",
         "0.0",
         "0.0",
         "0.0",
         "0.0",
         "0.0",
         "0.0",
         "0.0",
         "0.0",
         "0.0",
         "1.0",
         "1.0",
         "1.0",
         "1.0",
         "1.0",
         "1.0",
         "1.0",
         "1.0",
         "1.0",
         "1.0",
         "1.0",
         "1.0",
         "1.0",
         "1.0",
         "1.0",
         "1.0",
         "1.0",
         "1.0",
         "1.0",
         "0.0",
         "0.0",
         "0.0",
         "0.0",
         "0.0",
         "0.0",
         "0.0",
         "0.0",
         "0.0",
         "0.0",
         "0.0",
         "0.0",
         "0.0",
         "0.0",
         "0.0",
         "0.0",
         "0.0",
         "6.0",
         "18.0",
         "140.0",
         "0.0",
         "0.0",
         "0.0",
         "0.0",
         "1803.0",
         "49.0",
         "64.0",
         "0.0",
         "0.0",
         "0.0",
         "0.0",
         "0.0",
         "0.0",
         "15557.990234375",
         "169690.796875",
         "0.0",
         "0.0",
         "0.0",
         "515.0",
         "5155.0",
         "2840.0",
         "0.0",
         "0.0",
         "0.0",
         "1.0",
         "1.0",
         "0.0",
         "0.0",
         "0.0",
         "0.0",
         "1.0",
         "0.0",
         "0.0",
         "0.0",
         "0.0",
         "0.0",
         "0.0",
         "0.0",
         "0.0",
         "0.0",
         "1.0",
         "1.0",
         "1.0",
         "1.0",
         "1.0",
         "1.0",
         "1.0",
         "1.0",
         "1.0",
         "1.0",
         "1.0",
         "1.0",
         "1.0",
         "1.0",
         "1.0",
         "1.0",
         "0.0",
         "0.0",
         "0.0",
         "0.0",
         "0.0",
         "0.0",
         "0.0",
         "0.0",
         "0.0",
         "0.0",
         "0.0",
         "0.0",
         "0.0",
         "0.0",
         "0.0",
         "0.0",
         "0.0",
         "0.0",
         "0.0",
         "1.0",
         "1.0",
         "0.0",
         "0.0",
         "0.0",
         "0.0",
         "0.0",
         "1.0",
         "1.0",
         "1.0",
         "0.0",
         "0.0",
         "0.0",
         "0.0",
         "0.0",
         "0.0",
         "0.0",
         "0.0",
         "0.0",
         "1.0",
         "1.0",
         "1.0",
         "1.0",
         "1.0",
         "1.0",
         "1.0",
         "1.0",
         "1.0",
         "1.0",
         "1.0",
         "1.0",
         "1.0",
         "1.0",
         "1.0",
         "1.0",
         "1.0",
         "1.0",
         "1.0",
         "1.0",
         "1.0",
         "1.0",
         "1.0",
         "0.0",
         "0.0",
         "0.0",
         "0.0",
         "0.0",
         "0.0",
         "0.0",
         "0.0",
         "0.0",
         "0.0",
         "0.0",
         "0.0",
         "0.0",
         "0.0",
         "0.0",
         "0.0",
         "0.0",
         "0.0",
         "0.0",
         "1.0",
         "1.0",
         "0.0",
         "0.0",
         "0.0",
         "0.0",
         "0.0",
         "0.0",
         "1.0",
         "1.0",
         "1.0",
         "0.0",
         "0.0",
         "0.0",
         "0.0",
         "0.0",
         "0.0",
         "0.0",
         "0.0",
         "0.0",
         "1.0",
         "1.0",
         "1.0",
         "1.0",
         "0.0",
         "0.0",
         "0.0",
         "0.0",
         "0.0",
         "0.0",
         "0.0",
         "0.0",
         "0.0",
         "0.0",
         "0.0",
         "0.0",
         "0.0",
         "0.0",
         "0.0",
         "0.0",
         "0.0",
         "0.0",
         "0.0",
         "0.0",
         "0.0",
         "0.0",
         "0.0",
         "0.0",
         "0.0",
         "0.0",
         "0.0",
         "0.0",
         "0.0",
         "0.0",
         "0.0",
         "0.0",
         "0.0",
         "0.0"
        ]
       ],
       "shape": {
        "columns": 394,
        "rows": 5
       }
      },
      "text/html": [
       "<div>\n",
       "<style scoped>\n",
       "    .dataframe tbody tr th:only-of-type {\n",
       "        vertical-align: middle;\n",
       "    }\n",
       "\n",
       "    .dataframe tbody tr th {\n",
       "        vertical-align: top;\n",
       "    }\n",
       "\n",
       "    .dataframe thead th {\n",
       "        text-align: right;\n",
       "    }\n",
       "</style>\n",
       "<table border=\"1\" class=\"dataframe\">\n",
       "  <thead>\n",
       "    <tr style=\"text-align: right;\">\n",
       "      <th></th>\n",
       "      <th>TransactionID</th>\n",
       "      <th>isFraud</th>\n",
       "      <th>TransactionDT</th>\n",
       "      <th>TransactionAmt</th>\n",
       "      <th>ProductCD</th>\n",
       "      <th>card1</th>\n",
       "      <th>card2</th>\n",
       "      <th>card3</th>\n",
       "      <th>card4</th>\n",
       "      <th>card5</th>\n",
       "      <th>...</th>\n",
       "      <th>V330</th>\n",
       "      <th>V331</th>\n",
       "      <th>V332</th>\n",
       "      <th>V333</th>\n",
       "      <th>V334</th>\n",
       "      <th>V335</th>\n",
       "      <th>V336</th>\n",
       "      <th>V337</th>\n",
       "      <th>V338</th>\n",
       "      <th>V339</th>\n",
       "    </tr>\n",
       "  </thead>\n",
       "  <tbody>\n",
       "    <tr>\n",
       "      <th>0</th>\n",
       "      <td>2987000</td>\n",
       "      <td>0</td>\n",
       "      <td>86400</td>\n",
       "      <td>68.5</td>\n",
       "      <td>W</td>\n",
       "      <td>13926</td>\n",
       "      <td>NaN</td>\n",
       "      <td>150.0</td>\n",
       "      <td>discover</td>\n",
       "      <td>142.0</td>\n",
       "      <td>...</td>\n",
       "      <td>NaN</td>\n",
       "      <td>NaN</td>\n",
       "      <td>NaN</td>\n",
       "      <td>NaN</td>\n",
       "      <td>NaN</td>\n",
       "      <td>NaN</td>\n",
       "      <td>NaN</td>\n",
       "      <td>NaN</td>\n",
       "      <td>NaN</td>\n",
       "      <td>NaN</td>\n",
       "    </tr>\n",
       "    <tr>\n",
       "      <th>1</th>\n",
       "      <td>2987001</td>\n",
       "      <td>0</td>\n",
       "      <td>86401</td>\n",
       "      <td>29.0</td>\n",
       "      <td>W</td>\n",
       "      <td>2755</td>\n",
       "      <td>404.0</td>\n",
       "      <td>150.0</td>\n",
       "      <td>mastercard</td>\n",
       "      <td>102.0</td>\n",
       "      <td>...</td>\n",
       "      <td>NaN</td>\n",
       "      <td>NaN</td>\n",
       "      <td>NaN</td>\n",
       "      <td>NaN</td>\n",
       "      <td>NaN</td>\n",
       "      <td>NaN</td>\n",
       "      <td>NaN</td>\n",
       "      <td>NaN</td>\n",
       "      <td>NaN</td>\n",
       "      <td>NaN</td>\n",
       "    </tr>\n",
       "    <tr>\n",
       "      <th>2</th>\n",
       "      <td>2987002</td>\n",
       "      <td>0</td>\n",
       "      <td>86469</td>\n",
       "      <td>59.0</td>\n",
       "      <td>W</td>\n",
       "      <td>4663</td>\n",
       "      <td>490.0</td>\n",
       "      <td>150.0</td>\n",
       "      <td>visa</td>\n",
       "      <td>166.0</td>\n",
       "      <td>...</td>\n",
       "      <td>NaN</td>\n",
       "      <td>NaN</td>\n",
       "      <td>NaN</td>\n",
       "      <td>NaN</td>\n",
       "      <td>NaN</td>\n",
       "      <td>NaN</td>\n",
       "      <td>NaN</td>\n",
       "      <td>NaN</td>\n",
       "      <td>NaN</td>\n",
       "      <td>NaN</td>\n",
       "    </tr>\n",
       "    <tr>\n",
       "      <th>3</th>\n",
       "      <td>2987003</td>\n",
       "      <td>0</td>\n",
       "      <td>86499</td>\n",
       "      <td>50.0</td>\n",
       "      <td>W</td>\n",
       "      <td>18132</td>\n",
       "      <td>567.0</td>\n",
       "      <td>150.0</td>\n",
       "      <td>mastercard</td>\n",
       "      <td>117.0</td>\n",
       "      <td>...</td>\n",
       "      <td>NaN</td>\n",
       "      <td>NaN</td>\n",
       "      <td>NaN</td>\n",
       "      <td>NaN</td>\n",
       "      <td>NaN</td>\n",
       "      <td>NaN</td>\n",
       "      <td>NaN</td>\n",
       "      <td>NaN</td>\n",
       "      <td>NaN</td>\n",
       "      <td>NaN</td>\n",
       "    </tr>\n",
       "    <tr>\n",
       "      <th>4</th>\n",
       "      <td>2987004</td>\n",
       "      <td>0</td>\n",
       "      <td>86506</td>\n",
       "      <td>50.0</td>\n",
       "      <td>H</td>\n",
       "      <td>4497</td>\n",
       "      <td>514.0</td>\n",
       "      <td>150.0</td>\n",
       "      <td>mastercard</td>\n",
       "      <td>102.0</td>\n",
       "      <td>...</td>\n",
       "      <td>0.0</td>\n",
       "      <td>0.0</td>\n",
       "      <td>0.0</td>\n",
       "      <td>0.0</td>\n",
       "      <td>0.0</td>\n",
       "      <td>0.0</td>\n",
       "      <td>0.0</td>\n",
       "      <td>0.0</td>\n",
       "      <td>0.0</td>\n",
       "      <td>0.0</td>\n",
       "    </tr>\n",
       "  </tbody>\n",
       "</table>\n",
       "<p>5 rows × 394 columns</p>\n",
       "</div>"
      ],
      "text/plain": [
       "   TransactionID  isFraud  TransactionDT  TransactionAmt ProductCD  card1  \\\n",
       "0        2987000        0          86400            68.5         W  13926   \n",
       "1        2987001        0          86401            29.0         W   2755   \n",
       "2        2987002        0          86469            59.0         W   4663   \n",
       "3        2987003        0          86499            50.0         W  18132   \n",
       "4        2987004        0          86506            50.0         H   4497   \n",
       "\n",
       "   card2  card3       card4  card5  ... V330  V331  V332  V333  V334 V335  \\\n",
       "0    NaN  150.0    discover  142.0  ...  NaN   NaN   NaN   NaN   NaN  NaN   \n",
       "1  404.0  150.0  mastercard  102.0  ...  NaN   NaN   NaN   NaN   NaN  NaN   \n",
       "2  490.0  150.0        visa  166.0  ...  NaN   NaN   NaN   NaN   NaN  NaN   \n",
       "3  567.0  150.0  mastercard  117.0  ...  NaN   NaN   NaN   NaN   NaN  NaN   \n",
       "4  514.0  150.0  mastercard  102.0  ...  0.0   0.0   0.0   0.0   0.0  0.0   \n",
       "\n",
       "  V336  V337  V338  V339  \n",
       "0  NaN   NaN   NaN   NaN  \n",
       "1  NaN   NaN   NaN   NaN  \n",
       "2  NaN   NaN   NaN   NaN  \n",
       "3  NaN   NaN   NaN   NaN  \n",
       "4  0.0   0.0   0.0   0.0  \n",
       "\n",
       "[5 rows x 394 columns]"
      ]
     },
     "execution_count": 13,
     "metadata": {},
     "output_type": "execute_result"
    }
   ],
   "source": [
    "df_tr.head()"
   ]
  },
  {
   "cell_type": "code",
   "execution_count": 14,
   "id": "3d87ca8e",
   "metadata": {},
   "outputs": [
    {
     "name": "stdout",
     "output_type": "stream",
     "text": [
      "Top 10 columns with highest NaN ratio in Transanciones:\n",
      "dist2    0.936284\n",
      "D7       0.934099\n",
      "D13      0.895093\n",
      "D14      0.894695\n",
      "D12      0.890410\n",
      "D6       0.876068\n",
      "D9       0.873123\n",
      "D8       0.873123\n",
      "V153     0.861237\n",
      "V139     0.861237\n",
      "dtype: float64\n",
      "\n",
      "Columns with >50% NaN in Transanciones: ['dist2', 'D7', 'D13', 'D14', 'D12', 'D6', 'D9', 'D8', 'V153', 'V139', 'V162', 'V161', 'V154', 'V138', 'V158', 'V157', 'V163', 'V156', 'V155', 'V149', 'V148', 'V147', 'V146', 'V142', 'V141', 'V140', 'V151', 'V152', 'V145', 'V144', 'V150', 'V143', 'V160', 'V166', 'V164', 'V159', 'V165', 'V322', 'V332', 'V338', 'V337', 'V336', 'V335', 'V334', 'V333', 'V331', 'V323', 'V330', 'V328', 'V327', 'V326', 'V325', 'V324', 'V329', 'V339', 'V240', 'V235', 'V252', 'V249', 'V248', 'V247', 'V246', 'V244', 'V243', 'V242', 'V241', 'V237', 'V236', 'V233', 'V254', 'V232', 'V231', 'V230', 'V229', 'V228', 'V217', 'V226', 'V225', 'V224', 'V223', 'V218', 'V253', 'V219', 'V266', 'V262', 'V268', 'V267', 'V273', 'V274', 'V275', 'V276', 'V265', 'V264', 'V263', 'V277', 'V261', 'V260', 'V278', 'V258', 'V257', 'V269', 'R_emaildomain', 'V203', 'V196', 'V202', 'V207', 'V204', 'V216', 'V206', 'V215', 'V214', 'V213', 'V212', 'V205', 'V211', 'V192', 'V193', 'V186', 'V183', 'V190', 'V167', 'V168', 'V187', 'V172', 'V173', 'V182', 'V199', 'V176', 'V177', 'V178', 'V179', 'V191', 'V181', 'V195', 'V189', 'V198', 'V188', 'V197', 'V194', 'V170', 'V200', 'V201', 'V208', 'V209', 'V210', 'V184', 'V185', 'V175', 'V174', 'V171', 'V169', 'V180', 'V221', 'V220', 'V250', 'V272', 'V271', 'V270', 'V256', 'V255', 'V251', 'V259', 'V245', 'V239', 'V238', 'V234', 'V227', 'V222', 'dist1', 'M5', 'M7', 'M9', 'M8', 'D5']\n",
      "Top 10 columns with highest NaN ratio in Entidades:\n",
      "id_24    0.967088\n",
      "id_25    0.964419\n",
      "id_07    0.964259\n",
      "id_08    0.964259\n",
      "id_21    0.964231\n",
      "id_26    0.964204\n",
      "id_23    0.964162\n",
      "id_27    0.964162\n",
      "id_22    0.964162\n",
      "id_18    0.687221\n",
      "dtype: float64\n",
      "\n",
      "Columns with >50% NaN in Entidades: ['id_24', 'id_25', 'id_07', 'id_08', 'id_21', 'id_26', 'id_23', 'id_27', 'id_22', 'id_18', 'id_03', 'id_04']\n"
     ]
    }
   ],
   "source": [
    "nan_ratio(df_tr, 'Transanciones')\n",
    "\n",
    "nan_ratio(df_id, 'Entidades')"
   ]
  },
  {
   "cell_type": "code",
   "execution_count": 15,
   "id": "9007ee08",
   "metadata": {},
   "outputs": [
    {
     "name": "stdout",
     "output_type": "stream",
     "text": [
      "Shape merged inner: (144233, 434)\n"
     ]
    },
    {
     "data": {
      "text/html": [
       "\n",
       "        <iframe\n",
       "            width=\"100%\"\n",
       "            height=\"475\"\n",
       "            src=\"http://Jorges-Mac-mini.local:40000/dtale/iframe/2\"\n",
       "            frameborder=\"0\"\n",
       "            allowfullscreen\n",
       "            \n",
       "        ></iframe>\n",
       "        "
      ],
      "text/plain": [
       "<IPython.lib.display.IFrame at 0x137abdd00>"
      ]
     },
     "metadata": {},
     "output_type": "display_data"
    },
    {
     "data": {
      "text/plain": []
     },
     "execution_count": 15,
     "metadata": {},
     "output_type": "execute_result"
    }
   ],
   "source": [
    "df_full = pd.merge(\n",
    "    df_tr,\n",
    "    df_id,\n",
    "    on=\"TransactionID\",    # clave común\n",
    "    how=\"inner\"            # solo intersección de IDs\n",
    ")\n",
    "\n",
    "print(\"Shape merged inner:\", df_full.shape)\n",
    "dtale.show(df_full)"
   ]
  },
  {
   "cell_type": "code",
   "execution_count": 16,
   "id": "8e8feab4",
   "metadata": {},
   "outputs": [
    {
     "name": "stdout",
     "output_type": "stream",
     "text": [
      "Shape merged Outer: (144233, 434)\n"
     ]
    },
    {
     "data": {
      "text/html": [
       "\n",
       "        <iframe\n",
       "            width=\"100%\"\n",
       "            height=\"475\"\n",
       "            src=\"http://Jorges-Mac-mini.local:40000/dtale/iframe/3\"\n",
       "            frameborder=\"0\"\n",
       "            allowfullscreen\n",
       "            \n",
       "        ></iframe>\n",
       "        "
      ],
      "text/plain": [
       "<IPython.lib.display.IFrame at 0x336e801d0>"
      ]
     },
     "metadata": {},
     "output_type": "display_data"
    },
    {
     "data": {
      "text/plain": []
     },
     "execution_count": 16,
     "metadata": {},
     "output_type": "execute_result"
    }
   ],
   "source": [
    "df_full_with_NAN = pd.merge(\n",
    "    df_tr,\n",
    "    df_id,\n",
    "    on=\"TransactionID\",    # clave común\n",
    "    how=\"outer\"            # solo intersección de IDs\n",
    ")\n",
    "\n",
    "print(\"Shape merged Outer:\", df_full.shape)\n",
    "dtale.show(df_full_with_NAN)"
   ]
  },
  {
   "cell_type": "code",
   "execution_count": 17,
   "id": "84781b30",
   "metadata": {},
   "outputs": [
    {
     "name": "stdout",
     "output_type": "stream",
     "text": [
      "Cantidad de valores nulos en isFraud: 0\n",
      "\n",
      "Distribución de isFraud:\n",
      "Clase 0: 569877 registros (96.50%)\n",
      "Clase 1: 20663 registros (3.50%)\n"
     ]
    }
   ],
   "source": [
    "calcular_nulos(df_full_with_NAN)\n",
    "fraud_licit_ratio(df_full_with_NAN)"
   ]
  },
  {
   "cell_type": "code",
   "execution_count": 18,
   "id": "f0a20dc7",
   "metadata": {},
   "outputs": [
    {
     "name": "stdout",
     "output_type": "stream",
     "text": [
      "Shape original Merged: (144233, 247)\n"
     ]
    }
   ],
   "source": [
    "# Define threshold: drop columns with more than 70% NaN\n",
    "threshold = 0.4\n",
    "\n",
    "df_full_reduced  = df_full.dropna(axis=1, thresh=int(len(df_full)*(1-threshold)))\n",
    "\n",
    "print(\"Shape original Merged:\", df_full_reduced.shape)"
   ]
  },
  {
   "cell_type": "code",
   "execution_count": 19,
   "id": "e8cbe967",
   "metadata": {},
   "outputs": [
    {
     "name": "stdout",
     "output_type": "stream",
     "text": [
      "Cantidad de valores nulos en isFraud: 0\n",
      "\n",
      "Distribución de isFraud:\n",
      "Clase 0: 132915 registros (92.15%)\n",
      "Clase 1: 11318 registros (7.85%)\n"
     ]
    }
   ],
   "source": [
    "calcular_nulos(df_full_reduced)\n",
    "fraud_licit_ratio(df_full_reduced)"
   ]
  },
  {
   "cell_type": "code",
   "execution_count": 20,
   "id": "1a1edede",
   "metadata": {},
   "outputs": [
    {
     "data": {
      "application/vnd.microsoft.datawrangler.viewer.v0+json": {
       "columns": [
        {
         "name": "index",
         "rawType": "int64",
         "type": "integer"
        },
        {
         "name": "TransactionID",
         "rawType": "int64",
         "type": "integer"
        },
        {
         "name": "isFraud",
         "rawType": "int64",
         "type": "integer"
        },
        {
         "name": "TransactionDT",
         "rawType": "int64",
         "type": "integer"
        },
        {
         "name": "TransactionAmt",
         "rawType": "float64",
         "type": "float"
        },
        {
         "name": "ProductCD",
         "rawType": "object",
         "type": "string"
        },
        {
         "name": "card1",
         "rawType": "int64",
         "type": "integer"
        },
        {
         "name": "card2",
         "rawType": "float64",
         "type": "float"
        },
        {
         "name": "card3",
         "rawType": "float64",
         "type": "float"
        },
        {
         "name": "card4",
         "rawType": "object",
         "type": "string"
        },
        {
         "name": "card5",
         "rawType": "float64",
         "type": "float"
        },
        {
         "name": "card6",
         "rawType": "object",
         "type": "string"
        },
        {
         "name": "P_emaildomain",
         "rawType": "object",
         "type": "string"
        },
        {
         "name": "R_emaildomain",
         "rawType": "object",
         "type": "unknown"
        },
        {
         "name": "C1",
         "rawType": "float64",
         "type": "float"
        },
        {
         "name": "C2",
         "rawType": "float64",
         "type": "float"
        },
        {
         "name": "C3",
         "rawType": "float64",
         "type": "float"
        },
        {
         "name": "C4",
         "rawType": "float64",
         "type": "float"
        },
        {
         "name": "C5",
         "rawType": "float64",
         "type": "float"
        },
        {
         "name": "C6",
         "rawType": "float64",
         "type": "float"
        },
        {
         "name": "C7",
         "rawType": "float64",
         "type": "float"
        },
        {
         "name": "C8",
         "rawType": "float64",
         "type": "float"
        },
        {
         "name": "C9",
         "rawType": "float64",
         "type": "float"
        },
        {
         "name": "C10",
         "rawType": "float64",
         "type": "float"
        },
        {
         "name": "C11",
         "rawType": "float64",
         "type": "float"
        },
        {
         "name": "C12",
         "rawType": "float64",
         "type": "float"
        },
        {
         "name": "C13",
         "rawType": "float64",
         "type": "float"
        },
        {
         "name": "C14",
         "rawType": "float64",
         "type": "float"
        },
        {
         "name": "D1",
         "rawType": "float64",
         "type": "float"
        },
        {
         "name": "V95",
         "rawType": "float64",
         "type": "float"
        },
        {
         "name": "V96",
         "rawType": "float64",
         "type": "float"
        },
        {
         "name": "V97",
         "rawType": "float64",
         "type": "float"
        },
        {
         "name": "V98",
         "rawType": "float64",
         "type": "float"
        },
        {
         "name": "V99",
         "rawType": "float64",
         "type": "float"
        },
        {
         "name": "V100",
         "rawType": "float64",
         "type": "float"
        },
        {
         "name": "V101",
         "rawType": "float64",
         "type": "float"
        },
        {
         "name": "V102",
         "rawType": "float64",
         "type": "float"
        },
        {
         "name": "V103",
         "rawType": "float64",
         "type": "float"
        },
        {
         "name": "V104",
         "rawType": "float64",
         "type": "float"
        },
        {
         "name": "V105",
         "rawType": "float64",
         "type": "float"
        },
        {
         "name": "V106",
         "rawType": "float64",
         "type": "float"
        },
        {
         "name": "V107",
         "rawType": "float64",
         "type": "float"
        },
        {
         "name": "V108",
         "rawType": "float64",
         "type": "float"
        },
        {
         "name": "V109",
         "rawType": "float64",
         "type": "float"
        },
        {
         "name": "V110",
         "rawType": "float64",
         "type": "float"
        },
        {
         "name": "V111",
         "rawType": "float64",
         "type": "float"
        },
        {
         "name": "V112",
         "rawType": "float64",
         "type": "float"
        },
        {
         "name": "V113",
         "rawType": "float64",
         "type": "float"
        },
        {
         "name": "V114",
         "rawType": "float64",
         "type": "float"
        },
        {
         "name": "V115",
         "rawType": "float64",
         "type": "float"
        },
        {
         "name": "V116",
         "rawType": "float64",
         "type": "float"
        },
        {
         "name": "V117",
         "rawType": "float64",
         "type": "float"
        },
        {
         "name": "V118",
         "rawType": "float64",
         "type": "float"
        },
        {
         "name": "V119",
         "rawType": "float64",
         "type": "float"
        },
        {
         "name": "V120",
         "rawType": "float64",
         "type": "float"
        },
        {
         "name": "V121",
         "rawType": "float64",
         "type": "float"
        },
        {
         "name": "V122",
         "rawType": "float64",
         "type": "float"
        },
        {
         "name": "V123",
         "rawType": "float64",
         "type": "float"
        },
        {
         "name": "V124",
         "rawType": "float64",
         "type": "float"
        },
        {
         "name": "V125",
         "rawType": "float64",
         "type": "float"
        },
        {
         "name": "V126",
         "rawType": "float64",
         "type": "float"
        },
        {
         "name": "V127",
         "rawType": "float64",
         "type": "float"
        },
        {
         "name": "V128",
         "rawType": "float64",
         "type": "float"
        },
        {
         "name": "V129",
         "rawType": "float64",
         "type": "float"
        },
        {
         "name": "V130",
         "rawType": "float64",
         "type": "float"
        },
        {
         "name": "V131",
         "rawType": "float64",
         "type": "float"
        },
        {
         "name": "V132",
         "rawType": "float64",
         "type": "float"
        },
        {
         "name": "V133",
         "rawType": "float64",
         "type": "float"
        },
        {
         "name": "V134",
         "rawType": "float64",
         "type": "float"
        },
        {
         "name": "V135",
         "rawType": "float64",
         "type": "float"
        },
        {
         "name": "V136",
         "rawType": "float64",
         "type": "float"
        },
        {
         "name": "V137",
         "rawType": "float64",
         "type": "float"
        },
        {
         "name": "V167",
         "rawType": "float64",
         "type": "float"
        },
        {
         "name": "V168",
         "rawType": "float64",
         "type": "float"
        },
        {
         "name": "V169",
         "rawType": "float64",
         "type": "float"
        },
        {
         "name": "V170",
         "rawType": "float64",
         "type": "float"
        },
        {
         "name": "V171",
         "rawType": "float64",
         "type": "float"
        },
        {
         "name": "V172",
         "rawType": "float64",
         "type": "float"
        },
        {
         "name": "V173",
         "rawType": "float64",
         "type": "float"
        },
        {
         "name": "V174",
         "rawType": "float64",
         "type": "float"
        },
        {
         "name": "V175",
         "rawType": "float64",
         "type": "float"
        },
        {
         "name": "V176",
         "rawType": "float64",
         "type": "float"
        },
        {
         "name": "V177",
         "rawType": "float64",
         "type": "float"
        },
        {
         "name": "V178",
         "rawType": "float64",
         "type": "float"
        },
        {
         "name": "V179",
         "rawType": "float64",
         "type": "float"
        },
        {
         "name": "V180",
         "rawType": "float64",
         "type": "float"
        },
        {
         "name": "V181",
         "rawType": "float64",
         "type": "float"
        },
        {
         "name": "V182",
         "rawType": "float64",
         "type": "float"
        },
        {
         "name": "V183",
         "rawType": "float64",
         "type": "float"
        },
        {
         "name": "V184",
         "rawType": "float64",
         "type": "float"
        },
        {
         "name": "V185",
         "rawType": "float64",
         "type": "float"
        },
        {
         "name": "V186",
         "rawType": "float64",
         "type": "float"
        },
        {
         "name": "V187",
         "rawType": "float64",
         "type": "float"
        },
        {
         "name": "V188",
         "rawType": "float64",
         "type": "float"
        },
        {
         "name": "V189",
         "rawType": "float64",
         "type": "float"
        },
        {
         "name": "V190",
         "rawType": "float64",
         "type": "float"
        },
        {
         "name": "V191",
         "rawType": "float64",
         "type": "float"
        },
        {
         "name": "V192",
         "rawType": "float64",
         "type": "float"
        },
        {
         "name": "V193",
         "rawType": "float64",
         "type": "float"
        },
        {
         "name": "V194",
         "rawType": "float64",
         "type": "float"
        },
        {
         "name": "V195",
         "rawType": "float64",
         "type": "float"
        },
        {
         "name": "V196",
         "rawType": "float64",
         "type": "float"
        },
        {
         "name": "V197",
         "rawType": "float64",
         "type": "float"
        },
        {
         "name": "V198",
         "rawType": "float64",
         "type": "float"
        },
        {
         "name": "V199",
         "rawType": "float64",
         "type": "float"
        },
        {
         "name": "V200",
         "rawType": "float64",
         "type": "float"
        },
        {
         "name": "V201",
         "rawType": "float64",
         "type": "float"
        },
        {
         "name": "V202",
         "rawType": "float64",
         "type": "float"
        },
        {
         "name": "V203",
         "rawType": "float64",
         "type": "float"
        },
        {
         "name": "V204",
         "rawType": "float64",
         "type": "float"
        },
        {
         "name": "V205",
         "rawType": "float64",
         "type": "float"
        },
        {
         "name": "V206",
         "rawType": "float64",
         "type": "float"
        },
        {
         "name": "V207",
         "rawType": "float64",
         "type": "float"
        },
        {
         "name": "V208",
         "rawType": "float64",
         "type": "float"
        },
        {
         "name": "V209",
         "rawType": "float64",
         "type": "float"
        },
        {
         "name": "V210",
         "rawType": "float64",
         "type": "float"
        },
        {
         "name": "V211",
         "rawType": "float64",
         "type": "float"
        },
        {
         "name": "V212",
         "rawType": "float64",
         "type": "float"
        },
        {
         "name": "V213",
         "rawType": "float64",
         "type": "float"
        },
        {
         "name": "V214",
         "rawType": "float64",
         "type": "float"
        },
        {
         "name": "V215",
         "rawType": "float64",
         "type": "float"
        },
        {
         "name": "V216",
         "rawType": "float64",
         "type": "float"
        },
        {
         "name": "V217",
         "rawType": "float64",
         "type": "float"
        },
        {
         "name": "V218",
         "rawType": "float64",
         "type": "float"
        },
        {
         "name": "V219",
         "rawType": "float64",
         "type": "float"
        },
        {
         "name": "V220",
         "rawType": "float64",
         "type": "float"
        },
        {
         "name": "V221",
         "rawType": "float64",
         "type": "float"
        },
        {
         "name": "V222",
         "rawType": "float64",
         "type": "float"
        },
        {
         "name": "V223",
         "rawType": "float64",
         "type": "float"
        },
        {
         "name": "V224",
         "rawType": "float64",
         "type": "float"
        },
        {
         "name": "V225",
         "rawType": "float64",
         "type": "float"
        },
        {
         "name": "V226",
         "rawType": "float64",
         "type": "float"
        },
        {
         "name": "V227",
         "rawType": "float64",
         "type": "float"
        },
        {
         "name": "V228",
         "rawType": "float64",
         "type": "float"
        },
        {
         "name": "V229",
         "rawType": "float64",
         "type": "float"
        },
        {
         "name": "V230",
         "rawType": "float64",
         "type": "float"
        },
        {
         "name": "V231",
         "rawType": "float64",
         "type": "float"
        },
        {
         "name": "V232",
         "rawType": "float64",
         "type": "float"
        },
        {
         "name": "V233",
         "rawType": "float64",
         "type": "float"
        },
        {
         "name": "V234",
         "rawType": "float64",
         "type": "float"
        },
        {
         "name": "V235",
         "rawType": "float64",
         "type": "float"
        },
        {
         "name": "V236",
         "rawType": "float64",
         "type": "float"
        },
        {
         "name": "V237",
         "rawType": "float64",
         "type": "float"
        },
        {
         "name": "V238",
         "rawType": "float64",
         "type": "float"
        },
        {
         "name": "V239",
         "rawType": "float64",
         "type": "float"
        },
        {
         "name": "V240",
         "rawType": "float64",
         "type": "float"
        },
        {
         "name": "V241",
         "rawType": "float64",
         "type": "float"
        },
        {
         "name": "V242",
         "rawType": "float64",
         "type": "float"
        },
        {
         "name": "V243",
         "rawType": "float64",
         "type": "float"
        },
        {
         "name": "V244",
         "rawType": "float64",
         "type": "float"
        },
        {
         "name": "V245",
         "rawType": "float64",
         "type": "float"
        },
        {
         "name": "V246",
         "rawType": "float64",
         "type": "float"
        },
        {
         "name": "V247",
         "rawType": "float64",
         "type": "float"
        },
        {
         "name": "V248",
         "rawType": "float64",
         "type": "float"
        },
        {
         "name": "V249",
         "rawType": "float64",
         "type": "float"
        },
        {
         "name": "V250",
         "rawType": "float64",
         "type": "float"
        },
        {
         "name": "V251",
         "rawType": "float64",
         "type": "float"
        },
        {
         "name": "V252",
         "rawType": "float64",
         "type": "float"
        },
        {
         "name": "V253",
         "rawType": "float64",
         "type": "float"
        },
        {
         "name": "V254",
         "rawType": "float64",
         "type": "float"
        },
        {
         "name": "V255",
         "rawType": "float64",
         "type": "float"
        },
        {
         "name": "V256",
         "rawType": "float64",
         "type": "float"
        },
        {
         "name": "V257",
         "rawType": "float64",
         "type": "float"
        },
        {
         "name": "V258",
         "rawType": "float64",
         "type": "float"
        },
        {
         "name": "V259",
         "rawType": "float64",
         "type": "float"
        },
        {
         "name": "V260",
         "rawType": "float64",
         "type": "float"
        },
        {
         "name": "V261",
         "rawType": "float64",
         "type": "float"
        },
        {
         "name": "V262",
         "rawType": "float64",
         "type": "float"
        },
        {
         "name": "V263",
         "rawType": "float64",
         "type": "float"
        },
        {
         "name": "V264",
         "rawType": "float64",
         "type": "float"
        },
        {
         "name": "V265",
         "rawType": "float64",
         "type": "float"
        },
        {
         "name": "V266",
         "rawType": "float64",
         "type": "float"
        },
        {
         "name": "V267",
         "rawType": "float64",
         "type": "float"
        },
        {
         "name": "V268",
         "rawType": "float64",
         "type": "float"
        },
        {
         "name": "V269",
         "rawType": "float64",
         "type": "float"
        },
        {
         "name": "V270",
         "rawType": "float64",
         "type": "float"
        },
        {
         "name": "V271",
         "rawType": "float64",
         "type": "float"
        },
        {
         "name": "V272",
         "rawType": "float64",
         "type": "float"
        },
        {
         "name": "V273",
         "rawType": "float64",
         "type": "float"
        },
        {
         "name": "V274",
         "rawType": "float64",
         "type": "float"
        },
        {
         "name": "V275",
         "rawType": "float64",
         "type": "float"
        },
        {
         "name": "V276",
         "rawType": "float64",
         "type": "float"
        },
        {
         "name": "V277",
         "rawType": "float64",
         "type": "float"
        },
        {
         "name": "V278",
         "rawType": "float64",
         "type": "float"
        },
        {
         "name": "V279",
         "rawType": "float64",
         "type": "float"
        },
        {
         "name": "V280",
         "rawType": "float64",
         "type": "float"
        },
        {
         "name": "V281",
         "rawType": "float64",
         "type": "float"
        },
        {
         "name": "V282",
         "rawType": "float64",
         "type": "float"
        },
        {
         "name": "V283",
         "rawType": "float64",
         "type": "float"
        },
        {
         "name": "V284",
         "rawType": "float64",
         "type": "float"
        },
        {
         "name": "V285",
         "rawType": "float64",
         "type": "float"
        },
        {
         "name": "V286",
         "rawType": "float64",
         "type": "float"
        },
        {
         "name": "V287",
         "rawType": "float64",
         "type": "float"
        },
        {
         "name": "V288",
         "rawType": "float64",
         "type": "float"
        },
        {
         "name": "V289",
         "rawType": "float64",
         "type": "float"
        },
        {
         "name": "V290",
         "rawType": "float64",
         "type": "float"
        },
        {
         "name": "V291",
         "rawType": "float64",
         "type": "float"
        },
        {
         "name": "V292",
         "rawType": "float64",
         "type": "float"
        },
        {
         "name": "V293",
         "rawType": "float64",
         "type": "float"
        },
        {
         "name": "V294",
         "rawType": "float64",
         "type": "float"
        },
        {
         "name": "V295",
         "rawType": "float64",
         "type": "float"
        },
        {
         "name": "V296",
         "rawType": "float64",
         "type": "float"
        },
        {
         "name": "V297",
         "rawType": "float64",
         "type": "float"
        },
        {
         "name": "V298",
         "rawType": "float64",
         "type": "float"
        },
        {
         "name": "V299",
         "rawType": "float64",
         "type": "float"
        },
        {
         "name": "V300",
         "rawType": "float64",
         "type": "float"
        },
        {
         "name": "V301",
         "rawType": "float64",
         "type": "float"
        },
        {
         "name": "V302",
         "rawType": "float64",
         "type": "float"
        },
        {
         "name": "V303",
         "rawType": "float64",
         "type": "float"
        },
        {
         "name": "V304",
         "rawType": "float64",
         "type": "float"
        },
        {
         "name": "V305",
         "rawType": "float64",
         "type": "float"
        },
        {
         "name": "V306",
         "rawType": "float64",
         "type": "float"
        },
        {
         "name": "V307",
         "rawType": "float64",
         "type": "float"
        },
        {
         "name": "V308",
         "rawType": "float64",
         "type": "float"
        },
        {
         "name": "V309",
         "rawType": "float64",
         "type": "float"
        },
        {
         "name": "V310",
         "rawType": "float64",
         "type": "float"
        },
        {
         "name": "V311",
         "rawType": "float64",
         "type": "float"
        },
        {
         "name": "V312",
         "rawType": "float64",
         "type": "float"
        },
        {
         "name": "V313",
         "rawType": "float64",
         "type": "float"
        },
        {
         "name": "V314",
         "rawType": "float64",
         "type": "float"
        },
        {
         "name": "V315",
         "rawType": "float64",
         "type": "float"
        },
        {
         "name": "V316",
         "rawType": "float64",
         "type": "float"
        },
        {
         "name": "V317",
         "rawType": "float64",
         "type": "float"
        },
        {
         "name": "V318",
         "rawType": "float64",
         "type": "float"
        },
        {
         "name": "V319",
         "rawType": "float64",
         "type": "float"
        },
        {
         "name": "V320",
         "rawType": "float64",
         "type": "float"
        },
        {
         "name": "V321",
         "rawType": "float64",
         "type": "float"
        },
        {
         "name": "id_01",
         "rawType": "float64",
         "type": "float"
        },
        {
         "name": "id_02",
         "rawType": "float64",
         "type": "float"
        },
        {
         "name": "id_05",
         "rawType": "float64",
         "type": "float"
        },
        {
         "name": "id_06",
         "rawType": "float64",
         "type": "float"
        },
        {
         "name": "id_11",
         "rawType": "float64",
         "type": "float"
        },
        {
         "name": "id_12",
         "rawType": "object",
         "type": "string"
        },
        {
         "name": "id_13",
         "rawType": "float64",
         "type": "float"
        },
        {
         "name": "id_15",
         "rawType": "object",
         "type": "string"
        },
        {
         "name": "id_16",
         "rawType": "object",
         "type": "string"
        },
        {
         "name": "id_17",
         "rawType": "float64",
         "type": "float"
        },
        {
         "name": "id_19",
         "rawType": "float64",
         "type": "float"
        },
        {
         "name": "id_20",
         "rawType": "float64",
         "type": "float"
        },
        {
         "name": "id_28",
         "rawType": "object",
         "type": "string"
        },
        {
         "name": "id_29",
         "rawType": "object",
         "type": "string"
        },
        {
         "name": "id_31",
         "rawType": "object",
         "type": "string"
        },
        {
         "name": "id_35",
         "rawType": "object",
         "type": "string"
        },
        {
         "name": "id_36",
         "rawType": "object",
         "type": "string"
        },
        {
         "name": "id_37",
         "rawType": "object",
         "type": "string"
        },
        {
         "name": "id_38",
         "rawType": "object",
         "type": "string"
        },
        {
         "name": "DeviceType",
         "rawType": "object",
         "type": "string"
        },
        {
         "name": "DeviceInfo",
         "rawType": "object",
         "type": "unknown"
        }
       ],
       "ref": "ed39a318-8b7a-461a-8e5f-4e66650b252e",
       "rows": [
        [
         "0",
         "2987004",
         "0",
         "86506",
         "50.0",
         "H",
         "4497",
         "514.0",
         "150.0",
         "mastercard",
         "102.0",
         "credit",
         "gmail.com",
         null,
         "1.0",
         "1.0",
         "0.0",
         "0.0",
         "0.0",
         "1.0",
         "0.0",
         "1.0",
         "0.0",
         "1.0",
         "1.0",
         "0.0",
         "1.0",
         "1.0",
         "0.0",
         "0.0",
         "0.0",
         "0.0",
         "0.0",
         "0.0",
         "0.0",
         "0.0",
         "0.0",
         "0.0",
         "0.0",
         "0.0",
         "0.0",
         "1.0",
         "1.0",
         "1.0",
         "1.0",
         "1.0",
         "1.0",
         "1.0",
         "1.0",
         "1.0",
         "1.0",
         "1.0",
         "1.0",
         "1.0",
         "1.0",
         "1.0",
         "1.0",
         "1.0",
         "1.0",
         "1.0",
         "0.0",
         "0.0",
         "0.0",
         "0.0",
         "0.0",
         "0.0",
         "0.0",
         "0.0",
         "0.0",
         "0.0",
         "0.0",
         "0.0",
         "0.0",
         "0.0",
         "0.0",
         "1.0",
         "1.0",
         "0.0",
         "0.0",
         "0.0",
         "0.0",
         "1.0",
         "0.0",
         "0.0",
         "0.0",
         "0.0",
         "0.0",
         "0.0",
         "0.0",
         "0.0",
         "0.0",
         "1.0",
         "1.0",
         "1.0",
         "1.0",
         "1.0",
         "1.0",
         "1.0",
         "1.0",
         "1.0",
         "1.0",
         "1.0",
         "1.0",
         "1.0",
         "1.0",
         "1.0",
         "1.0",
         "0.0",
         "0.0",
         "0.0",
         "0.0",
         "0.0",
         "0.0",
         "0.0",
         "0.0",
         "0.0",
         "0.0",
         "0.0",
         "0.0",
         "0.0",
         "0.0",
         "0.0",
         "0.0",
         "0.0",
         "0.0",
         "0.0",
         "1.0",
         "1.0",
         "0.0",
         "0.0",
         "0.0",
         "0.0",
         "0.0",
         "1.0",
         "1.0",
         "1.0",
         "0.0",
         "0.0",
         "0.0",
         "0.0",
         "0.0",
         "0.0",
         "0.0",
         "0.0",
         "0.0",
         "1.0",
         "1.0",
         "1.0",
         "1.0",
         "1.0",
         "1.0",
         "1.0",
         "1.0",
         "1.0",
         "1.0",
         "1.0",
         "1.0",
         "1.0",
         "1.0",
         "1.0",
         "1.0",
         "1.0",
         "1.0",
         "1.0",
         "1.0",
         "1.0",
         "1.0",
         "1.0",
         "0.0",
         "0.0",
         "0.0",
         "0.0",
         "0.0",
         "0.0",
         "0.0",
         "0.0",
         "0.0",
         "0.0",
         "0.0",
         "0.0",
         "0.0",
         "0.0",
         "0.0",
         "0.0",
         "0.0",
         "0.0",
         "0.0",
         "1.0",
         "1.0",
         "0.0",
         "0.0",
         "0.0",
         "0.0",
         "0.0",
         "0.0",
         "1.0",
         "1.0",
         "1.0",
         "0.0",
         "0.0",
         "0.0",
         "0.0",
         "0.0",
         "0.0",
         "0.0",
         "0.0",
         "0.0",
         "1.0",
         "1.0",
         "1.0",
         "1.0",
         "0.0",
         "0.0",
         "0.0",
         "0.0",
         "0.0",
         "0.0",
         "0.0",
         "0.0",
         "0.0",
         "0.0",
         "0.0",
         "0.0",
         "0.0",
         "0.0",
         "0.0",
         "0.0",
         "0.0",
         "70787.0",
         null,
         null,
         "100.0",
         "NotFound",
         null,
         "New",
         "NotFound",
         "166.0",
         "542.0",
         "144.0",
         "New",
         "NotFound",
         "samsung browser 6.2",
         "T",
         "F",
         "T",
         "T",
         "mobile",
         "SAMSUNG SM-G892A Build/NRD90M"
        ],
        [
         "1",
         "2987008",
         "0",
         "86535",
         "15.0",
         "H",
         "2803",
         "100.0",
         "150.0",
         "visa",
         "226.0",
         "debit",
         "anonymous.com",
         null,
         "1.0",
         "1.0",
         "0.0",
         "0.0",
         "0.0",
         "1.0",
         "0.0",
         "1.0",
         "0.0",
         "1.0",
         "1.0",
         "0.0",
         "1.0",
         "1.0",
         "0.0",
         "0.0",
         "0.0",
         "0.0",
         "0.0",
         "0.0",
         "0.0",
         "0.0",
         "0.0",
         "0.0",
         "0.0",
         "0.0",
         "0.0",
         "1.0",
         "1.0",
         "1.0",
         "1.0",
         "1.0",
         "1.0",
         "1.0",
         "1.0",
         "1.0",
         "1.0",
         "1.0",
         "1.0",
         "1.0",
         "1.0",
         "1.0",
         "1.0",
         "1.0",
         "1.0",
         "1.0",
         "0.0",
         "0.0",
         "0.0",
         "0.0",
         "0.0",
         "0.0",
         "0.0",
         "0.0",
         "0.0",
         "0.0",
         "0.0",
         "0.0",
         "0.0",
         "0.0",
         "0.0",
         "1.0",
         "1.0",
         "0.0",
         "0.0",
         "0.0",
         "0.0",
         "1.0",
         "0.0",
         "0.0",
         "0.0",
         "0.0",
         "0.0",
         "0.0",
         "0.0",
         "0.0",
         "0.0",
         "1.0",
         "1.0",
         "1.0",
         "1.0",
         "1.0",
         "1.0",
         "1.0",
         "1.0",
         "1.0",
         "1.0",
         "1.0",
         "1.0",
         "1.0",
         "1.0",
         "1.0",
         "1.0",
         "0.0",
         "0.0",
         "0.0",
         "0.0",
         "0.0",
         "0.0",
         "0.0",
         "0.0",
         "0.0",
         "0.0",
         "0.0",
         "0.0",
         "0.0",
         "0.0",
         "0.0",
         "0.0",
         "0.0",
         "0.0",
         "0.0",
         "1.0",
         "1.0",
         "0.0",
         "0.0",
         "0.0",
         "0.0",
         "0.0",
         "1.0",
         "1.0",
         "1.0",
         "0.0",
         "0.0",
         "0.0",
         "0.0",
         "0.0",
         "0.0",
         "0.0",
         "0.0",
         "0.0",
         "1.0",
         "1.0",
         "1.0",
         "1.0",
         "1.0",
         "1.0",
         "1.0",
         "1.0",
         "1.0",
         "1.0",
         "1.0",
         "1.0",
         "1.0",
         "1.0",
         "1.0",
         "1.0",
         "1.0",
         "1.0",
         "1.0",
         "1.0",
         "1.0",
         "1.0",
         "1.0",
         "0.0",
         "0.0",
         "0.0",
         "0.0",
         "0.0",
         "0.0",
         "0.0",
         "0.0",
         "0.0",
         "0.0",
         "0.0",
         "0.0",
         "0.0",
         "0.0",
         "0.0",
         "0.0",
         "0.0",
         "0.0",
         "0.0",
         "1.0",
         "1.0",
         "0.0",
         "0.0",
         "0.0",
         "0.0",
         "0.0",
         "0.0",
         "1.0",
         "1.0",
         "1.0",
         "0.0",
         "0.0",
         "0.0",
         "0.0",
         "0.0",
         "0.0",
         "0.0",
         "0.0",
         "0.0",
         "1.0",
         "1.0",
         "1.0",
         "1.0",
         "0.0",
         "0.0",
         "0.0",
         "0.0",
         "0.0",
         "0.0",
         "0.0",
         "0.0",
         "0.0",
         "0.0",
         "0.0",
         "0.0",
         "0.0",
         "0.0",
         "0.0",
         "0.0",
         "-5.0",
         "98945.0",
         "0.0",
         "-5.0",
         "100.0",
         "NotFound",
         "49.0",
         "New",
         "NotFound",
         "166.0",
         "621.0",
         "500.0",
         "New",
         "NotFound",
         "mobile safari 11.0",
         "T",
         "F",
         "F",
         "T",
         "mobile",
         "iOS Device"
        ],
        [
         "2",
         "2987010",
         "0",
         "86549",
         "75.887",
         "C",
         "16496",
         "352.0",
         "117.0",
         "mastercard",
         "134.0",
         "credit",
         "gmail.com",
         "gmail.com",
         "1.0",
         "4.0",
         "0.0",
         "1.0",
         "0.0",
         "1.0",
         "1.0",
         "1.0",
         "0.0",
         "1.0",
         "2.0",
         "2.0",
         "2.0",
         "1.0",
         "1.0",
         "0.0",
         "0.0",
         "0.0",
         "0.0",
         "0.0",
         "0.0",
         "0.0",
         "0.0",
         "0.0",
         "0.0",
         "0.0",
         "0.0",
         "1.0",
         "1.0",
         "1.0",
         "1.0",
         "1.0",
         "1.0",
         "1.0",
         "1.0",
         "1.0",
         "1.0",
         "1.0",
         "1.0",
         "1.0",
         "1.0",
         "1.0",
         "1.0",
         "1.0",
         "1.0",
         "1.0",
         "0.0",
         "0.0",
         "0.0",
         "0.0",
         "0.0",
         "0.0",
         "0.0",
         "0.0",
         "0.0",
         "0.0",
         "0.0",
         "0.0",
         "3.0",
         "3.0",
         "3.0",
         "4.0",
         "4.0",
         "2.0",
         "1.0",
         "2.0",
         "2.0",
         "4.0",
         "0.0",
         "0.0",
         "0.0",
         "1.0",
         "1.0",
         "1.0",
         "1.0",
         "1.0",
         "1.0",
         "1.0",
         "1.0",
         "1.0",
         "1.0",
         "1.0",
         "1.0",
         "1.0",
         "1.0",
         "1.0",
         "1.0",
         "1.0",
         "1.0",
         "1.0",
         "1.0",
         "1.0",
         "1.0",
         "166.21539306640625",
         "166.21539306640625",
         "166.21539306640625",
         "90.3279037475586",
         "31.84129905700684",
         "90.3279037475586",
         "90.3279037475586",
         "90.3279037475586",
         "90.3279037475586",
         "0.0",
         "0.0",
         "0.0",
         "75.88749694824219",
         "75.88749694824219",
         "75.88749694824219",
         "3.0",
         "3.0",
         "3.0",
         "3.0",
         "4.0",
         "4.0",
         "2.0",
         "2.0",
         "2.0",
         "0.0",
         "2.0",
         "4.0",
         "4.0",
         "4.0",
         "0.0",
         "0.0",
         "0.0",
         "1.0",
         "1.0",
         "1.0",
         "1.0",
         "1.0",
         "1.0",
         "1.0",
         "1.0",
         "1.0",
         "1.0",
         "1.0",
         "1.0",
         "1.0",
         "1.0",
         "1.0",
         "1.0",
         "1.0",
         "1.0",
         "1.0",
         "1.0",
         "1.0",
         "1.0",
         "1.0",
         "1.0",
         "1.0",
         "1.0",
         "1.0",
         "1.0",
         "1.0",
         "166.21539306640625",
         "166.21539306640625",
         "166.21539306640625",
         "90.3279037475586",
         "90.3279037475586",
         "90.3279037475586",
         "0.0",
         "90.3279037475586",
         "90.3279037475586",
         "90.3279037475586",
         "0.0",
         "0.0",
         "0.0",
         "75.88749694824219",
         "75.88749694824219",
         "75.88749694824219",
         "3.0",
         "3.0",
         "3.0",
         "4.0",
         "4.0",
         "2.0",
         "2.0",
         "1.0",
         "2.0",
         "2.0",
         "2.0",
         "4.0",
         "4.0",
         "4.0",
         "0.0",
         "0.0",
         "0.0",
         "1.0",
         "1.0",
         "1.0",
         "1.0",
         "1.0",
         "1.0",
         "1.0",
         "1.0",
         "1.0",
         "1.0",
         "166.21539306640625",
         "166.21539306640625",
         "166.21539306640625",
         "90.3279037475586",
         "90.3279037475586",
         "31.84129905700684",
         "90.3279037475586",
         "90.3279037475586",
         "90.3279037475586",
         "90.3279037475586",
         "0.0",
         "0.0",
         "0.0",
         "75.88749694824219",
         "75.88749694824219",
         "75.88749694824219",
         "-5.0",
         "191631.0",
         "0.0",
         "0.0",
         "100.0",
         "NotFound",
         "52.0",
         "Found",
         "Found",
         "121.0",
         "410.0",
         "142.0",
         "Found",
         "Found",
         "chrome 62.0",
         "F",
         "F",
         "T",
         "T",
         "desktop",
         "Windows"
        ],
        [
         "3",
         "2987011",
         "0",
         "86555",
         "16.495",
         "C",
         "4461",
         "375.0",
         "185.0",
         "mastercard",
         "224.0",
         "debit",
         "hotmail.com",
         "hotmail.com",
         "1.0",
         "1.0",
         "0.0",
         "1.0",
         "0.0",
         "1.0",
         "1.0",
         "1.0",
         "0.0",
         "1.0",
         "1.0",
         "1.0",
         "1.0",
         "1.0",
         "0.0",
         "0.0",
         "0.0",
         "0.0",
         "0.0",
         "0.0",
         "0.0",
         "0.0",
         "0.0",
         "0.0",
         "0.0",
         "0.0",
         "0.0",
         "1.0",
         "1.0",
         "1.0",
         "1.0",
         "1.0",
         "1.0",
         "1.0",
         "1.0",
         "1.0",
         "1.0",
         "1.0",
         "1.0",
         "1.0",
         "1.0",
         "1.0",
         "1.0",
         "1.0",
         "1.0",
         "1.0",
         "0.0",
         "0.0",
         "0.0",
         "0.0",
         "0.0",
         "0.0",
         "0.0",
         "0.0",
         "0.0",
         "0.0",
         "0.0",
         "0.0",
         "0.0",
         "0.0",
         "0.0",
         "1.0",
         "1.0",
         "0.0",
         "0.0",
         "0.0",
         "0.0",
         "1.0",
         "0.0",
         "0.0",
         "0.0",
         "0.0",
         "0.0",
         "0.0",
         "0.0",
         "0.0",
         "0.0",
         "1.0",
         "1.0",
         "1.0",
         "1.0",
         "1.0",
         "1.0",
         "1.0",
         "1.0",
         "1.0",
         "1.0",
         "1.0",
         "1.0",
         "1.0",
         "1.0",
         "1.0",
         "1.0",
         "0.0",
         "0.0",
         "0.0",
         "0.0",
         "0.0",
         "0.0",
         "0.0",
         "0.0",
         "0.0",
         "0.0",
         "0.0",
         "0.0",
         "0.0",
         "0.0",
         "0.0",
         "0.0",
         "0.0",
         "0.0",
         "0.0",
         "1.0",
         "1.0",
         "0.0",
         "0.0",
         "0.0",
         "0.0",
         "0.0",
         "1.0",
         "1.0",
         "1.0",
         "0.0",
         "0.0",
         "0.0",
         "0.0",
         "0.0",
         "0.0",
         "0.0",
         "0.0",
         "0.0",
         "1.0",
         "1.0",
         "1.0",
         "1.0",
         "1.0",
         "1.0",
         "1.0",
         "1.0",
         "1.0",
         "1.0",
         "1.0",
         "1.0",
         "1.0",
         "1.0",
         "1.0",
         "1.0",
         "1.0",
         "1.0",
         "1.0",
         "1.0",
         "1.0",
         "1.0",
         "1.0",
         "0.0",
         "0.0",
         "0.0",
         "0.0",
         "0.0",
         "0.0",
         "0.0",
         "0.0",
         "0.0",
         "0.0",
         "0.0",
         "0.0",
         "0.0",
         "0.0",
         "0.0",
         "0.0",
         "0.0",
         "0.0",
         "0.0",
         "1.0",
         "1.0",
         "0.0",
         "0.0",
         "0.0",
         "0.0",
         "0.0",
         "0.0",
         "1.0",
         "1.0",
         "1.0",
         "0.0",
         "0.0",
         "0.0",
         "0.0",
         "0.0",
         "0.0",
         "0.0",
         "0.0",
         "0.0",
         "1.0",
         "1.0",
         "1.0",
         "1.0",
         "0.0",
         "0.0",
         "0.0",
         "0.0",
         "0.0",
         "0.0",
         "0.0",
         "0.0",
         "0.0",
         "0.0",
         "0.0",
         "0.0",
         "0.0",
         "0.0",
         "0.0",
         "0.0",
         "-5.0",
         "221832.0",
         "0.0",
         "-6.0",
         "100.0",
         "NotFound",
         "52.0",
         "New",
         "NotFound",
         "225.0",
         "176.0",
         "507.0",
         "New",
         "NotFound",
         "chrome 62.0",
         "F",
         "F",
         "T",
         "T",
         "desktop",
         null
        ],
        [
         "4",
         "2987016",
         "0",
         "86620",
         "30.0",
         "H",
         "1790",
         "555.0",
         "150.0",
         "visa",
         "226.0",
         "debit",
         "aol.com",
         null,
         "1.0",
         "1.0",
         "0.0",
         "0.0",
         "0.0",
         "1.0",
         "0.0",
         "1.0",
         "0.0",
         "1.0",
         "1.0",
         "0.0",
         "1.0",
         "1.0",
         "0.0",
         "0.0",
         "0.0",
         "0.0",
         "0.0",
         "0.0",
         "0.0",
         "0.0",
         "0.0",
         "0.0",
         "0.0",
         "0.0",
         "0.0",
         "1.0",
         "1.0",
         "1.0",
         "1.0",
         "1.0",
         "1.0",
         "1.0",
         "1.0",
         "1.0",
         "1.0",
         "1.0",
         "1.0",
         "1.0",
         "1.0",
         "1.0",
         "1.0",
         "1.0",
         "1.0",
         "1.0",
         "0.0",
         "0.0",
         "0.0",
         "0.0",
         "0.0",
         "0.0",
         "0.0",
         "0.0",
         "0.0",
         "0.0",
         "0.0",
         "0.0",
         "0.0",
         "0.0",
         "0.0",
         "1.0",
         "1.0",
         "0.0",
         "0.0",
         "0.0",
         "0.0",
         "1.0",
         "0.0",
         "0.0",
         "0.0",
         "0.0",
         "0.0",
         "0.0",
         "0.0",
         "0.0",
         "0.0",
         "1.0",
         "1.0",
         "1.0",
         "1.0",
         "1.0",
         "1.0",
         "1.0",
         "1.0",
         "1.0",
         "1.0",
         "1.0",
         "1.0",
         "1.0",
         "1.0",
         "1.0",
         "1.0",
         "0.0",
         "0.0",
         "0.0",
         "0.0",
         "0.0",
         "0.0",
         "0.0",
         "0.0",
         "0.0",
         "0.0",
         "0.0",
         "0.0",
         "0.0",
         "0.0",
         "0.0",
         "0.0",
         "0.0",
         "0.0",
         "0.0",
         "1.0",
         "1.0",
         "0.0",
         "0.0",
         "0.0",
         "0.0",
         "0.0",
         "1.0",
         "1.0",
         "1.0",
         "0.0",
         "0.0",
         "0.0",
         "0.0",
         "0.0",
         "0.0",
         "0.0",
         "0.0",
         "0.0",
         "1.0",
         "1.0",
         "1.0",
         "1.0",
         "1.0",
         "1.0",
         "1.0",
         "1.0",
         "1.0",
         "1.0",
         "1.0",
         "1.0",
         "1.0",
         "1.0",
         "1.0",
         "1.0",
         "1.0",
         "1.0",
         "1.0",
         "1.0",
         "1.0",
         "1.0",
         "1.0",
         "0.0",
         "0.0",
         "0.0",
         "0.0",
         "0.0",
         "0.0",
         "0.0",
         "0.0",
         "0.0",
         "0.0",
         "0.0",
         "0.0",
         "0.0",
         "0.0",
         "0.0",
         "0.0",
         "0.0",
         "0.0",
         "0.0",
         "1.0",
         "1.0",
         "0.0",
         "0.0",
         "0.0",
         "0.0",
         "0.0",
         "0.0",
         "1.0",
         "1.0",
         "1.0",
         "0.0",
         "0.0",
         "0.0",
         "0.0",
         "0.0",
         "0.0",
         "0.0",
         "0.0",
         "0.0",
         "1.0",
         "1.0",
         "1.0",
         "1.0",
         "0.0",
         "0.0",
         "0.0",
         "0.0",
         "0.0",
         "0.0",
         "0.0",
         "0.0",
         "0.0",
         "0.0",
         "0.0",
         "0.0",
         "0.0",
         "0.0",
         "0.0",
         "0.0",
         "0.0",
         "7460.0",
         "1.0",
         "0.0",
         "100.0",
         "NotFound",
         null,
         "Found",
         "Found",
         "166.0",
         "529.0",
         "575.0",
         "Found",
         "Found",
         "chrome 62.0",
         "T",
         "F",
         "T",
         "T",
         "desktop",
         "MacOS"
        ]
       ],
       "shape": {
        "columns": 247,
        "rows": 5
       }
      },
      "text/html": [
       "<div>\n",
       "<style scoped>\n",
       "    .dataframe tbody tr th:only-of-type {\n",
       "        vertical-align: middle;\n",
       "    }\n",
       "\n",
       "    .dataframe tbody tr th {\n",
       "        vertical-align: top;\n",
       "    }\n",
       "\n",
       "    .dataframe thead th {\n",
       "        text-align: right;\n",
       "    }\n",
       "</style>\n",
       "<table border=\"1\" class=\"dataframe\">\n",
       "  <thead>\n",
       "    <tr style=\"text-align: right;\">\n",
       "      <th></th>\n",
       "      <th>TransactionID</th>\n",
       "      <th>isFraud</th>\n",
       "      <th>TransactionDT</th>\n",
       "      <th>TransactionAmt</th>\n",
       "      <th>ProductCD</th>\n",
       "      <th>card1</th>\n",
       "      <th>card2</th>\n",
       "      <th>card3</th>\n",
       "      <th>card4</th>\n",
       "      <th>card5</th>\n",
       "      <th>...</th>\n",
       "      <th>id_20</th>\n",
       "      <th>id_28</th>\n",
       "      <th>id_29</th>\n",
       "      <th>id_31</th>\n",
       "      <th>id_35</th>\n",
       "      <th>id_36</th>\n",
       "      <th>id_37</th>\n",
       "      <th>id_38</th>\n",
       "      <th>DeviceType</th>\n",
       "      <th>DeviceInfo</th>\n",
       "    </tr>\n",
       "  </thead>\n",
       "  <tbody>\n",
       "    <tr>\n",
       "      <th>0</th>\n",
       "      <td>2987004</td>\n",
       "      <td>0</td>\n",
       "      <td>86506</td>\n",
       "      <td>50.000</td>\n",
       "      <td>H</td>\n",
       "      <td>4497</td>\n",
       "      <td>514.0</td>\n",
       "      <td>150.0</td>\n",
       "      <td>mastercard</td>\n",
       "      <td>102.0</td>\n",
       "      <td>...</td>\n",
       "      <td>144.0</td>\n",
       "      <td>New</td>\n",
       "      <td>NotFound</td>\n",
       "      <td>samsung browser 6.2</td>\n",
       "      <td>T</td>\n",
       "      <td>F</td>\n",
       "      <td>T</td>\n",
       "      <td>T</td>\n",
       "      <td>mobile</td>\n",
       "      <td>SAMSUNG SM-G892A Build/NRD90M</td>\n",
       "    </tr>\n",
       "    <tr>\n",
       "      <th>1</th>\n",
       "      <td>2987008</td>\n",
       "      <td>0</td>\n",
       "      <td>86535</td>\n",
       "      <td>15.000</td>\n",
       "      <td>H</td>\n",
       "      <td>2803</td>\n",
       "      <td>100.0</td>\n",
       "      <td>150.0</td>\n",
       "      <td>visa</td>\n",
       "      <td>226.0</td>\n",
       "      <td>...</td>\n",
       "      <td>500.0</td>\n",
       "      <td>New</td>\n",
       "      <td>NotFound</td>\n",
       "      <td>mobile safari 11.0</td>\n",
       "      <td>T</td>\n",
       "      <td>F</td>\n",
       "      <td>F</td>\n",
       "      <td>T</td>\n",
       "      <td>mobile</td>\n",
       "      <td>iOS Device</td>\n",
       "    </tr>\n",
       "    <tr>\n",
       "      <th>2</th>\n",
       "      <td>2987010</td>\n",
       "      <td>0</td>\n",
       "      <td>86549</td>\n",
       "      <td>75.887</td>\n",
       "      <td>C</td>\n",
       "      <td>16496</td>\n",
       "      <td>352.0</td>\n",
       "      <td>117.0</td>\n",
       "      <td>mastercard</td>\n",
       "      <td>134.0</td>\n",
       "      <td>...</td>\n",
       "      <td>142.0</td>\n",
       "      <td>Found</td>\n",
       "      <td>Found</td>\n",
       "      <td>chrome 62.0</td>\n",
       "      <td>F</td>\n",
       "      <td>F</td>\n",
       "      <td>T</td>\n",
       "      <td>T</td>\n",
       "      <td>desktop</td>\n",
       "      <td>Windows</td>\n",
       "    </tr>\n",
       "    <tr>\n",
       "      <th>3</th>\n",
       "      <td>2987011</td>\n",
       "      <td>0</td>\n",
       "      <td>86555</td>\n",
       "      <td>16.495</td>\n",
       "      <td>C</td>\n",
       "      <td>4461</td>\n",
       "      <td>375.0</td>\n",
       "      <td>185.0</td>\n",
       "      <td>mastercard</td>\n",
       "      <td>224.0</td>\n",
       "      <td>...</td>\n",
       "      <td>507.0</td>\n",
       "      <td>New</td>\n",
       "      <td>NotFound</td>\n",
       "      <td>chrome 62.0</td>\n",
       "      <td>F</td>\n",
       "      <td>F</td>\n",
       "      <td>T</td>\n",
       "      <td>T</td>\n",
       "      <td>desktop</td>\n",
       "      <td>NaN</td>\n",
       "    </tr>\n",
       "    <tr>\n",
       "      <th>4</th>\n",
       "      <td>2987016</td>\n",
       "      <td>0</td>\n",
       "      <td>86620</td>\n",
       "      <td>30.000</td>\n",
       "      <td>H</td>\n",
       "      <td>1790</td>\n",
       "      <td>555.0</td>\n",
       "      <td>150.0</td>\n",
       "      <td>visa</td>\n",
       "      <td>226.0</td>\n",
       "      <td>...</td>\n",
       "      <td>575.0</td>\n",
       "      <td>Found</td>\n",
       "      <td>Found</td>\n",
       "      <td>chrome 62.0</td>\n",
       "      <td>T</td>\n",
       "      <td>F</td>\n",
       "      <td>T</td>\n",
       "      <td>T</td>\n",
       "      <td>desktop</td>\n",
       "      <td>MacOS</td>\n",
       "    </tr>\n",
       "  </tbody>\n",
       "</table>\n",
       "<p>5 rows × 247 columns</p>\n",
       "</div>"
      ],
      "text/plain": [
       "   TransactionID  isFraud  TransactionDT  TransactionAmt ProductCD  card1  \\\n",
       "0        2987004        0          86506          50.000         H   4497   \n",
       "1        2987008        0          86535          15.000         H   2803   \n",
       "2        2987010        0          86549          75.887         C  16496   \n",
       "3        2987011        0          86555          16.495         C   4461   \n",
       "4        2987016        0          86620          30.000         H   1790   \n",
       "\n",
       "   card2  card3       card4  card5  ...  id_20  id_28     id_29  \\\n",
       "0  514.0  150.0  mastercard  102.0  ...  144.0    New  NotFound   \n",
       "1  100.0  150.0        visa  226.0  ...  500.0    New  NotFound   \n",
       "2  352.0  117.0  mastercard  134.0  ...  142.0  Found     Found   \n",
       "3  375.0  185.0  mastercard  224.0  ...  507.0    New  NotFound   \n",
       "4  555.0  150.0        visa  226.0  ...  575.0  Found     Found   \n",
       "\n",
       "                 id_31  id_35  id_36  id_37  id_38  DeviceType  \\\n",
       "0  samsung browser 6.2      T      F      T      T      mobile   \n",
       "1   mobile safari 11.0      T      F      F      T      mobile   \n",
       "2          chrome 62.0      F      F      T      T     desktop   \n",
       "3          chrome 62.0      F      F      T      T     desktop   \n",
       "4          chrome 62.0      T      F      T      T     desktop   \n",
       "\n",
       "                      DeviceInfo  \n",
       "0  SAMSUNG SM-G892A Build/NRD90M  \n",
       "1                     iOS Device  \n",
       "2                        Windows  \n",
       "3                            NaN  \n",
       "4                          MacOS  \n",
       "\n",
       "[5 rows x 247 columns]"
      ]
     },
     "execution_count": 20,
     "metadata": {},
     "output_type": "execute_result"
    }
   ],
   "source": [
    "df_full_reduced.head()"
   ]
  },
  {
   "cell_type": "code",
   "execution_count": 21,
   "id": "ddc6ecc5",
   "metadata": {},
   "outputs": [
    {
     "data": {
      "application/vnd.microsoft.datawrangler.viewer.v0+json": {
       "columns": [
        {
         "name": "index",
         "rawType": "object",
         "type": "string"
        },
        {
         "name": "0",
         "rawType": "int64",
         "type": "integer"
        }
       ],
       "ref": "7644d468-e998-4a30-816b-aff7bfe95a5c",
       "rows": [
        [
         "DeviceInfo",
         "25567"
        ],
        [
         "id_13",
         "16913"
        ],
        [
         "id_16",
         "14893"
        ],
        [
         "V235",
         "13964"
        ],
        [
         "V247",
         "13964"
        ],
        [
         "V246",
         "13964"
        ],
        [
         "V244",
         "13964"
        ],
        [
         "V243",
         "13964"
        ],
        [
         "V242",
         "13964"
        ],
        [
         "V241",
         "13964"
        ],
        [
         "V240",
         "13964"
        ],
        [
         "V237",
         "13964"
        ],
        [
         "V236",
         "13964"
        ],
        [
         "V232",
         "13964"
        ],
        [
         "V233",
         "13964"
        ],
        [
         "V249",
         "13964"
        ],
        [
         "V231",
         "13964"
        ],
        [
         "V230",
         "13964"
        ],
        [
         "V229",
         "13964"
        ],
        [
         "V228",
         "13964"
        ],
        [
         "V226",
         "13964"
        ],
        [
         "V225",
         "13964"
        ],
        [
         "V224",
         "13964"
        ],
        [
         "V223",
         "13964"
        ],
        [
         "V248",
         "13964"
        ],
        [
         "V252",
         "13964"
        ],
        [
         "V217",
         "13964"
        ],
        [
         "V253",
         "13964"
        ],
        [
         "V278",
         "13964"
        ],
        [
         "V277",
         "13964"
        ],
        [
         "V276",
         "13964"
        ],
        [
         "V275",
         "13964"
        ],
        [
         "V274",
         "13964"
        ],
        [
         "V273",
         "13964"
        ],
        [
         "V269",
         "13964"
        ],
        [
         "V268",
         "13964"
        ],
        [
         "V267",
         "13964"
        ],
        [
         "V266",
         "13964"
        ],
        [
         "V265",
         "13964"
        ],
        [
         "V264",
         "13964"
        ],
        [
         "V263",
         "13964"
        ],
        [
         "V262",
         "13964"
        ],
        [
         "V261",
         "13964"
        ],
        [
         "V260",
         "13964"
        ],
        [
         "V258",
         "13964"
        ],
        [
         "V257",
         "13964"
        ],
        [
         "V254",
         "13964"
        ],
        [
         "V218",
         "13964"
        ],
        [
         "V219",
         "13964"
        ],
        [
         "P_emaildomain",
         "13391"
        ]
       ],
       "shape": {
        "columns": 1,
        "rows": 247
       }
      },
      "text/plain": [
       "DeviceInfo       25567\n",
       "id_13            16913\n",
       "id_16            14893\n",
       "V235             13964\n",
       "V247             13964\n",
       "                 ...  \n",
       "C1                   0\n",
       "card1                0\n",
       "ProductCD            0\n",
       "isFraud              0\n",
       "TransactionID        0\n",
       "Length: 247, dtype: int64"
      ]
     },
     "execution_count": 21,
     "metadata": {},
     "output_type": "execute_result"
    }
   ],
   "source": [
    "df_full_reduced.isna().sum().sort_values(ascending=False)"
   ]
  },
  {
   "cell_type": "code",
   "execution_count": 22,
   "id": "60856e75",
   "metadata": {},
   "outputs": [
    {
     "data": {
      "application/vnd.microsoft.datawrangler.viewer.v0+json": {
       "columns": [
        {
         "name": "index",
         "rawType": "object",
         "type": "string"
        },
        {
         "name": "count",
         "rawType": "object",
         "type": "unknown"
        },
        {
         "name": "unique",
         "rawType": "object",
         "type": "unknown"
        },
        {
         "name": "top",
         "rawType": "object",
         "type": "string"
        },
        {
         "name": "freq",
         "rawType": "object",
         "type": "unknown"
        }
       ],
       "ref": "9c0f0a6f-867a-414e-b08a-2bdb014d16ee",
       "rows": [
        [
         "ProductCD",
         "144233",
         "4",
         "C",
         "62192"
        ],
        [
         "card4",
         "144049",
         "4",
         "visa",
         "89299"
        ],
        [
         "card6",
         "144055",
         "3",
         "credit",
         "75090"
        ],
        [
         "P_emaildomain",
         "130842",
         "59",
         "gmail.com",
         "54140"
        ],
        [
         "R_emaildomain",
         "131083",
         "60",
         "gmail.com",
         "55079"
        ],
        [
         "id_12",
         "144233",
         "2",
         "NotFound",
         "123025"
        ],
        [
         "id_15",
         "140985",
         "3",
         "Found",
         "67728"
        ],
        [
         "id_16",
         "129340",
         "2",
         "Found",
         "66324"
        ],
        [
         "id_28",
         "140978",
         "2",
         "Found",
         "76232"
        ],
        [
         "id_29",
         "140978",
         "2",
         "Found",
         "74926"
        ],
        [
         "id_31",
         "140282",
         "130",
         "chrome 63.0",
         "22000"
        ],
        [
         "id_35",
         "140985",
         "2",
         "T",
         "77814"
        ],
        [
         "id_36",
         "140985",
         "2",
         "F",
         "134066"
        ],
        [
         "id_37",
         "140985",
         "2",
         "T",
         "110452"
        ],
        [
         "id_38",
         "140985",
         "2",
         "F",
         "73922"
        ],
        [
         "DeviceType",
         "140810",
         "2",
         "desktop",
         "85165"
        ],
        [
         "DeviceInfo",
         "118666",
         "1786",
         "Windows",
         "47722"
        ]
       ],
       "shape": {
        "columns": 4,
        "rows": 17
       }
      },
      "text/html": [
       "<div>\n",
       "<style scoped>\n",
       "    .dataframe tbody tr th:only-of-type {\n",
       "        vertical-align: middle;\n",
       "    }\n",
       "\n",
       "    .dataframe tbody tr th {\n",
       "        vertical-align: top;\n",
       "    }\n",
       "\n",
       "    .dataframe thead th {\n",
       "        text-align: right;\n",
       "    }\n",
       "</style>\n",
       "<table border=\"1\" class=\"dataframe\">\n",
       "  <thead>\n",
       "    <tr style=\"text-align: right;\">\n",
       "      <th></th>\n",
       "      <th>count</th>\n",
       "      <th>unique</th>\n",
       "      <th>top</th>\n",
       "      <th>freq</th>\n",
       "    </tr>\n",
       "  </thead>\n",
       "  <tbody>\n",
       "    <tr>\n",
       "      <th>ProductCD</th>\n",
       "      <td>144233</td>\n",
       "      <td>4</td>\n",
       "      <td>C</td>\n",
       "      <td>62192</td>\n",
       "    </tr>\n",
       "    <tr>\n",
       "      <th>card4</th>\n",
       "      <td>144049</td>\n",
       "      <td>4</td>\n",
       "      <td>visa</td>\n",
       "      <td>89299</td>\n",
       "    </tr>\n",
       "    <tr>\n",
       "      <th>card6</th>\n",
       "      <td>144055</td>\n",
       "      <td>3</td>\n",
       "      <td>credit</td>\n",
       "      <td>75090</td>\n",
       "    </tr>\n",
       "    <tr>\n",
       "      <th>P_emaildomain</th>\n",
       "      <td>130842</td>\n",
       "      <td>59</td>\n",
       "      <td>gmail.com</td>\n",
       "      <td>54140</td>\n",
       "    </tr>\n",
       "    <tr>\n",
       "      <th>R_emaildomain</th>\n",
       "      <td>131083</td>\n",
       "      <td>60</td>\n",
       "      <td>gmail.com</td>\n",
       "      <td>55079</td>\n",
       "    </tr>\n",
       "    <tr>\n",
       "      <th>id_12</th>\n",
       "      <td>144233</td>\n",
       "      <td>2</td>\n",
       "      <td>NotFound</td>\n",
       "      <td>123025</td>\n",
       "    </tr>\n",
       "    <tr>\n",
       "      <th>id_15</th>\n",
       "      <td>140985</td>\n",
       "      <td>3</td>\n",
       "      <td>Found</td>\n",
       "      <td>67728</td>\n",
       "    </tr>\n",
       "    <tr>\n",
       "      <th>id_16</th>\n",
       "      <td>129340</td>\n",
       "      <td>2</td>\n",
       "      <td>Found</td>\n",
       "      <td>66324</td>\n",
       "    </tr>\n",
       "    <tr>\n",
       "      <th>id_28</th>\n",
       "      <td>140978</td>\n",
       "      <td>2</td>\n",
       "      <td>Found</td>\n",
       "      <td>76232</td>\n",
       "    </tr>\n",
       "    <tr>\n",
       "      <th>id_29</th>\n",
       "      <td>140978</td>\n",
       "      <td>2</td>\n",
       "      <td>Found</td>\n",
       "      <td>74926</td>\n",
       "    </tr>\n",
       "    <tr>\n",
       "      <th>id_31</th>\n",
       "      <td>140282</td>\n",
       "      <td>130</td>\n",
       "      <td>chrome 63.0</td>\n",
       "      <td>22000</td>\n",
       "    </tr>\n",
       "    <tr>\n",
       "      <th>id_35</th>\n",
       "      <td>140985</td>\n",
       "      <td>2</td>\n",
       "      <td>T</td>\n",
       "      <td>77814</td>\n",
       "    </tr>\n",
       "    <tr>\n",
       "      <th>id_36</th>\n",
       "      <td>140985</td>\n",
       "      <td>2</td>\n",
       "      <td>F</td>\n",
       "      <td>134066</td>\n",
       "    </tr>\n",
       "    <tr>\n",
       "      <th>id_37</th>\n",
       "      <td>140985</td>\n",
       "      <td>2</td>\n",
       "      <td>T</td>\n",
       "      <td>110452</td>\n",
       "    </tr>\n",
       "    <tr>\n",
       "      <th>id_38</th>\n",
       "      <td>140985</td>\n",
       "      <td>2</td>\n",
       "      <td>F</td>\n",
       "      <td>73922</td>\n",
       "    </tr>\n",
       "    <tr>\n",
       "      <th>DeviceType</th>\n",
       "      <td>140810</td>\n",
       "      <td>2</td>\n",
       "      <td>desktop</td>\n",
       "      <td>85165</td>\n",
       "    </tr>\n",
       "    <tr>\n",
       "      <th>DeviceInfo</th>\n",
       "      <td>118666</td>\n",
       "      <td>1786</td>\n",
       "      <td>Windows</td>\n",
       "      <td>47722</td>\n",
       "    </tr>\n",
       "  </tbody>\n",
       "</table>\n",
       "</div>"
      ],
      "text/plain": [
       "                count unique          top    freq\n",
       "ProductCD      144233      4            C   62192\n",
       "card4          144049      4         visa   89299\n",
       "card6          144055      3       credit   75090\n",
       "P_emaildomain  130842     59    gmail.com   54140\n",
       "R_emaildomain  131083     60    gmail.com   55079\n",
       "id_12          144233      2     NotFound  123025\n",
       "id_15          140985      3        Found   67728\n",
       "id_16          129340      2        Found   66324\n",
       "id_28          140978      2        Found   76232\n",
       "id_29          140978      2        Found   74926\n",
       "id_31          140282    130  chrome 63.0   22000\n",
       "id_35          140985      2            T   77814\n",
       "id_36          140985      2            F  134066\n",
       "id_37          140985      2            T  110452\n",
       "id_38          140985      2            F   73922\n",
       "DeviceType     140810      2      desktop   85165\n",
       "DeviceInfo     118666   1786      Windows   47722"
      ]
     },
     "execution_count": 22,
     "metadata": {},
     "output_type": "execute_result"
    }
   ],
   "source": [
    "df_full_reduced.describe(include='object').T"
   ]
  },
  {
   "cell_type": "code",
   "execution_count": 23,
   "id": "a8ce5fd7",
   "metadata": {},
   "outputs": [
    {
     "data": {
      "image/png": "[encoded data removed]",
      "text/plain": [
       "<Figure size 1000x600 with 1 Axes>"
      ]
     },
     "metadata": {},
     "output_type": "display_data"
    }
   ],
   "source": [
    "def visualize_missing_values(dataset, title):\n",
    "    plt.figure(figsize=(10, 6))\n",
    "    sns.heatmap(dataset.isna(), cbar=False, cmap='viridis')\n",
    "    plt.title(title)\n",
    "    plt.show()\n",
    "\n",
    "# Example usage:\n",
    "visualize_missing_values(df_full_reduced, 'Missing Values in df_full_reduced')\n"
   ]
  },
  {
   "cell_type": "code",
   "execution_count": 24,
   "id": "86fd7f40",
   "metadata": {},
   "outputs": [
    {
     "name": "stdout",
     "output_type": "stream",
     "text": [
      "card2           902\n",
      "card3           172\n",
      "card4           184\n",
      "card5           956\n",
      "card6           178\n",
      "              ...  \n",
      "id_36          3248\n",
      "id_37          3248\n",
      "id_38          3248\n",
      "DeviceType     3423\n",
      "DeviceInfo    25567\n",
      "Length: 225, dtype: int64\n"
     ]
    }
   ],
   "source": [
    "nulos = df_full_reduced.isna().sum()\n",
    "\n",
    "print(nulos[nulos != 0])"
   ]
  },
  {
   "cell_type": "code",
   "execution_count": 25,
   "id": "05883846",
   "metadata": {},
   "outputs": [
    {
     "data": {
      "text/plain": [
       "(75988, 247)"
      ]
     },
     "execution_count": 25,
     "metadata": {},
     "output_type": "execute_result"
    }
   ],
   "source": [
    "df_full_cleaned = df_full_reduced.dropna()\n",
    "df_full_cleaned.shape"
   ]
  },
  {
   "cell_type": "code",
   "execution_count": 26,
   "id": "f0bdb7c4",
   "metadata": {},
   "outputs": [
    {
     "data": {
      "image/png": "[encoded data removed]",
      "text/plain": [
       "<Figure size 1000x600 with 1 Axes>"
      ]
     },
     "metadata": {},
     "output_type": "display_data"
    }
   ],
   "source": [
    "visualize_missing_values(df_full_cleaned, 'Missing Values in df_full_cleaned')"
   ]
  },
  {
   "cell_type": "code",
   "execution_count": 27,
   "id": "002fb8e3",
   "metadata": {},
   "outputs": [
    {
     "name": "stdout",
     "output_type": "stream",
     "text": [
      "(75988, 247)\n"
     ]
    },
    {
     "data": {
      "application/vnd.microsoft.datawrangler.viewer.v0+json": {
       "columns": [
        {
         "name": "index",
         "rawType": "int64",
         "type": "integer"
        },
        {
         "name": "TransactionID",
         "rawType": "int64",
         "type": "integer"
        },
        {
         "name": "isFraud",
         "rawType": "int64",
         "type": "integer"
        },
        {
         "name": "TransactionDT",
         "rawType": "int64",
         "type": "integer"
        },
        {
         "name": "TransactionAmt",
         "rawType": "float64",
         "type": "float"
        },
        {
         "name": "ProductCD",
         "rawType": "object",
         "type": "string"
        },
        {
         "name": "card1",
         "rawType": "int64",
         "type": "integer"
        },
        {
         "name": "card2",
         "rawType": "float64",
         "type": "float"
        },
        {
         "name": "card3",
         "rawType": "float64",
         "type": "float"
        },
        {
         "name": "card4",
         "rawType": "object",
         "type": "string"
        },
        {
         "name": "card5",
         "rawType": "float64",
         "type": "float"
        },
        {
         "name": "card6",
         "rawType": "object",
         "type": "string"
        },
        {
         "name": "P_emaildomain",
         "rawType": "object",
         "type": "string"
        },
        {
         "name": "R_emaildomain",
         "rawType": "object",
         "type": "string"
        },
        {
         "name": "C1",
         "rawType": "float64",
         "type": "float"
        },
        {
         "name": "C2",
         "rawType": "float64",
         "type": "float"
        },
        {
         "name": "C3",
         "rawType": "float64",
         "type": "float"
        },
        {
         "name": "C4",
         "rawType": "float64",
         "type": "float"
        },
        {
         "name": "C5",
         "rawType": "float64",
         "type": "float"
        },
        {
         "name": "C6",
         "rawType": "float64",
         "type": "float"
        },
        {
         "name": "C7",
         "rawType": "float64",
         "type": "float"
        },
        {
         "name": "C8",
         "rawType": "float64",
         "type": "float"
        },
        {
         "name": "C9",
         "rawType": "float64",
         "type": "float"
        },
        {
         "name": "C10",
         "rawType": "float64",
         "type": "float"
        },
        {
         "name": "C11",
         "rawType": "float64",
         "type": "float"
        },
        {
         "name": "C12",
         "rawType": "float64",
         "type": "float"
        },
        {
         "name": "C13",
         "rawType": "float64",
         "type": "float"
        },
        {
         "name": "C14",
         "rawType": "float64",
         "type": "float"
        },
        {
         "name": "D1",
         "rawType": "float64",
         "type": "float"
        },
        {
         "name": "V95",
         "rawType": "float64",
         "type": "float"
        },
        {
         "name": "V96",
         "rawType": "float64",
         "type": "float"
        },
        {
         "name": "V97",
         "rawType": "float64",
         "type": "float"
        },
        {
         "name": "V98",
         "rawType": "float64",
         "type": "float"
        },
        {
         "name": "V99",
         "rawType": "float64",
         "type": "float"
        },
        {
         "name": "V100",
         "rawType": "float64",
         "type": "float"
        },
        {
         "name": "V101",
         "rawType": "float64",
         "type": "float"
        },
        {
         "name": "V102",
         "rawType": "float64",
         "type": "float"
        },
        {
         "name": "V103",
         "rawType": "float64",
         "type": "float"
        },
        {
         "name": "V104",
         "rawType": "float64",
         "type": "float"
        },
        {
         "name": "V105",
         "rawType": "float64",
         "type": "float"
        },
        {
         "name": "V106",
         "rawType": "float64",
         "type": "float"
        },
        {
         "name": "V107",
         "rawType": "float64",
         "type": "float"
        },
        {
         "name": "V108",
         "rawType": "float64",
         "type": "float"
        },
        {
         "name": "V109",
         "rawType": "float64",
         "type": "float"
        },
        {
         "name": "V110",
         "rawType": "float64",
         "type": "float"
        },
        {
         "name": "V111",
         "rawType": "float64",
         "type": "float"
        },
        {
         "name": "V112",
         "rawType": "float64",
         "type": "float"
        },
        {
         "name": "V113",
         "rawType": "float64",
         "type": "float"
        },
        {
         "name": "V114",
         "rawType": "float64",
         "type": "float"
        },
        {
         "name": "V115",
         "rawType": "float64",
         "type": "float"
        },
        {
         "name": "V116",
         "rawType": "float64",
         "type": "float"
        },
        {
         "name": "V117",
         "rawType": "float64",
         "type": "float"
        },
        {
         "name": "V118",
         "rawType": "float64",
         "type": "float"
        },
        {
         "name": "V119",
         "rawType": "float64",
         "type": "float"
        },
        {
         "name": "V120",
         "rawType": "float64",
         "type": "float"
        },
        {
         "name": "V121",
         "rawType": "float64",
         "type": "float"
        },
        {
         "name": "V122",
         "rawType": "float64",
         "type": "float"
        },
        {
         "name": "V123",
         "rawType": "float64",
         "type": "float"
        },
        {
         "name": "V124",
         "rawType": "float64",
         "type": "float"
        },
        {
         "name": "V125",
         "rawType": "float64",
         "type": "float"
        },
        {
         "name": "V126",
         "rawType": "float64",
         "type": "float"
        },
        {
         "name": "V127",
         "rawType": "float64",
         "type": "float"
        },
        {
         "name": "V128",
         "rawType": "float64",
         "type": "float"
        },
        {
         "name": "V129",
         "rawType": "float64",
         "type": "float"
        },
        {
         "name": "V130",
         "rawType": "float64",
         "type": "float"
        },
        {
         "name": "V131",
         "rawType": "float64",
         "type": "float"
        },
        {
         "name": "V132",
         "rawType": "float64",
         "type": "float"
        },
        {
         "name": "V133",
         "rawType": "float64",
         "type": "float"
        },
        {
         "name": "V134",
         "rawType": "float64",
         "type": "float"
        },
        {
         "name": "V135",
         "rawType": "float64",
         "type": "float"
        },
        {
         "name": "V136",
         "rawType": "float64",
         "type": "float"
        },
        {
         "name": "V137",
         "rawType": "float64",
         "type": "float"
        },
        {
         "name": "V167",
         "rawType": "float64",
         "type": "float"
        },
        {
         "name": "V168",
         "rawType": "float64",
         "type": "float"
        },
        {
         "name": "V169",
         "rawType": "float64",
         "type": "float"
        },
        {
         "name": "V170",
         "rawType": "float64",
         "type": "float"
        },
        {
         "name": "V171",
         "rawType": "float64",
         "type": "float"
        },
        {
         "name": "V172",
         "rawType": "float64",
         "type": "float"
        },
        {
         "name": "V173",
         "rawType": "float64",
         "type": "float"
        },
        {
         "name": "V174",
         "rawType": "float64",
         "type": "float"
        },
        {
         "name": "V175",
         "rawType": "float64",
         "type": "float"
        },
        {
         "name": "V176",
         "rawType": "float64",
         "type": "float"
        },
        {
         "name": "V177",
         "rawType": "float64",
         "type": "float"
        },
        {
         "name": "V178",
         "rawType": "float64",
         "type": "float"
        },
        {
         "name": "V179",
         "rawType": "float64",
         "type": "float"
        },
        {
         "name": "V180",
         "rawType": "float64",
         "type": "float"
        },
        {
         "name": "V181",
         "rawType": "float64",
         "type": "float"
        },
        {
         "name": "V182",
         "rawType": "float64",
         "type": "float"
        },
        {
         "name": "V183",
         "rawType": "float64",
         "type": "float"
        },
        {
         "name": "V184",
         "rawType": "float64",
         "type": "float"
        },
        {
         "name": "V185",
         "rawType": "float64",
         "type": "float"
        },
        {
         "name": "V186",
         "rawType": "float64",
         "type": "float"
        },
        {
         "name": "V187",
         "rawType": "float64",
         "type": "float"
        },
        {
         "name": "V188",
         "rawType": "float64",
         "type": "float"
        },
        {
         "name": "V189",
         "rawType": "float64",
         "type": "float"
        },
        {
         "name": "V190",
         "rawType": "float64",
         "type": "float"
        },
        {
         "name": "V191",
         "rawType": "float64",
         "type": "float"
        },
        {
         "name": "V192",
         "rawType": "float64",
         "type": "float"
        },
        {
         "name": "V193",
         "rawType": "float64",
         "type": "float"
        },
        {
         "name": "V194",
         "rawType": "float64",
         "type": "float"
        },
        {
         "name": "V195",
         "rawType": "float64",
         "type": "float"
        },
        {
         "name": "V196",
         "rawType": "float64",
         "type": "float"
        },
        {
         "name": "V197",
         "rawType": "float64",
         "type": "float"
        },
        {
         "name": "V198",
         "rawType": "float64",
         "type": "float"
        },
        {
         "name": "V199",
         "rawType": "float64",
         "type": "float"
        },
        {
         "name": "V200",
         "rawType": "float64",
         "type": "float"
        },
        {
         "name": "V201",
         "rawType": "float64",
         "type": "float"
        },
        {
         "name": "V202",
         "rawType": "float64",
         "type": "float"
        },
        {
         "name": "V203",
         "rawType": "float64",
         "type": "float"
        },
        {
         "name": "V204",
         "rawType": "float64",
         "type": "float"
        },
        {
         "name": "V205",
         "rawType": "float64",
         "type": "float"
        },
        {
         "name": "V206",
         "rawType": "float64",
         "type": "float"
        },
        {
         "name": "V207",
         "rawType": "float64",
         "type": "float"
        },
        {
         "name": "V208",
         "rawType": "float64",
         "type": "float"
        },
        {
         "name": "V209",
         "rawType": "float64",
         "type": "float"
        },
        {
         "name": "V210",
         "rawType": "float64",
         "type": "float"
        },
        {
         "name": "V211",
         "rawType": "float64",
         "type": "float"
        },
        {
         "name": "V212",
         "rawType": "float64",
         "type": "float"
        },
        {
         "name": "V213",
         "rawType": "float64",
         "type": "float"
        },
        {
         "name": "V214",
         "rawType": "float64",
         "type": "float"
        },
        {
         "name": "V215",
         "rawType": "float64",
         "type": "float"
        },
        {
         "name": "V216",
         "rawType": "float64",
         "type": "float"
        },
        {
         "name": "V217",
         "rawType": "float64",
         "type": "float"
        },
        {
         "name": "V218",
         "rawType": "float64",
         "type": "float"
        },
        {
         "name": "V219",
         "rawType": "float64",
         "type": "float"
        },
        {
         "name": "V220",
         "rawType": "float64",
         "type": "float"
        },
        {
         "name": "V221",
         "rawType": "float64",
         "type": "float"
        },
        {
         "name": "V222",
         "rawType": "float64",
         "type": "float"
        },
        {
         "name": "V223",
         "rawType": "float64",
         "type": "float"
        },
        {
         "name": "V224",
         "rawType": "float64",
         "type": "float"
        },
        {
         "name": "V225",
         "rawType": "float64",
         "type": "float"
        },
        {
         "name": "V226",
         "rawType": "float64",
         "type": "float"
        },
        {
         "name": "V227",
         "rawType": "float64",
         "type": "float"
        },
        {
         "name": "V228",
         "rawType": "float64",
         "type": "float"
        },
        {
         "name": "V229",
         "rawType": "float64",
         "type": "float"
        },
        {
         "name": "V230",
         "rawType": "float64",
         "type": "float"
        },
        {
         "name": "V231",
         "rawType": "float64",
         "type": "float"
        },
        {
         "name": "V232",
         "rawType": "float64",
         "type": "float"
        },
        {
         "name": "V233",
         "rawType": "float64",
         "type": "float"
        },
        {
         "name": "V234",
         "rawType": "float64",
         "type": "float"
        },
        {
         "name": "V235",
         "rawType": "float64",
         "type": "float"
        },
        {
         "name": "V236",
         "rawType": "float64",
         "type": "float"
        },
        {
         "name": "V237",
         "rawType": "float64",
         "type": "float"
        },
        {
         "name": "V238",
         "rawType": "float64",
         "type": "float"
        },
        {
         "name": "V239",
         "rawType": "float64",
         "type": "float"
        },
        {
         "name": "V240",
         "rawType": "float64",
         "type": "float"
        },
        {
         "name": "V241",
         "rawType": "float64",
         "type": "float"
        },
        {
         "name": "V242",
         "rawType": "float64",
         "type": "float"
        },
        {
         "name": "V243",
         "rawType": "float64",
         "type": "float"
        },
        {
         "name": "V244",
         "rawType": "float64",
         "type": "float"
        },
        {
         "name": "V245",
         "rawType": "float64",
         "type": "float"
        },
        {
         "name": "V246",
         "rawType": "float64",
         "type": "float"
        },
        {
         "name": "V247",
         "rawType": "float64",
         "type": "float"
        },
        {
         "name": "V248",
         "rawType": "float64",
         "type": "float"
        },
        {
         "name": "V249",
         "rawType": "float64",
         "type": "float"
        },
        {
         "name": "V250",
         "rawType": "float64",
         "type": "float"
        },
        {
         "name": "V251",
         "rawType": "float64",
         "type": "float"
        },
        {
         "name": "V252",
         "rawType": "float64",
         "type": "float"
        },
        {
         "name": "V253",
         "rawType": "float64",
         "type": "float"
        },
        {
         "name": "V254",
         "rawType": "float64",
         "type": "float"
        },
        {
         "name": "V255",
         "rawType": "float64",
         "type": "float"
        },
        {
         "name": "V256",
         "rawType": "float64",
         "type": "float"
        },
        {
         "name": "V257",
         "rawType": "float64",
         "type": "float"
        },
        {
         "name": "V258",
         "rawType": "float64",
         "type": "float"
        },
        {
         "name": "V259",
         "rawType": "float64",
         "type": "float"
        },
        {
         "name": "V260",
         "rawType": "float64",
         "type": "float"
        },
        {
         "name": "V261",
         "rawType": "float64",
         "type": "float"
        },
        {
         "name": "V262",
         "rawType": "float64",
         "type": "float"
        },
        {
         "name": "V263",
         "rawType": "float64",
         "type": "float"
        },
        {
         "name": "V264",
         "rawType": "float64",
         "type": "float"
        },
        {
         "name": "V265",
         "rawType": "float64",
         "type": "float"
        },
        {
         "name": "V266",
         "rawType": "float64",
         "type": "float"
        },
        {
         "name": "V267",
         "rawType": "float64",
         "type": "float"
        },
        {
         "name": "V268",
         "rawType": "float64",
         "type": "float"
        },
        {
         "name": "V269",
         "rawType": "float64",
         "type": "float"
        },
        {
         "name": "V270",
         "rawType": "float64",
         "type": "float"
        },
        {
         "name": "V271",
         "rawType": "float64",
         "type": "float"
        },
        {
         "name": "V272",
         "rawType": "float64",
         "type": "float"
        },
        {
         "name": "V273",
         "rawType": "float64",
         "type": "float"
        },
        {
         "name": "V274",
         "rawType": "float64",
         "type": "float"
        },
        {
         "name": "V275",
         "rawType": "float64",
         "type": "float"
        },
        {
         "name": "V276",
         "rawType": "float64",
         "type": "float"
        },
        {
         "name": "V277",
         "rawType": "float64",
         "type": "float"
        },
        {
         "name": "V278",
         "rawType": "float64",
         "type": "float"
        },
        {
         "name": "V279",
         "rawType": "float64",
         "type": "float"
        },
        {
         "name": "V280",
         "rawType": "float64",
         "type": "float"
        },
        {
         "name": "V281",
         "rawType": "float64",
         "type": "float"
        },
        {
         "name": "V282",
         "rawType": "float64",
         "type": "float"
        },
        {
         "name": "V283",
         "rawType": "float64",
         "type": "float"
        },
        {
         "name": "V284",
         "rawType": "float64",
         "type": "float"
        },
        {
         "name": "V285",
         "rawType": "float64",
         "type": "float"
        },
        {
         "name": "V286",
         "rawType": "float64",
         "type": "float"
        },
        {
         "name": "V287",
         "rawType": "float64",
         "type": "float"
        },
        {
         "name": "V288",
         "rawType": "float64",
         "type": "float"
        },
        {
         "name": "V289",
         "rawType": "float64",
         "type": "float"
        },
        {
         "name": "V290",
         "rawType": "float64",
         "type": "float"
        },
        {
         "name": "V291",
         "rawType": "float64",
         "type": "float"
        },
        {
         "name": "V292",
         "rawType": "float64",
         "type": "float"
        },
        {
         "name": "V293",
         "rawType": "float64",
         "type": "float"
        },
        {
         "name": "V294",
         "rawType": "float64",
         "type": "float"
        },
        {
         "name": "V295",
         "rawType": "float64",
         "type": "float"
        },
        {
         "name": "V296",
         "rawType": "float64",
         "type": "float"
        },
        {
         "name": "V297",
         "rawType": "float64",
         "type": "float"
        },
        {
         "name": "V298",
         "rawType": "float64",
         "type": "float"
        },
        {
         "name": "V299",
         "rawType": "float64",
         "type": "float"
        },
        {
         "name": "V300",
         "rawType": "float64",
         "type": "float"
        },
        {
         "name": "V301",
         "rawType": "float64",
         "type": "float"
        },
        {
         "name": "V302",
         "rawType": "float64",
         "type": "float"
        },
        {
         "name": "V303",
         "rawType": "float64",
         "type": "float"
        },
        {
         "name": "V304",
         "rawType": "float64",
         "type": "float"
        },
        {
         "name": "V305",
         "rawType": "float64",
         "type": "float"
        },
        {
         "name": "V306",
         "rawType": "float64",
         "type": "float"
        },
        {
         "name": "V307",
         "rawType": "float64",
         "type": "float"
        },
        {
         "name": "V308",
         "rawType": "float64",
         "type": "float"
        },
        {
         "name": "V309",
         "rawType": "float64",
         "type": "float"
        },
        {
         "name": "V310",
         "rawType": "float64",
         "type": "float"
        },
        {
         "name": "V311",
         "rawType": "float64",
         "type": "float"
        },
        {
         "name": "V312",
         "rawType": "float64",
         "type": "float"
        },
        {
         "name": "V313",
         "rawType": "float64",
         "type": "float"
        },
        {
         "name": "V314",
         "rawType": "float64",
         "type": "float"
        },
        {
         "name": "V315",
         "rawType": "float64",
         "type": "float"
        },
        {
         "name": "V316",
         "rawType": "float64",
         "type": "float"
        },
        {
         "name": "V317",
         "rawType": "float64",
         "type": "float"
        },
        {
         "name": "V318",
         "rawType": "float64",
         "type": "float"
        },
        {
         "name": "V319",
         "rawType": "float64",
         "type": "float"
        },
        {
         "name": "V320",
         "rawType": "float64",
         "type": "float"
        },
        {
         "name": "V321",
         "rawType": "float64",
         "type": "float"
        },
        {
         "name": "id_01",
         "rawType": "float64",
         "type": "float"
        },
        {
         "name": "id_02",
         "rawType": "float64",
         "type": "float"
        },
        {
         "name": "id_05",
         "rawType": "float64",
         "type": "float"
        },
        {
         "name": "id_06",
         "rawType": "float64",
         "type": "float"
        },
        {
         "name": "id_11",
         "rawType": "float64",
         "type": "float"
        },
        {
         "name": "id_12",
         "rawType": "object",
         "type": "string"
        },
        {
         "name": "id_13",
         "rawType": "float64",
         "type": "float"
        },
        {
         "name": "id_15",
         "rawType": "object",
         "type": "string"
        },
        {
         "name": "id_16",
         "rawType": "object",
         "type": "string"
        },
        {
         "name": "id_17",
         "rawType": "float64",
         "type": "float"
        },
        {
         "name": "id_19",
         "rawType": "float64",
         "type": "float"
        },
        {
         "name": "id_20",
         "rawType": "float64",
         "type": "float"
        },
        {
         "name": "id_28",
         "rawType": "object",
         "type": "string"
        },
        {
         "name": "id_29",
         "rawType": "object",
         "type": "string"
        },
        {
         "name": "id_31",
         "rawType": "object",
         "type": "string"
        },
        {
         "name": "id_35",
         "rawType": "object",
         "type": "string"
        },
        {
         "name": "id_36",
         "rawType": "object",
         "type": "string"
        },
        {
         "name": "id_37",
         "rawType": "object",
         "type": "string"
        },
        {
         "name": "id_38",
         "rawType": "object",
         "type": "string"
        },
        {
         "name": "DeviceType",
         "rawType": "object",
         "type": "string"
        },
        {
         "name": "DeviceInfo",
         "rawType": "object",
         "type": "string"
        }
       ],
       "ref": "9fd9c5c0-b60a-4a15-aa6d-4494f8292680",
       "rows": [
        [
         "2",
         "2987010",
         "0",
         "86549",
         "75.887",
         "C",
         "16496",
         "352.0",
         "117.0",
         "mastercard",
         "134.0",
         "credit",
         "gmail.com",
         "gmail.com",
         "1.0",
         "4.0",
         "0.0",
         "1.0",
         "0.0",
         "1.0",
         "1.0",
         "1.0",
         "0.0",
         "1.0",
         "2.0",
         "2.0",
         "2.0",
         "1.0",
         "1.0",
         "0.0",
         "0.0",
         "0.0",
         "0.0",
         "0.0",
         "0.0",
         "0.0",
         "0.0",
         "0.0",
         "0.0",
         "0.0",
         "0.0",
         "1.0",
         "1.0",
         "1.0",
         "1.0",
         "1.0",
         "1.0",
         "1.0",
         "1.0",
         "1.0",
         "1.0",
         "1.0",
         "1.0",
         "1.0",
         "1.0",
         "1.0",
         "1.0",
         "1.0",
         "1.0",
         "1.0",
         "0.0",
         "0.0",
         "0.0",
         "0.0",
         "0.0",
         "0.0",
         "0.0",
         "0.0",
         "0.0",
         "0.0",
         "0.0",
         "0.0",
         "3.0",
         "3.0",
         "3.0",
         "4.0",
         "4.0",
         "2.0",
         "1.0",
         "2.0",
         "2.0",
         "4.0",
         "0.0",
         "0.0",
         "0.0",
         "1.0",
         "1.0",
         "1.0",
         "1.0",
         "1.0",
         "1.0",
         "1.0",
         "1.0",
         "1.0",
         "1.0",
         "1.0",
         "1.0",
         "1.0",
         "1.0",
         "1.0",
         "1.0",
         "1.0",
         "1.0",
         "1.0",
         "1.0",
         "1.0",
         "1.0",
         "166.21539306640625",
         "166.21539306640625",
         "166.21539306640625",
         "90.3279037475586",
         "31.84129905700684",
         "90.3279037475586",
         "90.3279037475586",
         "90.3279037475586",
         "90.3279037475586",
         "0.0",
         "0.0",
         "0.0",
         "75.88749694824219",
         "75.88749694824219",
         "75.88749694824219",
         "3.0",
         "3.0",
         "3.0",
         "3.0",
         "4.0",
         "4.0",
         "2.0",
         "2.0",
         "2.0",
         "0.0",
         "2.0",
         "4.0",
         "4.0",
         "4.0",
         "0.0",
         "0.0",
         "0.0",
         "1.0",
         "1.0",
         "1.0",
         "1.0",
         "1.0",
         "1.0",
         "1.0",
         "1.0",
         "1.0",
         "1.0",
         "1.0",
         "1.0",
         "1.0",
         "1.0",
         "1.0",
         "1.0",
         "1.0",
         "1.0",
         "1.0",
         "1.0",
         "1.0",
         "1.0",
         "1.0",
         "1.0",
         "1.0",
         "1.0",
         "1.0",
         "1.0",
         "1.0",
         "166.21539306640625",
         "166.21539306640625",
         "166.21539306640625",
         "90.3279037475586",
         "90.3279037475586",
         "90.3279037475586",
         "0.0",
         "90.3279037475586",
         "90.3279037475586",
         "90.3279037475586",
         "0.0",
         "0.0",
         "0.0",
         "75.88749694824219",
         "75.88749694824219",
         "75.88749694824219",
         "3.0",
         "3.0",
         "3.0",
         "4.0",
         "4.0",
         "2.0",
         "2.0",
         "1.0",
         "2.0",
         "2.0",
         "2.0",
         "4.0",
         "4.0",
         "4.0",
         "0.0",
         "0.0",
         "0.0",
         "1.0",
         "1.0",
         "1.0",
         "1.0",
         "1.0",
         "1.0",
         "1.0",
         "1.0",
         "1.0",
         "1.0",
         "166.21539306640625",
         "166.21539306640625",
         "166.21539306640625",
         "90.3279037475586",
         "90.3279037475586",
         "31.84129905700684",
         "90.3279037475586",
         "90.3279037475586",
         "90.3279037475586",
         "90.3279037475586",
         "0.0",
         "0.0",
         "0.0",
         "75.88749694824219",
         "75.88749694824219",
         "75.88749694824219",
         "-5.0",
         "191631.0",
         "0.0",
         "0.0",
         "100.0",
         "NotFound",
         "52.0",
         "Found",
         "Found",
         "121.0",
         "410.0",
         "142.0",
         "Found",
         "Found",
         "chrome 62.0",
         "F",
         "F",
         "T",
         "T",
         "desktop",
         "Windows"
        ],
        [
         "8",
         "2987040",
         "0",
         "87209",
         "75.887",
         "C",
         "13329",
         "569.0",
         "117.0",
         "visa",
         "226.0",
         "credit",
         "gmail.com",
         "gmail.com",
         "2.0",
         "5.0",
         "0.0",
         "1.0",
         "0.0",
         "1.0",
         "1.0",
         "1.0",
         "0.0",
         "1.0",
         "2.0",
         "2.0",
         "3.0",
         "2.0",
         "0.0",
         "0.0",
         "0.0",
         "0.0",
         "0.0",
         "0.0",
         "0.0",
         "0.0",
         "0.0",
         "0.0",
         "0.0",
         "0.0",
         "0.0",
         "1.0",
         "1.0",
         "1.0",
         "1.0",
         "1.0",
         "1.0",
         "1.0",
         "1.0",
         "1.0",
         "1.0",
         "1.0",
         "1.0",
         "1.0",
         "1.0",
         "1.0",
         "1.0",
         "1.0",
         "1.0",
         "1.0",
         "0.0",
         "0.0",
         "0.0",
         "0.0",
         "0.0",
         "0.0",
         "0.0",
         "0.0",
         "0.0",
         "0.0",
         "0.0",
         "0.0",
         "4.0",
         "4.0",
         "4.0",
         "5.0",
         "5.0",
         "2.0",
         "1.0",
         "2.0",
         "2.0",
         "5.0",
         "0.0",
         "0.0",
         "0.0",
         "2.0",
         "2.0",
         "2.0",
         "2.0",
         "2.0",
         "2.0",
         "2.0",
         "2.0",
         "2.0",
         "2.0",
         "2.0",
         "1.0",
         "1.0",
         "1.0",
         "1.0",
         "1.0",
         "1.0",
         "1.0",
         "1.0",
         "2.0",
         "2.0",
         "2.0",
         "242.1029052734375",
         "242.1029052734375",
         "242.1029052734375",
         "90.3279037475586",
         "31.84129905700684",
         "90.3279037475586",
         "90.3279037475586",
         "90.3279037475586",
         "90.3279037475586",
         "0.0",
         "0.0",
         "0.0",
         "151.77499389648438",
         "151.77499389648438",
         "151.77499389648438",
         "4.0",
         "4.0",
         "4.0",
         "4.0",
         "5.0",
         "5.0",
         "2.0",
         "2.0",
         "2.0",
         "0.0",
         "2.0",
         "5.0",
         "5.0",
         "5.0",
         "0.0",
         "0.0",
         "0.0",
         "2.0",
         "2.0",
         "2.0",
         "2.0",
         "2.0",
         "2.0",
         "1.0",
         "1.0",
         "2.0",
         "2.0",
         "2.0",
         "2.0",
         "2.0",
         "1.0",
         "1.0",
         "1.0",
         "1.0",
         "1.0",
         "1.0",
         "1.0",
         "1.0",
         "1.0",
         "1.0",
         "2.0",
         "2.0",
         "2.0",
         "1.0",
         "1.0",
         "1.0",
         "242.1029052734375",
         "242.1029052734375",
         "242.1029052734375",
         "90.3279037475586",
         "90.3279037475586",
         "90.3279037475586",
         "0.0",
         "90.3279037475586",
         "90.3279037475586",
         "90.3279037475586",
         "0.0",
         "0.0",
         "0.0",
         "151.77499389648438",
         "151.77499389648438",
         "151.77499389648438",
         "0.0",
         "0.0",
         "0.0",
         "1.0",
         "1.0",
         "0.0",
         "0.0",
         "0.0",
         "0.0",
         "0.0",
         "0.0",
         "1.0",
         "1.0",
         "1.0",
         "0.0",
         "0.0",
         "0.0",
         "0.0",
         "0.0",
         "0.0",
         "0.0",
         "0.0",
         "0.0",
         "1.0",
         "1.0",
         "1.0",
         "1.0",
         "0.0",
         "0.0",
         "0.0",
         "0.0",
         "0.0",
         "0.0",
         "0.0",
         "0.0",
         "0.0",
         "0.0",
         "0.0",
         "0.0",
         "0.0",
         "0.0",
         "0.0",
         "0.0",
         "-10.0",
         "116098.0",
         "0.0",
         "0.0",
         "100.0",
         "NotFound",
         "52.0",
         "Found",
         "Found",
         "121.0",
         "410.0",
         "142.0",
         "Found",
         "Found",
         "chrome 62.0",
         "F",
         "F",
         "T",
         "T",
         "desktop",
         "Windows"
        ],
        [
         "9",
         "2987048",
         "0",
         "87317",
         "42.294",
         "C",
         "15885",
         "545.0",
         "185.0",
         "visa",
         "138.0",
         "debit",
         "outlook.com",
         "outlook.com",
         "1.0",
         "1.0",
         "0.0",
         "1.0",
         "0.0",
         "1.0",
         "1.0",
         "1.0",
         "0.0",
         "1.0",
         "1.0",
         "1.0",
         "1.0",
         "1.0",
         "0.0",
         "0.0",
         "0.0",
         "0.0",
         "0.0",
         "0.0",
         "0.0",
         "0.0",
         "0.0",
         "0.0",
         "0.0",
         "0.0",
         "0.0",
         "1.0",
         "1.0",
         "1.0",
         "1.0",
         "1.0",
         "1.0",
         "1.0",
         "1.0",
         "1.0",
         "1.0",
         "1.0",
         "1.0",
         "1.0",
         "1.0",
         "1.0",
         "1.0",
         "1.0",
         "1.0",
         "1.0",
         "0.0",
         "0.0",
         "0.0",
         "0.0",
         "0.0",
         "0.0",
         "0.0",
         "0.0",
         "0.0",
         "0.0",
         "0.0",
         "0.0",
         "0.0",
         "0.0",
         "0.0",
         "1.0",
         "1.0",
         "0.0",
         "0.0",
         "0.0",
         "0.0",
         "1.0",
         "0.0",
         "0.0",
         "0.0",
         "0.0",
         "0.0",
         "0.0",
         "0.0",
         "0.0",
         "0.0",
         "1.0",
         "1.0",
         "1.0",
         "1.0",
         "1.0",
         "1.0",
         "1.0",
         "1.0",
         "1.0",
         "1.0",
         "1.0",
         "1.0",
         "1.0",
         "1.0",
         "1.0",
         "1.0",
         "0.0",
         "0.0",
         "0.0",
         "0.0",
         "0.0",
         "0.0",
         "0.0",
         "0.0",
         "0.0",
         "0.0",
         "0.0",
         "0.0",
         "0.0",
         "0.0",
         "0.0",
         "0.0",
         "0.0",
         "0.0",
         "0.0",
         "1.0",
         "1.0",
         "0.0",
         "0.0",
         "0.0",
         "0.0",
         "0.0",
         "1.0",
         "1.0",
         "1.0",
         "0.0",
         "0.0",
         "0.0",
         "0.0",
         "0.0",
         "0.0",
         "0.0",
         "0.0",
         "0.0",
         "1.0",
         "1.0",
         "1.0",
         "1.0",
         "1.0",
         "1.0",
         "1.0",
         "1.0",
         "1.0",
         "1.0",
         "1.0",
         "1.0",
         "1.0",
         "1.0",
         "1.0",
         "1.0",
         "1.0",
         "1.0",
         "1.0",
         "1.0",
         "1.0",
         "1.0",
         "1.0",
         "0.0",
         "0.0",
         "0.0",
         "0.0",
         "0.0",
         "0.0",
         "0.0",
         "0.0",
         "0.0",
         "0.0",
         "0.0",
         "0.0",
         "0.0",
         "0.0",
         "0.0",
         "0.0",
         "0.0",
         "0.0",
         "0.0",
         "1.0",
         "1.0",
         "0.0",
         "0.0",
         "0.0",
         "0.0",
         "0.0",
         "0.0",
         "1.0",
         "1.0",
         "1.0",
         "0.0",
         "0.0",
         "0.0",
         "0.0",
         "0.0",
         "0.0",
         "0.0",
         "0.0",
         "0.0",
         "1.0",
         "1.0",
         "1.0",
         "1.0",
         "0.0",
         "0.0",
         "0.0",
         "0.0",
         "0.0",
         "0.0",
         "0.0",
         "0.0",
         "0.0",
         "0.0",
         "0.0",
         "0.0",
         "0.0",
         "0.0",
         "0.0",
         "0.0",
         "-5.0",
         "257037.0",
         "0.0",
         "0.0",
         "100.0",
         "NotFound",
         "52.0",
         "New",
         "NotFound",
         "225.0",
         "484.0",
         "507.0",
         "New",
         "NotFound",
         "chrome 62.0",
         "F",
         "F",
         "T",
         "T",
         "desktop",
         "Windows"
        ],
        [
         "10",
         "2987049",
         "0",
         "87317",
         "3.595",
         "C",
         "12730",
         "266.0",
         "185.0",
         "mastercard",
         "224.0",
         "credit",
         "anonymous.com",
         "anonymous.com",
         "1.0",
         "2.0",
         "0.0",
         "2.0",
         "0.0",
         "2.0",
         "2.0",
         "2.0",
         "0.0",
         "2.0",
         "1.0",
         "1.0",
         "2.0",
         "1.0",
         "66.0",
         "0.0",
         "0.0",
         "0.0",
         "0.0",
         "0.0",
         "0.0",
         "0.0",
         "0.0",
         "0.0",
         "0.0",
         "0.0",
         "0.0",
         "1.0",
         "1.0",
         "1.0",
         "1.0",
         "1.0",
         "1.0",
         "1.0",
         "1.0",
         "1.0",
         "1.0",
         "1.0",
         "1.0",
         "1.0",
         "1.0",
         "1.0",
         "1.0",
         "1.0",
         "1.0",
         "1.0",
         "0.0",
         "0.0",
         "0.0",
         "0.0",
         "0.0",
         "0.0",
         "0.0",
         "0.0",
         "0.0",
         "0.0",
         "0.0",
         "0.0",
         "0.0",
         "0.0",
         "0.0",
         "1.0",
         "1.0",
         "0.0",
         "0.0",
         "0.0",
         "0.0",
         "1.0",
         "0.0",
         "0.0",
         "0.0",
         "0.0",
         "0.0",
         "0.0",
         "0.0",
         "0.0",
         "0.0",
         "1.0",
         "1.0",
         "1.0",
         "1.0",
         "1.0",
         "1.0",
         "1.0",
         "1.0",
         "1.0",
         "1.0",
         "1.0",
         "1.0",
         "1.0",
         "1.0",
         "1.0",
         "1.0",
         "0.0",
         "0.0",
         "0.0",
         "0.0",
         "0.0",
         "0.0",
         "0.0",
         "0.0",
         "0.0",
         "0.0",
         "0.0",
         "0.0",
         "0.0",
         "0.0",
         "0.0",
         "0.0",
         "0.0",
         "0.0",
         "0.0",
         "1.0",
         "1.0",
         "0.0",
         "0.0",
         "0.0",
         "0.0",
         "0.0",
         "1.0",
         "1.0",
         "1.0",
         "0.0",
         "0.0",
         "0.0",
         "0.0",
         "0.0",
         "0.0",
         "0.0",
         "0.0",
         "0.0",
         "1.0",
         "1.0",
         "1.0",
         "1.0",
         "1.0",
         "1.0",
         "1.0",
         "1.0",
         "1.0",
         "1.0",
         "1.0",
         "1.0",
         "1.0",
         "1.0",
         "1.0",
         "1.0",
         "1.0",
         "1.0",
         "1.0",
         "1.0",
         "1.0",
         "1.0",
         "1.0",
         "0.0",
         "0.0",
         "0.0",
         "0.0",
         "0.0",
         "0.0",
         "0.0",
         "0.0",
         "0.0",
         "0.0",
         "0.0",
         "0.0",
         "0.0",
         "0.0",
         "0.0",
         "0.0",
         "0.0",
         "0.0",
         "0.0",
         "0.0",
         "0.0",
         "0.0",
         "0.0",
         "0.0",
         "0.0",
         "0.0",
         "0.0",
         "1.0",
         "1.0",
         "1.0",
         "0.0",
         "0.0",
         "0.0",
         "0.0",
         "0.0",
         "0.0",
         "0.0",
         "0.0",
         "0.0",
         "1.0",
         "1.0",
         "1.0",
         "1.0",
         "0.0",
         "0.0",
         "0.0",
         "0.0",
         "0.0",
         "0.0",
         "0.0",
         "0.0",
         "0.0",
         "0.0",
         "0.0",
         "0.0",
         "0.0",
         "0.0",
         "0.0",
         "0.0",
         "-5.0",
         "287959.0",
         "1.0",
         "-11.0",
         "100.0",
         "NotFound",
         "52.0",
         "New",
         "NotFound",
         "225.0",
         "254.0",
         "507.0",
         "New",
         "NotFound",
         "chrome 62.0",
         "F",
         "F",
         "T",
         "T",
         "desktop",
         "Windows"
        ],
        [
         "15",
         "2987072",
         "0",
         "87752",
         "6.767",
         "C",
         "13832",
         "375.0",
         "185.0",
         "mastercard",
         "224.0",
         "debit",
         "outlook.com",
         "outlook.com",
         "1.0",
         "1.0",
         "0.0",
         "1.0",
         "0.0",
         "1.0",
         "1.0",
         "1.0",
         "0.0",
         "1.0",
         "1.0",
         "1.0",
         "1.0",
         "1.0",
         "0.0",
         "0.0",
         "0.0",
         "0.0",
         "0.0",
         "0.0",
         "0.0",
         "0.0",
         "0.0",
         "0.0",
         "0.0",
         "0.0",
         "0.0",
         "1.0",
         "1.0",
         "1.0",
         "1.0",
         "1.0",
         "1.0",
         "1.0",
         "1.0",
         "1.0",
         "1.0",
         "1.0",
         "1.0",
         "1.0",
         "1.0",
         "1.0",
         "1.0",
         "1.0",
         "1.0",
         "1.0",
         "0.0",
         "0.0",
         "0.0",
         "0.0",
         "0.0",
         "0.0",
         "0.0",
         "0.0",
         "0.0",
         "0.0",
         "0.0",
         "0.0",
         "0.0",
         "0.0",
         "0.0",
         "1.0",
         "1.0",
         "0.0",
         "0.0",
         "0.0",
         "0.0",
         "1.0",
         "0.0",
         "0.0",
         "0.0",
         "0.0",
         "0.0",
         "0.0",
         "0.0",
         "0.0",
         "0.0",
         "1.0",
         "1.0",
         "1.0",
         "1.0",
         "1.0",
         "1.0",
         "1.0",
         "1.0",
         "1.0",
         "1.0",
         "1.0",
         "1.0",
         "1.0",
         "1.0",
         "1.0",
         "1.0",
         "0.0",
         "0.0",
         "0.0",
         "0.0",
         "0.0",
         "0.0",
         "0.0",
         "0.0",
         "0.0",
         "0.0",
         "0.0",
         "0.0",
         "0.0",
         "0.0",
         "0.0",
         "0.0",
         "0.0",
         "0.0",
         "0.0",
         "1.0",
         "1.0",
         "0.0",
         "0.0",
         "0.0",
         "0.0",
         "0.0",
         "1.0",
         "1.0",
         "1.0",
         "0.0",
         "0.0",
         "0.0",
         "0.0",
         "0.0",
         "0.0",
         "0.0",
         "0.0",
         "0.0",
         "1.0",
         "1.0",
         "1.0",
         "1.0",
         "1.0",
         "1.0",
         "1.0",
         "1.0",
         "1.0",
         "1.0",
         "1.0",
         "1.0",
         "1.0",
         "1.0",
         "1.0",
         "1.0",
         "1.0",
         "1.0",
         "1.0",
         "1.0",
         "1.0",
         "1.0",
         "1.0",
         "0.0",
         "0.0",
         "0.0",
         "0.0",
         "0.0",
         "0.0",
         "0.0",
         "0.0",
         "0.0",
         "0.0",
         "0.0",
         "0.0",
         "0.0",
         "0.0",
         "0.0",
         "0.0",
         "0.0",
         "0.0",
         "0.0",
         "1.0",
         "1.0",
         "0.0",
         "0.0",
         "0.0",
         "0.0",
         "0.0",
         "0.0",
         "1.0",
         "1.0",
         "1.0",
         "0.0",
         "0.0",
         "0.0",
         "0.0",
         "0.0",
         "0.0",
         "0.0",
         "0.0",
         "0.0",
         "1.0",
         "1.0",
         "1.0",
         "1.0",
         "0.0",
         "0.0",
         "0.0",
         "0.0",
         "0.0",
         "0.0",
         "0.0",
         "0.0",
         "0.0",
         "0.0",
         "0.0",
         "0.0",
         "0.0",
         "0.0",
         "0.0",
         "0.0",
         "0.0",
         "275611.0",
         "0.0",
         "0.0",
         "100.0",
         "NotFound",
         "20.0",
         "New",
         "NotFound",
         "225.0",
         "266.0",
         "566.0",
         "New",
         "NotFound",
         "chrome 62.0 for android",
         "F",
         "F",
         "T",
         "T",
         "mobile",
         "BLADE A602 Build/MRA58K"
        ]
       ],
       "shape": {
        "columns": 247,
        "rows": 5
       }
      },
      "text/html": [
       "<div>\n",
       "<style scoped>\n",
       "    .dataframe tbody tr th:only-of-type {\n",
       "        vertical-align: middle;\n",
       "    }\n",
       "\n",
       "    .dataframe tbody tr th {\n",
       "        vertical-align: top;\n",
       "    }\n",
       "\n",
       "    .dataframe thead th {\n",
       "        text-align: right;\n",
       "    }\n",
       "</style>\n",
       "<table border=\"1\" class=\"dataframe\">\n",
       "  <thead>\n",
       "    <tr style=\"text-align: right;\">\n",
       "      <th></th>\n",
       "      <th>TransactionID</th>\n",
       "      <th>isFraud</th>\n",
       "      <th>TransactionDT</th>\n",
       "      <th>TransactionAmt</th>\n",
       "      <th>ProductCD</th>\n",
       "      <th>card1</th>\n",
       "      <th>card2</th>\n",
       "      <th>card3</th>\n",
       "      <th>card4</th>\n",
       "      <th>card5</th>\n",
       "      <th>...</th>\n",
       "      <th>id_20</th>\n",
       "      <th>id_28</th>\n",
       "      <th>id_29</th>\n",
       "      <th>id_31</th>\n",
       "      <th>id_35</th>\n",
       "      <th>id_36</th>\n",
       "      <th>id_37</th>\n",
       "      <th>id_38</th>\n",
       "      <th>DeviceType</th>\n",
       "      <th>DeviceInfo</th>\n",
       "    </tr>\n",
       "  </thead>\n",
       "  <tbody>\n",
       "    <tr>\n",
       "      <th>2</th>\n",
       "      <td>2987010</td>\n",
       "      <td>0</td>\n",
       "      <td>86549</td>\n",
       "      <td>75.887</td>\n",
       "      <td>C</td>\n",
       "      <td>16496</td>\n",
       "      <td>352.0</td>\n",
       "      <td>117.0</td>\n",
       "      <td>mastercard</td>\n",
       "      <td>134.0</td>\n",
       "      <td>...</td>\n",
       "      <td>142.0</td>\n",
       "      <td>Found</td>\n",
       "      <td>Found</td>\n",
       "      <td>chrome 62.0</td>\n",
       "      <td>F</td>\n",
       "      <td>F</td>\n",
       "      <td>T</td>\n",
       "      <td>T</td>\n",
       "      <td>desktop</td>\n",
       "      <td>Windows</td>\n",
       "    </tr>\n",
       "    <tr>\n",
       "      <th>8</th>\n",
       "      <td>2987040</td>\n",
       "      <td>0</td>\n",
       "      <td>87209</td>\n",
       "      <td>75.887</td>\n",
       "      <td>C</td>\n",
       "      <td>13329</td>\n",
       "      <td>569.0</td>\n",
       "      <td>117.0</td>\n",
       "      <td>visa</td>\n",
       "      <td>226.0</td>\n",
       "      <td>...</td>\n",
       "      <td>142.0</td>\n",
       "      <td>Found</td>\n",
       "      <td>Found</td>\n",
       "      <td>chrome 62.0</td>\n",
       "      <td>F</td>\n",
       "      <td>F</td>\n",
       "      <td>T</td>\n",
       "      <td>T</td>\n",
       "      <td>desktop</td>\n",
       "      <td>Windows</td>\n",
       "    </tr>\n",
       "    <tr>\n",
       "      <th>9</th>\n",
       "      <td>2987048</td>\n",
       "      <td>0</td>\n",
       "      <td>87317</td>\n",
       "      <td>42.294</td>\n",
       "      <td>C</td>\n",
       "      <td>15885</td>\n",
       "      <td>545.0</td>\n",
       "      <td>185.0</td>\n",
       "      <td>visa</td>\n",
       "      <td>138.0</td>\n",
       "      <td>...</td>\n",
       "      <td>507.0</td>\n",
       "      <td>New</td>\n",
       "      <td>NotFound</td>\n",
       "      <td>chrome 62.0</td>\n",
       "      <td>F</td>\n",
       "      <td>F</td>\n",
       "      <td>T</td>\n",
       "      <td>T</td>\n",
       "      <td>desktop</td>\n",
       "      <td>Windows</td>\n",
       "    </tr>\n",
       "    <tr>\n",
       "      <th>10</th>\n",
       "      <td>2987049</td>\n",
       "      <td>0</td>\n",
       "      <td>87317</td>\n",
       "      <td>3.595</td>\n",
       "      <td>C</td>\n",
       "      <td>12730</td>\n",
       "      <td>266.0</td>\n",
       "      <td>185.0</td>\n",
       "      <td>mastercard</td>\n",
       "      <td>224.0</td>\n",
       "      <td>...</td>\n",
       "      <td>507.0</td>\n",
       "      <td>New</td>\n",
       "      <td>NotFound</td>\n",
       "      <td>chrome 62.0</td>\n",
       "      <td>F</td>\n",
       "      <td>F</td>\n",
       "      <td>T</td>\n",
       "      <td>T</td>\n",
       "      <td>desktop</td>\n",
       "      <td>Windows</td>\n",
       "    </tr>\n",
       "    <tr>\n",
       "      <th>15</th>\n",
       "      <td>2987072</td>\n",
       "      <td>0</td>\n",
       "      <td>87752</td>\n",
       "      <td>6.767</td>\n",
       "      <td>C</td>\n",
       "      <td>13832</td>\n",
       "      <td>375.0</td>\n",
       "      <td>185.0</td>\n",
       "      <td>mastercard</td>\n",
       "      <td>224.0</td>\n",
       "      <td>...</td>\n",
       "      <td>566.0</td>\n",
       "      <td>New</td>\n",
       "      <td>NotFound</td>\n",
       "      <td>chrome 62.0 for android</td>\n",
       "      <td>F</td>\n",
       "      <td>F</td>\n",
       "      <td>T</td>\n",
       "      <td>T</td>\n",
       "      <td>mobile</td>\n",
       "      <td>BLADE A602 Build/MRA58K</td>\n",
       "    </tr>\n",
       "  </tbody>\n",
       "</table>\n",
       "<p>5 rows × 247 columns</p>\n",
       "</div>"
      ],
      "text/plain": [
       "    TransactionID  isFraud  TransactionDT  TransactionAmt ProductCD  card1  \\\n",
       "2         2987010        0          86549          75.887         C  16496   \n",
       "8         2987040        0          87209          75.887         C  13329   \n",
       "9         2987048        0          87317          42.294         C  15885   \n",
       "10        2987049        0          87317           3.595         C  12730   \n",
       "15        2987072        0          87752           6.767         C  13832   \n",
       "\n",
       "    card2  card3       card4  card5  ...  id_20  id_28     id_29  \\\n",
       "2   352.0  117.0  mastercard  134.0  ...  142.0  Found     Found   \n",
       "8   569.0  117.0        visa  226.0  ...  142.0  Found     Found   \n",
       "9   545.0  185.0        visa  138.0  ...  507.0    New  NotFound   \n",
       "10  266.0  185.0  mastercard  224.0  ...  507.0    New  NotFound   \n",
       "15  375.0  185.0  mastercard  224.0  ...  566.0    New  NotFound   \n",
       "\n",
       "                      id_31  id_35  id_36  id_37  id_38  DeviceType  \\\n",
       "2               chrome 62.0      F      F      T      T     desktop   \n",
       "8               chrome 62.0      F      F      T      T     desktop   \n",
       "9               chrome 62.0      F      F      T      T     desktop   \n",
       "10              chrome 62.0      F      F      T      T     desktop   \n",
       "15  chrome 62.0 for android      F      F      T      T      mobile   \n",
       "\n",
       "                 DeviceInfo  \n",
       "2                   Windows  \n",
       "8                   Windows  \n",
       "9                   Windows  \n",
       "10                  Windows  \n",
       "15  BLADE A602 Build/MRA58K  \n",
       "\n",
       "[5 rows x 247 columns]"
      ]
     },
     "execution_count": 27,
     "metadata": {},
     "output_type": "execute_result"
    }
   ],
   "source": [
    "print(df_full_cleaned.shape)\n",
    "df_full_cleaned.head()"
   ]
  },
  {
   "cell_type": "code",
   "execution_count": 28,
   "id": "ed6522e3",
   "metadata": {},
   "outputs": [
    {
     "name": "stdout",
     "output_type": "stream",
     "text": [
      "id_arr shape: ['id_01', 'id_02', 'id_05', 'id_06', 'id_11', 'id_12', 'id_13', 'id_15', 'id_16', 'id_17', 'id_19', 'id_20', 'id_28', 'id_29', 'id_31', 'id_35', 'id_36', 'id_37', 'id_38']\n",
      "card_arr shape: ['card1', 'card2', 'card3', 'card4', 'card5', 'card6']\n",
      "v_arr shape: ['V95', 'V96', 'V97', 'V98', 'V99', 'V100', 'V101', 'V102', 'V103', 'V104', 'V105', 'V106', 'V107', 'V108', 'V109', 'V110', 'V111', 'V112', 'V113', 'V114', 'V115', 'V116', 'V117', 'V118', 'V119', 'V120', 'V121', 'V122', 'V123', 'V124', 'V125', 'V126', 'V127', 'V128', 'V129', 'V130', 'V131', 'V132', 'V133', 'V134', 'V135', 'V136', 'V137', 'V167', 'V168', 'V169', 'V170', 'V171', 'V172', 'V173', 'V174', 'V175', 'V176', 'V177', 'V178', 'V179', 'V180', 'V181', 'V182', 'V183', 'V184', 'V185', 'V186', 'V187', 'V188', 'V189', 'V190', 'V191', 'V192', 'V193', 'V194', 'V195', 'V196', 'V197', 'V198', 'V199', 'V200', 'V201', 'V202', 'V203', 'V204', 'V205', 'V206', 'V207', 'V208', 'V209', 'V210', 'V211', 'V212', 'V213', 'V214', 'V215', 'V216', 'V217', 'V218', 'V219', 'V220', 'V221', 'V222', 'V223', 'V224', 'V225', 'V226', 'V227', 'V228', 'V229', 'V230', 'V231', 'V232', 'V233', 'V234', 'V235', 'V236', 'V237', 'V238', 'V239', 'V240', 'V241', 'V242', 'V243', 'V244', 'V245', 'V246', 'V247', 'V248', 'V249', 'V250', 'V251', 'V252', 'V253', 'V254', 'V255', 'V256', 'V257', 'V258', 'V259', 'V260', 'V261', 'V262', 'V263', 'V264', 'V265', 'V266', 'V267', 'V268', 'V269', 'V270', 'V271', 'V272', 'V273', 'V274', 'V275', 'V276', 'V277', 'V278', 'V279', 'V280', 'V281', 'V282', 'V283', 'V284', 'V285', 'V286', 'V287', 'V288', 'V289', 'V290', 'V291', 'V292', 'V293', 'V294', 'V295', 'V296', 'V297', 'V298', 'V299', 'V300', 'V301', 'V302', 'V303', 'V304', 'V305', 'V306', 'V307', 'V308', 'V309', 'V310', 'V311', 'V312', 'V313', 'V314', 'V315', 'V316', 'V317', 'V318', 'V319', 'V320', 'V321']\n"
     ]
    }
   ],
   "source": [
    "# Example usage:\n",
    "id_cols, card_cols, v_cols = split_by_suffix(df_full_reduced)\n",
    "\n",
    "print(\"id_arr shape:\", id_cols)\n",
    "print(\"card_arr shape:\", card_cols)\n",
    "print(\"v_arr shape:\", v_cols)"
   ]
  },
  {
   "cell_type": "code",
   "execution_count": 29,
   "id": "dec6acb9",
   "metadata": {},
   "outputs": [
    {
     "data": {
      "text/html": [
       "\n",
       "        <iframe\n",
       "            width=\"100%\"\n",
       "            height=\"475\"\n",
       "            src=\"http://Jorges-Mac-mini.local:40000/dtale/iframe/4\"\n",
       "            frameborder=\"0\"\n",
       "            allowfullscreen\n",
       "            \n",
       "        ></iframe>\n",
       "        "
      ],
      "text/plain": [
       "<IPython.lib.display.IFrame at 0x1739749e0>"
      ]
     },
     "metadata": {},
     "output_type": "display_data"
    },
    {
     "data": {
      "text/plain": []
     },
     "execution_count": 29,
     "metadata": {},
     "output_type": "execute_result"
    }
   ],
   "source": [
    "\n",
    "dtale.show(df_full_cleaned)"
   ]
  }
 ],
 "metadata": {
  "kernelspec": {
   "display_name": "tpfinal",
   "language": "python",
   "name": "python3"
  },
  "language_info": {
   "codemirror_mode": {
    "name": "ipython",
    "version": 3
   },
   "file_extension": ".py",
   "mimetype": "text/x-python",
   "name": "python",
   "nbconvert_exporter": "python",
   "pygments_lexer": "ipython3",
   "version": "3.12.2"
  }
 },
 "nbformat": 4,
 "nbformat_minor": 5
}
